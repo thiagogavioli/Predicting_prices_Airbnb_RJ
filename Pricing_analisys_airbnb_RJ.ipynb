{
  "nbformat": 4,
  "nbformat_minor": 0,
  "metadata": {
    "colab": {
      "name": "Pricing_analisys_airbnb_RJ.ipynb",
      "provenance": [],
      "collapsed_sections": []
    },
    "kernelspec": {
      "name": "python3",
      "display_name": "Python 3"
    },
    "language_info": {
      "name": "python"
    }
  },
  "cells": [
    {
      "cell_type": "code",
      "metadata": {
        "colab": {
          "base_uri": "https://localhost:8080/"
        },
        "id": "LzFnfpNFCyly",
        "outputId": "a0271536-b8b0-4398-d5f1-5e1b4b1a5c83"
      },
      "source": [
        "# Montando o Drive\n",
        "from google.colab import drive\n",
        "drive.mount('/content/drive')"
      ],
      "execution_count": 105,
      "outputs": [
        {
          "output_type": "stream",
          "name": "stdout",
          "text": [
            "Drive already mounted at /content/drive; to attempt to forcibly remount, call drive.mount(\"/content/drive\", force_remount=True).\n"
          ]
        }
      ]
    },
    {
      "cell_type": "code",
      "metadata": {
        "id": "O1VSVQwgC0ZX"
      },
      "source": [
        "# Setando o Diretório\n",
        "import os\n",
        "workdir_path = '/content/drive/My Drive/airbnb/rj'  # Inserir o local da pasta onde estão os arquivos de entrada (treino e teste)\n",
        "os.chdir(workdir_path)"
      ],
      "execution_count": 106,
      "outputs": []
    },
    {
      "cell_type": "code",
      "metadata": {
        "colab": {
          "base_uri": "https://localhost:8080/"
        },
        "id": "Hk1r82BuDENQ",
        "outputId": "cfb217c2-67f8-4c47-a728-c03555f6640d"
      },
      "source": [
        "!ls"
      ],
      "execution_count": 107,
      "outputs": [
        {
          "output_type": "stream",
          "name": "stdout",
          "text": [
            "calendar.csv  listings.csv\n"
          ]
        }
      ]
    },
    {
      "cell_type": "code",
      "metadata": {
        "id": "14iXt_GXDFsE"
      },
      "source": [
        "# Instalando as Bibliotecas\n",
        "#!pip install implicit\n",
        "import numpy as np\n",
        "import pandas as pd\n",
        "import matplotlib.pyplot as plt\n",
        "import seaborn as sns\n",
        "import re\n",
        "from collections import Counter\n",
        "#import implicit \n",
        "\n",
        "import warnings\n",
        "warnings.simplefilter(action='ignore', category=FutureWarning)\n",
        "\n",
        "\n",
        "#Import machine learning\n",
        "import sklearn\n",
        "from sklearn.model_selection import train_test_split, GridSearchCV\n",
        "from sklearn.metrics import r2_score, mean_squared_error\n",
        "from sklearn.linear_model import LinearRegression\n",
        "from sklearn.ensemble import RandomForestRegressor\n",
        "from sklearn.svm import SVR\n",
        "import xgboost"
      ],
      "execution_count": 222,
      "outputs": []
    },
    {
      "cell_type": "markdown",
      "metadata": {
        "id": "qL0YvdZbe3FI"
      },
      "source": [
        "#Data Understanding"
      ]
    },
    {
      "cell_type": "code",
      "metadata": {
        "colab": {
          "base_uri": "https://localhost:8080/",
          "height": 383
        },
        "id": "RtSdirL_DOdL",
        "outputId": "21a6538b-f613-44f3-d98c-19de3c9a1903"
      },
      "source": [
        "#Loading and checking listings dataframe\n",
        "df = pd.read_csv('listings.csv')\n",
        "df.head(3)"
      ],
      "execution_count": 109,
      "outputs": [
        {
          "output_type": "execute_result",
          "data": {
            "text/html": [
              "<div>\n",
              "<style scoped>\n",
              "    .dataframe tbody tr th:only-of-type {\n",
              "        vertical-align: middle;\n",
              "    }\n",
              "\n",
              "    .dataframe tbody tr th {\n",
              "        vertical-align: top;\n",
              "    }\n",
              "\n",
              "    .dataframe thead th {\n",
              "        text-align: right;\n",
              "    }\n",
              "</style>\n",
              "<table border=\"1\" class=\"dataframe\">\n",
              "  <thead>\n",
              "    <tr style=\"text-align: right;\">\n",
              "      <th></th>\n",
              "      <th>id</th>\n",
              "      <th>listing_url</th>\n",
              "      <th>scrape_id</th>\n",
              "      <th>last_scraped</th>\n",
              "      <th>name</th>\n",
              "      <th>description</th>\n",
              "      <th>neighborhood_overview</th>\n",
              "      <th>picture_url</th>\n",
              "      <th>host_id</th>\n",
              "      <th>host_url</th>\n",
              "      <th>host_name</th>\n",
              "      <th>host_since</th>\n",
              "      <th>host_location</th>\n",
              "      <th>host_about</th>\n",
              "      <th>host_response_time</th>\n",
              "      <th>host_response_rate</th>\n",
              "      <th>host_acceptance_rate</th>\n",
              "      <th>host_is_superhost</th>\n",
              "      <th>host_thumbnail_url</th>\n",
              "      <th>host_picture_url</th>\n",
              "      <th>host_neighbourhood</th>\n",
              "      <th>host_listings_count</th>\n",
              "      <th>host_total_listings_count</th>\n",
              "      <th>host_verifications</th>\n",
              "      <th>host_has_profile_pic</th>\n",
              "      <th>host_identity_verified</th>\n",
              "      <th>neighbourhood</th>\n",
              "      <th>neighbourhood_cleansed</th>\n",
              "      <th>neighbourhood_group_cleansed</th>\n",
              "      <th>latitude</th>\n",
              "      <th>longitude</th>\n",
              "      <th>property_type</th>\n",
              "      <th>room_type</th>\n",
              "      <th>accommodates</th>\n",
              "      <th>bathrooms</th>\n",
              "      <th>bathrooms_text</th>\n",
              "      <th>bedrooms</th>\n",
              "      <th>beds</th>\n",
              "      <th>amenities</th>\n",
              "      <th>price</th>\n",
              "      <th>minimum_nights</th>\n",
              "      <th>maximum_nights</th>\n",
              "      <th>minimum_minimum_nights</th>\n",
              "      <th>maximum_minimum_nights</th>\n",
              "      <th>minimum_maximum_nights</th>\n",
              "      <th>maximum_maximum_nights</th>\n",
              "      <th>minimum_nights_avg_ntm</th>\n",
              "      <th>maximum_nights_avg_ntm</th>\n",
              "      <th>calendar_updated</th>\n",
              "      <th>has_availability</th>\n",
              "      <th>availability_30</th>\n",
              "      <th>availability_60</th>\n",
              "      <th>availability_90</th>\n",
              "      <th>availability_365</th>\n",
              "      <th>calendar_last_scraped</th>\n",
              "      <th>number_of_reviews</th>\n",
              "      <th>number_of_reviews_ltm</th>\n",
              "      <th>number_of_reviews_l30d</th>\n",
              "      <th>first_review</th>\n",
              "      <th>last_review</th>\n",
              "      <th>review_scores_rating</th>\n",
              "      <th>review_scores_accuracy</th>\n",
              "      <th>review_scores_cleanliness</th>\n",
              "      <th>review_scores_checkin</th>\n",
              "      <th>review_scores_communication</th>\n",
              "      <th>review_scores_location</th>\n",
              "      <th>review_scores_value</th>\n",
              "      <th>license</th>\n",
              "      <th>instant_bookable</th>\n",
              "      <th>calculated_host_listings_count</th>\n",
              "      <th>calculated_host_listings_count_entire_homes</th>\n",
              "      <th>calculated_host_listings_count_private_rooms</th>\n",
              "      <th>calculated_host_listings_count_shared_rooms</th>\n",
              "      <th>reviews_per_month</th>\n",
              "    </tr>\n",
              "  </thead>\n",
              "  <tbody>\n",
              "    <tr>\n",
              "      <th>0</th>\n",
              "      <td>17878</td>\n",
              "      <td>https://www.airbnb.com/rooms/17878</td>\n",
              "      <td>20210928134526</td>\n",
              "      <td>2021-09-28</td>\n",
              "      <td>Very Nice 2Br in Copacabana w. balcony, fast WiFi</td>\n",
              "      <td>Discounts for long term stays. &lt;br /&gt;- Large b...</td>\n",
              "      <td>This is the one of the bests spots in Rio. Bec...</td>\n",
              "      <td>https://a0.muscache.com/pictures/65320518/3069...</td>\n",
              "      <td>68997</td>\n",
              "      <td>https://www.airbnb.com/users/show/68997</td>\n",
              "      <td>Matthias</td>\n",
              "      <td>2010-01-08</td>\n",
              "      <td>Rio de Janeiro, State of Rio de Janeiro, Brazil</td>\n",
              "      <td>I  am a  journalist/writer. Lived  in NYC for ...</td>\n",
              "      <td>within an hour</td>\n",
              "      <td>100%</td>\n",
              "      <td>98%</td>\n",
              "      <td>f</td>\n",
              "      <td>https://a0.muscache.com/im/pictures/user/67b13...</td>\n",
              "      <td>https://a0.muscache.com/im/pictures/user/67b13...</td>\n",
              "      <td>Copacabana</td>\n",
              "      <td>2.0</td>\n",
              "      <td>2.0</td>\n",
              "      <td>['email', 'phone', 'reviews', 'jumio', 'offlin...</td>\n",
              "      <td>t</td>\n",
              "      <td>t</td>\n",
              "      <td>Rio de Janeiro, Brazil</td>\n",
              "      <td>Copacabana</td>\n",
              "      <td>NaN</td>\n",
              "      <td>-22.96599</td>\n",
              "      <td>-43.17940</td>\n",
              "      <td>Entire condominium (condo)</td>\n",
              "      <td>Entire home/apt</td>\n",
              "      <td>5</td>\n",
              "      <td>NaN</td>\n",
              "      <td>1 bath</td>\n",
              "      <td>2.0</td>\n",
              "      <td>2.0</td>\n",
              "      <td>[\"Hangers\", \"Dishes and silverware\", \"Iron\", \"...</td>\n",
              "      <td>$350.00</td>\n",
              "      <td>4</td>\n",
              "      <td>180</td>\n",
              "      <td>4</td>\n",
              "      <td>4</td>\n",
              "      <td>1125</td>\n",
              "      <td>1125</td>\n",
              "      <td>4.0</td>\n",
              "      <td>1125.0</td>\n",
              "      <td>NaN</td>\n",
              "      <td>t</td>\n",
              "      <td>16</td>\n",
              "      <td>46</td>\n",
              "      <td>69</td>\n",
              "      <td>314</td>\n",
              "      <td>2021-09-28</td>\n",
              "      <td>265</td>\n",
              "      <td>12</td>\n",
              "      <td>0</td>\n",
              "      <td>2011-03-30</td>\n",
              "      <td>2021-05-21</td>\n",
              "      <td>4.68</td>\n",
              "      <td>4.78</td>\n",
              "      <td>4.63</td>\n",
              "      <td>4.82</td>\n",
              "      <td>4.9</td>\n",
              "      <td>4.76</td>\n",
              "      <td>4.65</td>\n",
              "      <td>NaN</td>\n",
              "      <td>t</td>\n",
              "      <td>1</td>\n",
              "      <td>1</td>\n",
              "      <td>0</td>\n",
              "      <td>0</td>\n",
              "      <td>2.07</td>\n",
              "    </tr>\n",
              "    <tr>\n",
              "      <th>1</th>\n",
              "      <td>24480</td>\n",
              "      <td>https://www.airbnb.com/rooms/24480</td>\n",
              "      <td>20210928134526</td>\n",
              "      <td>2021-09-29</td>\n",
              "      <td>Nice and cozy near Ipanema Beach, w/ home office</td>\n",
              "      <td>My studio is located in the best of Ipanema, t...</td>\n",
              "      <td>The beach, the lagoon, Ipanema is a great loca...</td>\n",
              "      <td>https://a0.muscache.com/pictures/11955612/b28e...</td>\n",
              "      <td>99249</td>\n",
              "      <td>https://www.airbnb.com/users/show/99249</td>\n",
              "      <td>Goya</td>\n",
              "      <td>2010-03-26</td>\n",
              "      <td>Rio de Janeiro, Rio de Janeiro, Brazil</td>\n",
              "      <td>Welcome to Rio!\\nI am a human being fighting f...</td>\n",
              "      <td>within a day</td>\n",
              "      <td>50%</td>\n",
              "      <td>NaN</td>\n",
              "      <td>f</td>\n",
              "      <td>https://a0.muscache.com/im/pictures/user/6b404...</td>\n",
              "      <td>https://a0.muscache.com/im/pictures/user/6b404...</td>\n",
              "      <td>Ipanema</td>\n",
              "      <td>0.0</td>\n",
              "      <td>0.0</td>\n",
              "      <td>['email', 'phone', 'reviews', 'jumio', 'govern...</td>\n",
              "      <td>t</td>\n",
              "      <td>t</td>\n",
              "      <td>Rio de Janeiro, Brazil</td>\n",
              "      <td>Ipanema</td>\n",
              "      <td>NaN</td>\n",
              "      <td>-22.98405</td>\n",
              "      <td>-43.20189</td>\n",
              "      <td>Entire rental unit</td>\n",
              "      <td>Entire home/apt</td>\n",
              "      <td>2</td>\n",
              "      <td>NaN</td>\n",
              "      <td>1 bath</td>\n",
              "      <td>1.0</td>\n",
              "      <td>1.0</td>\n",
              "      <td>[\"Clothing storage: wardrobe\", \"Dining table\",...</td>\n",
              "      <td>$297.00</td>\n",
              "      <td>3</td>\n",
              "      <td>90</td>\n",
              "      <td>3</td>\n",
              "      <td>3</td>\n",
              "      <td>90</td>\n",
              "      <td>90</td>\n",
              "      <td>3.0</td>\n",
              "      <td>90.0</td>\n",
              "      <td>NaN</td>\n",
              "      <td>t</td>\n",
              "      <td>0</td>\n",
              "      <td>0</td>\n",
              "      <td>0</td>\n",
              "      <td>30</td>\n",
              "      <td>2021-09-29</td>\n",
              "      <td>85</td>\n",
              "      <td>0</td>\n",
              "      <td>0</td>\n",
              "      <td>2013-08-20</td>\n",
              "      <td>2017-04-22</td>\n",
              "      <td>4.73</td>\n",
              "      <td>4.83</td>\n",
              "      <td>4.78</td>\n",
              "      <td>4.90</td>\n",
              "      <td>4.9</td>\n",
              "      <td>4.97</td>\n",
              "      <td>4.58</td>\n",
              "      <td>NaN</td>\n",
              "      <td>f</td>\n",
              "      <td>1</td>\n",
              "      <td>1</td>\n",
              "      <td>0</td>\n",
              "      <td>0</td>\n",
              "      <td>0.86</td>\n",
              "    </tr>\n",
              "    <tr>\n",
              "      <th>2</th>\n",
              "      <td>25026</td>\n",
              "      <td>https://www.airbnb.com/rooms/25026</td>\n",
              "      <td>20210928134526</td>\n",
              "      <td>2021-09-28</td>\n",
              "      <td>Beautiful Modern Decorated Studio in Copa</td>\n",
              "      <td>Our apartment is a little gem, everyone loves ...</td>\n",
              "      <td>Copacabana is a lively neighborhood and the ap...</td>\n",
              "      <td>https://a0.muscache.com/pictures/3003965/68ebb...</td>\n",
              "      <td>102840</td>\n",
              "      <td>https://www.airbnb.com/users/show/102840</td>\n",
              "      <td>Viviane</td>\n",
              "      <td>2010-04-03</td>\n",
              "      <td>Rio de Janeiro, State of Rio de Janeiro, Brazil</td>\n",
              "      <td>Hi guys, We're a lovely team of 3 people:\\r\\n\\...</td>\n",
              "      <td>within a day</td>\n",
              "      <td>50%</td>\n",
              "      <td>36%</td>\n",
              "      <td>f</td>\n",
              "      <td>https://a0.muscache.com/im/pictures/user/9e204...</td>\n",
              "      <td>https://a0.muscache.com/im/pictures/user/9e204...</td>\n",
              "      <td>Copacabana</td>\n",
              "      <td>3.0</td>\n",
              "      <td>3.0</td>\n",
              "      <td>['email', 'phone', 'facebook', 'reviews', 'jum...</td>\n",
              "      <td>t</td>\n",
              "      <td>t</td>\n",
              "      <td>Rio de Janeiro, Brazil</td>\n",
              "      <td>Copacabana</td>\n",
              "      <td>NaN</td>\n",
              "      <td>-22.97735</td>\n",
              "      <td>-43.19105</td>\n",
              "      <td>Entire rental unit</td>\n",
              "      <td>Entire home/apt</td>\n",
              "      <td>2</td>\n",
              "      <td>NaN</td>\n",
              "      <td>1 bath</td>\n",
              "      <td>1.0</td>\n",
              "      <td>2.0</td>\n",
              "      <td>[\"Kitchen\", \"Cable TV\", \"Hangers\", \"Iron\", \"De...</td>\n",
              "      <td>$160.00</td>\n",
              "      <td>7</td>\n",
              "      <td>60</td>\n",
              "      <td>7</td>\n",
              "      <td>7</td>\n",
              "      <td>60</td>\n",
              "      <td>60</td>\n",
              "      <td>7.0</td>\n",
              "      <td>60.0</td>\n",
              "      <td>NaN</td>\n",
              "      <td>t</td>\n",
              "      <td>0</td>\n",
              "      <td>0</td>\n",
              "      <td>27</td>\n",
              "      <td>266</td>\n",
              "      <td>2021-09-28</td>\n",
              "      <td>238</td>\n",
              "      <td>0</td>\n",
              "      <td>0</td>\n",
              "      <td>2011-03-18</td>\n",
              "      <td>2019-04-27</td>\n",
              "      <td>4.68</td>\n",
              "      <td>4.65</td>\n",
              "      <td>4.76</td>\n",
              "      <td>4.77</td>\n",
              "      <td>4.9</td>\n",
              "      <td>4.81</td>\n",
              "      <td>4.56</td>\n",
              "      <td>NaN</td>\n",
              "      <td>f</td>\n",
              "      <td>2</td>\n",
              "      <td>2</td>\n",
              "      <td>0</td>\n",
              "      <td>0</td>\n",
              "      <td>1.86</td>\n",
              "    </tr>\n",
              "  </tbody>\n",
              "</table>\n",
              "</div>"
            ],
            "text/plain": [
              "      id  ... reviews_per_month\n",
              "0  17878  ...              2.07\n",
              "1  24480  ...              0.86\n",
              "2  25026  ...              1.86\n",
              "\n",
              "[3 rows x 74 columns]"
            ]
          },
          "metadata": {},
          "execution_count": 109
        }
      ]
    },
    {
      "cell_type": "code",
      "metadata": {
        "colab": {
          "base_uri": "https://localhost:8080/"
        },
        "id": "tIPUvNF2mHOb",
        "outputId": "9a556ada-6e8d-4d01-92df-fa4df0b85028"
      },
      "source": [
        "#SHape of listings dataframe\n",
        "df.shape"
      ],
      "execution_count": 110,
      "outputs": [
        {
          "output_type": "execute_result",
          "data": {
            "text/plain": [
              "(23414, 74)"
            ]
          },
          "metadata": {},
          "execution_count": 110
        }
      ]
    },
    {
      "cell_type": "code",
      "metadata": {
        "colab": {
          "base_uri": "https://localhost:8080/"
        },
        "id": "0EoItTHTDanj",
        "outputId": "5aa5bd43-4824-4176-ffd3-d6791d8550c0"
      },
      "source": [
        "#Column names of listings dataframe\n",
        "df.columns"
      ],
      "execution_count": 111,
      "outputs": [
        {
          "output_type": "execute_result",
          "data": {
            "text/plain": [
              "Index(['id', 'listing_url', 'scrape_id', 'last_scraped', 'name', 'description',\n",
              "       'neighborhood_overview', 'picture_url', 'host_id', 'host_url',\n",
              "       'host_name', 'host_since', 'host_location', 'host_about',\n",
              "       'host_response_time', 'host_response_rate', 'host_acceptance_rate',\n",
              "       'host_is_superhost', 'host_thumbnail_url', 'host_picture_url',\n",
              "       'host_neighbourhood', 'host_listings_count',\n",
              "       'host_total_listings_count', 'host_verifications',\n",
              "       'host_has_profile_pic', 'host_identity_verified', 'neighbourhood',\n",
              "       'neighbourhood_cleansed', 'neighbourhood_group_cleansed', 'latitude',\n",
              "       'longitude', 'property_type', 'room_type', 'accommodates', 'bathrooms',\n",
              "       'bathrooms_text', 'bedrooms', 'beds', 'amenities', 'price',\n",
              "       'minimum_nights', 'maximum_nights', 'minimum_minimum_nights',\n",
              "       'maximum_minimum_nights', 'minimum_maximum_nights',\n",
              "       'maximum_maximum_nights', 'minimum_nights_avg_ntm',\n",
              "       'maximum_nights_avg_ntm', 'calendar_updated', 'has_availability',\n",
              "       'availability_30', 'availability_60', 'availability_90',\n",
              "       'availability_365', 'calendar_last_scraped', 'number_of_reviews',\n",
              "       'number_of_reviews_ltm', 'number_of_reviews_l30d', 'first_review',\n",
              "       'last_review', 'review_scores_rating', 'review_scores_accuracy',\n",
              "       'review_scores_cleanliness', 'review_scores_checkin',\n",
              "       'review_scores_communication', 'review_scores_location',\n",
              "       'review_scores_value', 'license', 'instant_bookable',\n",
              "       'calculated_host_listings_count',\n",
              "       'calculated_host_listings_count_entire_homes',\n",
              "       'calculated_host_listings_count_private_rooms',\n",
              "       'calculated_host_listings_count_shared_rooms', 'reviews_per_month'],\n",
              "      dtype='object')"
            ]
          },
          "metadata": {},
          "execution_count": 111
        }
      ]
    },
    {
      "cell_type": "code",
      "metadata": {
        "colab": {
          "base_uri": "https://localhost:8080/"
        },
        "id": "LxhXlx39DcEE",
        "outputId": "ef8954e5-d7fc-4760-b60b-9fa431cbce70"
      },
      "source": [
        "#Info columns of listings dataframe\n",
        "df.info()"
      ],
      "execution_count": 112,
      "outputs": [
        {
          "output_type": "stream",
          "name": "stdout",
          "text": [
            "<class 'pandas.core.frame.DataFrame'>\n",
            "RangeIndex: 23414 entries, 0 to 23413\n",
            "Data columns (total 74 columns):\n",
            " #   Column                                        Non-Null Count  Dtype  \n",
            "---  ------                                        --------------  -----  \n",
            " 0   id                                            23414 non-null  int64  \n",
            " 1   listing_url                                   23414 non-null  object \n",
            " 2   scrape_id                                     23414 non-null  int64  \n",
            " 3   last_scraped                                  23414 non-null  object \n",
            " 4   name                                          23393 non-null  object \n",
            " 5   description                                   22162 non-null  object \n",
            " 6   neighborhood_overview                         12739 non-null  object \n",
            " 7   picture_url                                   23414 non-null  object \n",
            " 8   host_id                                       23414 non-null  int64  \n",
            " 9   host_url                                      23414 non-null  object \n",
            " 10  host_name                                     23396 non-null  object \n",
            " 11  host_since                                    23396 non-null  object \n",
            " 12  host_location                                 23317 non-null  object \n",
            " 13  host_about                                    11539 non-null  object \n",
            " 14  host_response_time                            15821 non-null  object \n",
            " 15  host_response_rate                            15821 non-null  object \n",
            " 16  host_acceptance_rate                          14660 non-null  object \n",
            " 17  host_is_superhost                             23396 non-null  object \n",
            " 18  host_thumbnail_url                            23396 non-null  object \n",
            " 19  host_picture_url                              23396 non-null  object \n",
            " 20  host_neighbourhood                            12974 non-null  object \n",
            " 21  host_listings_count                           23396 non-null  float64\n",
            " 22  host_total_listings_count                     23396 non-null  float64\n",
            " 23  host_verifications                            23414 non-null  object \n",
            " 24  host_has_profile_pic                          23396 non-null  object \n",
            " 25  host_identity_verified                        23396 non-null  object \n",
            " 26  neighbourhood                                 12739 non-null  object \n",
            " 27  neighbourhood_cleansed                        23414 non-null  object \n",
            " 28  neighbourhood_group_cleansed                  0 non-null      float64\n",
            " 29  latitude                                      23414 non-null  float64\n",
            " 30  longitude                                     23414 non-null  float64\n",
            " 31  property_type                                 23414 non-null  object \n",
            " 32  room_type                                     23414 non-null  object \n",
            " 33  accommodates                                  23414 non-null  int64  \n",
            " 34  bathrooms                                     0 non-null      float64\n",
            " 35  bathrooms_text                                23344 non-null  object \n",
            " 36  bedrooms                                      21895 non-null  float64\n",
            " 37  beds                                          23206 non-null  float64\n",
            " 38  amenities                                     23414 non-null  object \n",
            " 39  price                                         23414 non-null  object \n",
            " 40  minimum_nights                                23414 non-null  int64  \n",
            " 41  maximum_nights                                23414 non-null  int64  \n",
            " 42  minimum_minimum_nights                        23414 non-null  int64  \n",
            " 43  maximum_minimum_nights                        23414 non-null  int64  \n",
            " 44  minimum_maximum_nights                        23414 non-null  int64  \n",
            " 45  maximum_maximum_nights                        23414 non-null  int64  \n",
            " 46  minimum_nights_avg_ntm                        23414 non-null  float64\n",
            " 47  maximum_nights_avg_ntm                        23414 non-null  float64\n",
            " 48  calendar_updated                              0 non-null      float64\n",
            " 49  has_availability                              23414 non-null  object \n",
            " 50  availability_30                               23414 non-null  int64  \n",
            " 51  availability_60                               23414 non-null  int64  \n",
            " 52  availability_90                               23414 non-null  int64  \n",
            " 53  availability_365                              23414 non-null  int64  \n",
            " 54  calendar_last_scraped                         23414 non-null  object \n",
            " 55  number_of_reviews                             23414 non-null  int64  \n",
            " 56  number_of_reviews_ltm                         23414 non-null  int64  \n",
            " 57  number_of_reviews_l30d                        23414 non-null  int64  \n",
            " 58  first_review                                  15073 non-null  object \n",
            " 59  last_review                                   15073 non-null  object \n",
            " 60  review_scores_rating                          15073 non-null  float64\n",
            " 61  review_scores_accuracy                        14618 non-null  float64\n",
            " 62  review_scores_cleanliness                     14619 non-null  float64\n",
            " 63  review_scores_checkin                         14618 non-null  float64\n",
            " 64  review_scores_communication                   14620 non-null  float64\n",
            " 65  review_scores_location                        14617 non-null  float64\n",
            " 66  review_scores_value                           14619 non-null  float64\n",
            " 67  license                                       0 non-null      float64\n",
            " 68  instant_bookable                              23414 non-null  object \n",
            " 69  calculated_host_listings_count                23414 non-null  int64  \n",
            " 70  calculated_host_listings_count_entire_homes   23414 non-null  int64  \n",
            " 71  calculated_host_listings_count_private_rooms  23414 non-null  int64  \n",
            " 72  calculated_host_listings_count_shared_rooms   23414 non-null  int64  \n",
            " 73  reviews_per_month                             15073 non-null  float64\n",
            "dtypes: float64(20), int64(21), object(33)\n",
            "memory usage: 13.2+ MB\n"
          ]
        }
      ]
    },
    {
      "cell_type": "code",
      "metadata": {
        "colab": {
          "base_uri": "https://localhost:8080/",
          "height": 204
        },
        "id": "ZsN9KnkemPzq",
        "outputId": "c3f14cb1-4dbf-4b5a-c2b9-9df64e4eba89"
      },
      "source": [
        "#Loading and checking Calendar dataframe\n",
        "df_calendar = pd.read_csv('calendar.csv')\n",
        "df_calendar.head()"
      ],
      "execution_count": 113,
      "outputs": [
        {
          "output_type": "execute_result",
          "data": {
            "text/html": [
              "<div>\n",
              "<style scoped>\n",
              "    .dataframe tbody tr th:only-of-type {\n",
              "        vertical-align: middle;\n",
              "    }\n",
              "\n",
              "    .dataframe tbody tr th {\n",
              "        vertical-align: top;\n",
              "    }\n",
              "\n",
              "    .dataframe thead th {\n",
              "        text-align: right;\n",
              "    }\n",
              "</style>\n",
              "<table border=\"1\" class=\"dataframe\">\n",
              "  <thead>\n",
              "    <tr style=\"text-align: right;\">\n",
              "      <th></th>\n",
              "      <th>listing_id</th>\n",
              "      <th>date</th>\n",
              "      <th>available</th>\n",
              "      <th>price</th>\n",
              "      <th>adjusted_price</th>\n",
              "      <th>minimum_nights</th>\n",
              "      <th>maximum_nights</th>\n",
              "    </tr>\n",
              "  </thead>\n",
              "  <tbody>\n",
              "    <tr>\n",
              "      <th>0</th>\n",
              "      <td>1151855</td>\n",
              "      <td>2021-09-29</td>\n",
              "      <td>f</td>\n",
              "      <td>$500.00</td>\n",
              "      <td>$500.00</td>\n",
              "      <td>1.0</td>\n",
              "      <td>1125.0</td>\n",
              "    </tr>\n",
              "    <tr>\n",
              "      <th>1</th>\n",
              "      <td>858748</td>\n",
              "      <td>2021-09-28</td>\n",
              "      <td>t</td>\n",
              "      <td>$200.00</td>\n",
              "      <td>$200.00</td>\n",
              "      <td>5.0</td>\n",
              "      <td>1125.0</td>\n",
              "    </tr>\n",
              "    <tr>\n",
              "      <th>2</th>\n",
              "      <td>858748</td>\n",
              "      <td>2021-09-29</td>\n",
              "      <td>t</td>\n",
              "      <td>$200.00</td>\n",
              "      <td>$200.00</td>\n",
              "      <td>5.0</td>\n",
              "      <td>1125.0</td>\n",
              "    </tr>\n",
              "    <tr>\n",
              "      <th>3</th>\n",
              "      <td>858748</td>\n",
              "      <td>2021-09-30</td>\n",
              "      <td>t</td>\n",
              "      <td>$200.00</td>\n",
              "      <td>$200.00</td>\n",
              "      <td>5.0</td>\n",
              "      <td>1125.0</td>\n",
              "    </tr>\n",
              "    <tr>\n",
              "      <th>4</th>\n",
              "      <td>858748</td>\n",
              "      <td>2021-10-01</td>\n",
              "      <td>t</td>\n",
              "      <td>$130.00</td>\n",
              "      <td>$130.00</td>\n",
              "      <td>5.0</td>\n",
              "      <td>1125.0</td>\n",
              "    </tr>\n",
              "  </tbody>\n",
              "</table>\n",
              "</div>"
            ],
            "text/plain": [
              "   listing_id        date  ... minimum_nights maximum_nights\n",
              "0     1151855  2021-09-29  ...            1.0         1125.0\n",
              "1      858748  2021-09-28  ...            5.0         1125.0\n",
              "2      858748  2021-09-29  ...            5.0         1125.0\n",
              "3      858748  2021-09-30  ...            5.0         1125.0\n",
              "4      858748  2021-10-01  ...            5.0         1125.0\n",
              "\n",
              "[5 rows x 7 columns]"
            ]
          },
          "metadata": {},
          "execution_count": 113
        }
      ]
    },
    {
      "cell_type": "code",
      "metadata": {
        "colab": {
          "base_uri": "https://localhost:8080/"
        },
        "id": "tFgg7gncgH2W",
        "outputId": "64fec6bf-01c2-48f7-f6c0-47f72c2fee59"
      },
      "source": [
        "#Info columns of calendar dataframe\n",
        "df_calendar.info()"
      ],
      "execution_count": 114,
      "outputs": [
        {
          "output_type": "stream",
          "name": "stdout",
          "text": [
            "<class 'pandas.core.frame.DataFrame'>\n",
            "RangeIndex: 8545976 entries, 0 to 8545975\n",
            "Data columns (total 7 columns):\n",
            " #   Column          Dtype  \n",
            "---  ------          -----  \n",
            " 0   listing_id      int64  \n",
            " 1   date            object \n",
            " 2   available       object \n",
            " 3   price           object \n",
            " 4   adjusted_price  object \n",
            " 5   minimum_nights  float64\n",
            " 6   maximum_nights  float64\n",
            "dtypes: float64(2), int64(1), object(4)\n",
            "memory usage: 456.4+ MB\n"
          ]
        }
      ]
    },
    {
      "cell_type": "markdown",
      "metadata": {
        "id": "JouGMZelYPwx"
      },
      "source": [
        "##Cleaning Calendar data"
      ]
    },
    {
      "cell_type": "code",
      "metadata": {
        "colab": {
          "base_uri": "https://localhost:8080/"
        },
        "id": "IzwMXk7Hyk05",
        "outputId": "a46f280b-6a7d-42f3-e667-ded77ad290be"
      },
      "source": [
        "#Checking null values\n",
        "df_calendar.isnull().sum()"
      ],
      "execution_count": 115,
      "outputs": [
        {
          "output_type": "execute_result",
          "data": {
            "text/plain": [
              "listing_id           0\n",
              "date                 0\n",
              "available            0\n",
              "price              194\n",
              "adjusted_price     194\n",
              "minimum_nights    1113\n",
              "maximum_nights    1113\n",
              "dtype: int64"
            ]
          },
          "metadata": {},
          "execution_count": 115
        }
      ]
    },
    {
      "cell_type": "code",
      "metadata": {
        "id": "L06aO7FGjfmf"
      },
      "source": [
        "#Dropping NAs of price column\n",
        "df_calendar.dropna(subset=['price'], inplace=True)"
      ],
      "execution_count": 116,
      "outputs": []
    },
    {
      "cell_type": "code",
      "metadata": {
        "id": "wELh9NqqZTZT"
      },
      "source": [
        "#turning price into float \n",
        "def remove_symbol(price):\n",
        "    \"\"\"remove the symbols ['$', ','] in price\"\"\"\n",
        "    if type(price) is str:\n",
        "        return re.sub(\"[\\$,]\",'',price)\n",
        "    return price\n",
        "\n",
        "df_calendar['price'] = df_calendar.price.apply(remove_symbol)\n",
        "df_calendar['price'] = df_calendar['price'].astype(float)"
      ],
      "execution_count": 117,
      "outputs": []
    },
    {
      "cell_type": "code",
      "metadata": {
        "colab": {
          "base_uri": "https://localhost:8080/",
          "height": 297
        },
        "id": "b0HHY7BdkZ1P",
        "outputId": "e94938ef-201e-4dd6-d6c4-817afc1b52ea"
      },
      "source": [
        "df_calendar.describe().apply(lambda s: s.apply('{0:.5f}'.format))"
      ],
      "execution_count": 118,
      "outputs": [
        {
          "output_type": "execute_result",
          "data": {
            "text/html": [
              "<div>\n",
              "<style scoped>\n",
              "    .dataframe tbody tr th:only-of-type {\n",
              "        vertical-align: middle;\n",
              "    }\n",
              "\n",
              "    .dataframe tbody tr th {\n",
              "        vertical-align: top;\n",
              "    }\n",
              "\n",
              "    .dataframe thead th {\n",
              "        text-align: right;\n",
              "    }\n",
              "</style>\n",
              "<table border=\"1\" class=\"dataframe\">\n",
              "  <thead>\n",
              "    <tr style=\"text-align: right;\">\n",
              "      <th></th>\n",
              "      <th>listing_id</th>\n",
              "      <th>price</th>\n",
              "      <th>minimum_nights</th>\n",
              "      <th>maximum_nights</th>\n",
              "    </tr>\n",
              "  </thead>\n",
              "  <tbody>\n",
              "    <tr>\n",
              "      <th>count</th>\n",
              "      <td>8545782.00000</td>\n",
              "      <td>8545782.00000</td>\n",
              "      <td>8544669.00000</td>\n",
              "      <td>8544669.00000</td>\n",
              "    </tr>\n",
              "    <tr>\n",
              "      <th>mean</th>\n",
              "      <td>26411665.29202</td>\n",
              "      <td>756.13911</td>\n",
              "      <td>5.27997</td>\n",
              "      <td>92480.36006</td>\n",
              "    </tr>\n",
              "    <tr>\n",
              "      <th>std</th>\n",
              "      <td>16651320.87527</td>\n",
              "      <td>8147.49886</td>\n",
              "      <td>19.61013</td>\n",
              "      <td>14035221.61440</td>\n",
              "    </tr>\n",
              "    <tr>\n",
              "      <th>min</th>\n",
              "      <td>17878.00000</td>\n",
              "      <td>0.00000</td>\n",
              "      <td>1.00000</td>\n",
              "      <td>1.00000</td>\n",
              "    </tr>\n",
              "    <tr>\n",
              "      <th>25%</th>\n",
              "      <td>12424008.00000</td>\n",
              "      <td>160.00000</td>\n",
              "      <td>2.00000</td>\n",
              "      <td>90.00000</td>\n",
              "    </tr>\n",
              "    <tr>\n",
              "      <th>50%</th>\n",
              "      <td>26188185.00000</td>\n",
              "      <td>292.00000</td>\n",
              "      <td>3.00000</td>\n",
              "      <td>1125.00000</td>\n",
              "    </tr>\n",
              "    <tr>\n",
              "      <th>75%</th>\n",
              "      <td>41939482.00000</td>\n",
              "      <td>600.00000</td>\n",
              "      <td>4.00000</td>\n",
              "      <td>1125.00000</td>\n",
              "    </tr>\n",
              "    <tr>\n",
              "      <th>max</th>\n",
              "      <td>52494052.00000</td>\n",
              "      <td>2171050.00000</td>\n",
              "      <td>730.00000</td>\n",
              "      <td>2147483647.00000</td>\n",
              "    </tr>\n",
              "  </tbody>\n",
              "</table>\n",
              "</div>"
            ],
            "text/plain": [
              "           listing_id          price minimum_nights    maximum_nights\n",
              "count   8545782.00000  8545782.00000  8544669.00000     8544669.00000\n",
              "mean   26411665.29202      756.13911        5.27997       92480.36006\n",
              "std    16651320.87527     8147.49886       19.61013    14035221.61440\n",
              "min       17878.00000        0.00000        1.00000           1.00000\n",
              "25%    12424008.00000      160.00000        2.00000          90.00000\n",
              "50%    26188185.00000      292.00000        3.00000        1125.00000\n",
              "75%    41939482.00000      600.00000        4.00000        1125.00000\n",
              "max    52494052.00000  2171050.00000      730.00000  2147483647.00000"
            ]
          },
          "metadata": {},
          "execution_count": 118
        }
      ]
    },
    {
      "cell_type": "markdown",
      "metadata": {
        "id": "-83ZGXTZjTNt"
      },
      "source": [
        "Checking for outliers according to Tukey Test"
      ]
    },
    {
      "cell_type": "code",
      "metadata": {
        "id": "8m1NOOBTf3Ct"
      },
      "source": [
        "def tukey_test(df, column_name):\n",
        "  Q1 = df[column_name].quantile(0.25)\n",
        "  Q3 = df[column_name].quantile(0.75)\n",
        "\n",
        "  IQR = Q3 - Q1\n",
        "\n",
        "  Max = Q3 + 1.5*IQR\n",
        "  Min = Q1 - 1.5*IQR\n",
        "  \n",
        "  return print('For {} column, the min value should be {} and the max value should be {}'.format(column_name, Min, Max))"
      ],
      "execution_count": 119,
      "outputs": []
    },
    {
      "cell_type": "code",
      "metadata": {
        "colab": {
          "base_uri": "https://localhost:8080/"
        },
        "id": "p3uTf_Vzf21e",
        "outputId": "e74f711a-4939-45b0-feaa-9501a5fdc7ed"
      },
      "source": [
        "tukey_test(df=df_calendar, column_name='maximum_nights')"
      ],
      "execution_count": 120,
      "outputs": [
        {
          "output_type": "stream",
          "name": "stdout",
          "text": [
            "For maximum_nights column, the min value should be -1462.5 and the max value should be 2677.5\n"
          ]
        }
      ]
    },
    {
      "cell_type": "code",
      "metadata": {
        "colab": {
          "base_uri": "https://localhost:8080/"
        },
        "id": "GgFA08Mfiu7Q",
        "outputId": "2f532f28-5f08-4ce7-f757-2a38e6fd9581"
      },
      "source": [
        "tukey_test(df=df_calendar, column_name='price')"
      ],
      "execution_count": 121,
      "outputs": [
        {
          "output_type": "stream",
          "name": "stdout",
          "text": [
            "For price column, the min value should be -500.0 and the max value should be 1260.0\n"
          ]
        }
      ]
    },
    {
      "cell_type": "code",
      "metadata": {
        "colab": {
          "base_uri": "https://localhost:8080/"
        },
        "id": "zt8n0KOxjJgd",
        "outputId": "91c48810-24cc-43c7-c56f-42d750c25264"
      },
      "source": [
        "tukey_test(df=df_calendar, column_name='minimum_nights')"
      ],
      "execution_count": 122,
      "outputs": [
        {
          "output_type": "stream",
          "name": "stdout",
          "text": [
            "For minimum_nights column, the min value should be -1.0 and the max value should be 7.0\n"
          ]
        }
      ]
    },
    {
      "cell_type": "code",
      "metadata": {
        "id": "R90noUsBqZR7"
      },
      "source": [
        "#Removing outliers from df_calendar\n",
        "df_calendar = df_calendar.query('maximum_nights < 2677')\n",
        "df_calendar = df_calendar.query('price < 1260')\n",
        "df_calendar = df_calendar.query('minimum_nights < 7')"
      ],
      "execution_count": 123,
      "outputs": []
    },
    {
      "cell_type": "code",
      "metadata": {
        "id": "NDfnvc6PShBH"
      },
      "source": [
        "#Removing price = 0 from the DataSet\n",
        "df_calendar = df_calendar[df_calendar['price'] != 0]"
      ],
      "execution_count": 124,
      "outputs": []
    },
    {
      "cell_type": "code",
      "metadata": {
        "colab": {
          "base_uri": "https://localhost:8080/",
          "height": 297
        },
        "id": "t1bS1_UrrjO2",
        "outputId": "1db75c69-92dd-4086-ed39-40a57ab33351"
      },
      "source": [
        "df_calendar.describe().apply(lambda s: s.apply('{0:.5f}'.format))"
      ],
      "execution_count": 125,
      "outputs": [
        {
          "output_type": "execute_result",
          "data": {
            "text/html": [
              "<div>\n",
              "<style scoped>\n",
              "    .dataframe tbody tr th:only-of-type {\n",
              "        vertical-align: middle;\n",
              "    }\n",
              "\n",
              "    .dataframe tbody tr th {\n",
              "        vertical-align: top;\n",
              "    }\n",
              "\n",
              "    .dataframe thead th {\n",
              "        text-align: right;\n",
              "    }\n",
              "</style>\n",
              "<table border=\"1\" class=\"dataframe\">\n",
              "  <thead>\n",
              "    <tr style=\"text-align: right;\">\n",
              "      <th></th>\n",
              "      <th>listing_id</th>\n",
              "      <th>price</th>\n",
              "      <th>minimum_nights</th>\n",
              "      <th>maximum_nights</th>\n",
              "    </tr>\n",
              "  </thead>\n",
              "  <tbody>\n",
              "    <tr>\n",
              "      <th>count</th>\n",
              "      <td>6819196.00000</td>\n",
              "      <td>6819196.00000</td>\n",
              "      <td>6819196.00000</td>\n",
              "      <td>6819196.00000</td>\n",
              "    </tr>\n",
              "    <tr>\n",
              "      <th>mean</th>\n",
              "      <td>27493408.69180</td>\n",
              "      <td>334.82595</td>\n",
              "      <td>2.47450</td>\n",
              "      <td>769.34392</td>\n",
              "    </tr>\n",
              "    <tr>\n",
              "      <th>std</th>\n",
              "      <td>16609194.52674</td>\n",
              "      <td>257.11720</td>\n",
              "      <td>1.28072</td>\n",
              "      <td>493.37192</td>\n",
              "    </tr>\n",
              "    <tr>\n",
              "      <th>min</th>\n",
              "      <td>17878.00000</td>\n",
              "      <td>39.00000</td>\n",
              "      <td>1.00000</td>\n",
              "      <td>1.00000</td>\n",
              "    </tr>\n",
              "    <tr>\n",
              "      <th>25%</th>\n",
              "      <td>13149546.00000</td>\n",
              "      <td>150.00000</td>\n",
              "      <td>1.00000</td>\n",
              "      <td>90.00000</td>\n",
              "    </tr>\n",
              "    <tr>\n",
              "      <th>50%</th>\n",
              "      <td>30171524.00000</td>\n",
              "      <td>250.00000</td>\n",
              "      <td>2.00000</td>\n",
              "      <td>1125.00000</td>\n",
              "    </tr>\n",
              "    <tr>\n",
              "      <th>75%</th>\n",
              "      <td>42230659.00000</td>\n",
              "      <td>437.00000</td>\n",
              "      <td>3.00000</td>\n",
              "      <td>1125.00000</td>\n",
              "    </tr>\n",
              "    <tr>\n",
              "      <th>max</th>\n",
              "      <td>52490411.00000</td>\n",
              "      <td>1259.00000</td>\n",
              "      <td>6.00000</td>\n",
              "      <td>2000.00000</td>\n",
              "    </tr>\n",
              "  </tbody>\n",
              "</table>\n",
              "</div>"
            ],
            "text/plain": [
              "           listing_id          price minimum_nights maximum_nights\n",
              "count   6819196.00000  6819196.00000  6819196.00000  6819196.00000\n",
              "mean   27493408.69180      334.82595        2.47450      769.34392\n",
              "std    16609194.52674      257.11720        1.28072      493.37192\n",
              "min       17878.00000       39.00000        1.00000        1.00000\n",
              "25%    13149546.00000      150.00000        1.00000       90.00000\n",
              "50%    30171524.00000      250.00000        2.00000     1125.00000\n",
              "75%    42230659.00000      437.00000        3.00000     1125.00000\n",
              "max    52490411.00000     1259.00000        6.00000     2000.00000"
            ]
          },
          "metadata": {},
          "execution_count": 125
        }
      ]
    },
    {
      "cell_type": "code",
      "metadata": {
        "id": "NykUm1farl8E"
      },
      "source": [
        "#Extracting year and month from date column\n",
        "df_calendar['year'] = pd.DatetimeIndex(df_calendar['date']).year\n",
        "df_calendar['month'] = pd.DatetimeIndex(df_calendar['date']).month"
      ],
      "execution_count": 126,
      "outputs": []
    },
    {
      "cell_type": "code",
      "metadata": {
        "colab": {
          "base_uri": "https://localhost:8080/",
          "height": 204
        },
        "id": "APhT7-6dtPt7",
        "outputId": "9f7c6771-4670-4e9e-eaa7-12cfd12caa3a"
      },
      "source": [
        "df_calendar.head()"
      ],
      "execution_count": 127,
      "outputs": [
        {
          "output_type": "execute_result",
          "data": {
            "text/html": [
              "<div>\n",
              "<style scoped>\n",
              "    .dataframe tbody tr th:only-of-type {\n",
              "        vertical-align: middle;\n",
              "    }\n",
              "\n",
              "    .dataframe tbody tr th {\n",
              "        vertical-align: top;\n",
              "    }\n",
              "\n",
              "    .dataframe thead th {\n",
              "        text-align: right;\n",
              "    }\n",
              "</style>\n",
              "<table border=\"1\" class=\"dataframe\">\n",
              "  <thead>\n",
              "    <tr style=\"text-align: right;\">\n",
              "      <th></th>\n",
              "      <th>listing_id</th>\n",
              "      <th>date</th>\n",
              "      <th>available</th>\n",
              "      <th>price</th>\n",
              "      <th>adjusted_price</th>\n",
              "      <th>minimum_nights</th>\n",
              "      <th>maximum_nights</th>\n",
              "      <th>year</th>\n",
              "      <th>month</th>\n",
              "    </tr>\n",
              "  </thead>\n",
              "  <tbody>\n",
              "    <tr>\n",
              "      <th>0</th>\n",
              "      <td>1151855</td>\n",
              "      <td>2021-09-29</td>\n",
              "      <td>f</td>\n",
              "      <td>500.0</td>\n",
              "      <td>$500.00</td>\n",
              "      <td>1.0</td>\n",
              "      <td>1125.0</td>\n",
              "      <td>2021</td>\n",
              "      <td>9</td>\n",
              "    </tr>\n",
              "    <tr>\n",
              "      <th>1</th>\n",
              "      <td>858748</td>\n",
              "      <td>2021-09-28</td>\n",
              "      <td>t</td>\n",
              "      <td>200.0</td>\n",
              "      <td>$200.00</td>\n",
              "      <td>5.0</td>\n",
              "      <td>1125.0</td>\n",
              "      <td>2021</td>\n",
              "      <td>9</td>\n",
              "    </tr>\n",
              "    <tr>\n",
              "      <th>2</th>\n",
              "      <td>858748</td>\n",
              "      <td>2021-09-29</td>\n",
              "      <td>t</td>\n",
              "      <td>200.0</td>\n",
              "      <td>$200.00</td>\n",
              "      <td>5.0</td>\n",
              "      <td>1125.0</td>\n",
              "      <td>2021</td>\n",
              "      <td>9</td>\n",
              "    </tr>\n",
              "    <tr>\n",
              "      <th>3</th>\n",
              "      <td>858748</td>\n",
              "      <td>2021-09-30</td>\n",
              "      <td>t</td>\n",
              "      <td>200.0</td>\n",
              "      <td>$200.00</td>\n",
              "      <td>5.0</td>\n",
              "      <td>1125.0</td>\n",
              "      <td>2021</td>\n",
              "      <td>9</td>\n",
              "    </tr>\n",
              "    <tr>\n",
              "      <th>4</th>\n",
              "      <td>858748</td>\n",
              "      <td>2021-10-01</td>\n",
              "      <td>t</td>\n",
              "      <td>130.0</td>\n",
              "      <td>$130.00</td>\n",
              "      <td>5.0</td>\n",
              "      <td>1125.0</td>\n",
              "      <td>2021</td>\n",
              "      <td>10</td>\n",
              "    </tr>\n",
              "  </tbody>\n",
              "</table>\n",
              "</div>"
            ],
            "text/plain": [
              "   listing_id        date available  ...  maximum_nights  year  month\n",
              "0     1151855  2021-09-29         f  ...          1125.0  2021      9\n",
              "1      858748  2021-09-28         t  ...          1125.0  2021      9\n",
              "2      858748  2021-09-29         t  ...          1125.0  2021      9\n",
              "3      858748  2021-09-30         t  ...          1125.0  2021      9\n",
              "4      858748  2021-10-01         t  ...          1125.0  2021     10\n",
              "\n",
              "[5 rows x 9 columns]"
            ]
          },
          "metadata": {},
          "execution_count": 127
        }
      ]
    },
    {
      "cell_type": "markdown",
      "metadata": {
        "id": "BfdG9vA-z2Ll"
      },
      "source": [
        "#EDA cleaned calendar Dataset"
      ]
    },
    {
      "cell_type": "code",
      "metadata": {
        "colab": {
          "base_uri": "https://localhost:8080/",
          "height": 356
        },
        "id": "rCJtmnuDvnqO",
        "outputId": "ae3947ec-8471-4775-cdb7-58dd5df01d15"
      },
      "source": [
        "#Plotting the average price by month/year\n",
        "df_calendar.groupby(['year','month'])['price'].mean().plot(figsize=(12,5));\n",
        "plt.legend((['price']), loc= 1,  prop={'size': 10})"
      ],
      "execution_count": 128,
      "outputs": [
        {
          "output_type": "execute_result",
          "data": {
            "text/plain": [
              "<matplotlib.legend.Legend at 0x7f3315334110>"
            ]
          },
          "metadata": {},
          "execution_count": 128
        },
        {
          "output_type": "display_data",
          "data": {
            "image/png": "[encoded data removed]",
            "text/plain": [
              "<Figure size 864x360 with 1 Axes>"
            ]
          },
          "metadata": {}
        }
      ]
    },
    {
      "cell_type": "code",
      "metadata": {
        "colab": {
          "base_uri": "https://localhost:8080/"
        },
        "id": "x3swvO0YRNI-",
        "outputId": "c7407f21-70da-4f50-fb8d-4c18c3f2e468"
      },
      "source": [
        "#Minimum and maximum prices in the period\n",
        "print('The minimum price is {} and the maximum is {}.'.format(df_calendar.price.min(), df_calendar.price.max()))"
      ],
      "execution_count": 129,
      "outputs": [
        {
          "output_type": "stream",
          "name": "stdout",
          "text": [
            "The minimum price is 39.0 and the maximum is 1259.0.\n"
          ]
        }
      ]
    },
    {
      "cell_type": "code",
      "metadata": {
        "id": "wAgtDPohwOAe"
      },
      "source": [
        "dict_av = {'t':1, 'f':0}"
      ],
      "execution_count": 130,
      "outputs": []
    },
    {
      "cell_type": "code",
      "metadata": {
        "id": "8Lm4v4U84qrq"
      },
      "source": [
        "df_calendar['count_available'] = df_calendar['available'].map(dict_av)"
      ],
      "execution_count": 131,
      "outputs": []
    },
    {
      "cell_type": "code",
      "metadata": {
        "colab": {
          "base_uri": "https://localhost:8080/",
          "height": 356
        },
        "id": "wwZugVhR5OLB",
        "outputId": "e0f29be6-3677-4de1-9758-ddf6b0225823"
      },
      "source": [
        "#Plotting the average vacant rate by month/year\n",
        "df_calendar.groupby(['year','month'])['count_available'].mean().plot(figsize=(12,5));\n",
        "plt.legend((['vacant rate']), loc= 1,  prop={'size': 10})"
      ],
      "execution_count": 132,
      "outputs": [
        {
          "output_type": "execute_result",
          "data": {
            "text/plain": [
              "<matplotlib.legend.Legend at 0x7f3311640ad0>"
            ]
          },
          "metadata": {},
          "execution_count": 132
        },
        {
          "output_type": "display_data",
          "data": {
            "image/png": "[encoded data removed]",
            "text/plain": [
              "<Figure size 864x360 with 1 Axes>"
            ]
          },
          "metadata": {}
        }
      ]
    },
    {
      "cell_type": "markdown",
      "metadata": {
        "id": "xfHKSTj0UvMj"
      },
      "source": [
        "#Cleaning and understanding listings data"
      ]
    },
    {
      "cell_type": "code",
      "metadata": {
        "colab": {
          "base_uri": "https://localhost:8080/",
          "height": 267
        },
        "id": "R7K0j79LVMYf",
        "outputId": "1a65c1ba-2d34-4cc1-8723-7c8094932804"
      },
      "source": [
        "df.head(2)"
      ],
      "execution_count": 133,
      "outputs": [
        {
          "output_type": "execute_result",
          "data": {
            "text/html": [
              "<div>\n",
              "<style scoped>\n",
              "    .dataframe tbody tr th:only-of-type {\n",
              "        vertical-align: middle;\n",
              "    }\n",
              "\n",
              "    .dataframe tbody tr th {\n",
              "        vertical-align: top;\n",
              "    }\n",
              "\n",
              "    .dataframe thead th {\n",
              "        text-align: right;\n",
              "    }\n",
              "</style>\n",
              "<table border=\"1\" class=\"dataframe\">\n",
              "  <thead>\n",
              "    <tr style=\"text-align: right;\">\n",
              "      <th></th>\n",
              "      <th>id</th>\n",
              "      <th>listing_url</th>\n",
              "      <th>scrape_id</th>\n",
              "      <th>last_scraped</th>\n",
              "      <th>name</th>\n",
              "      <th>description</th>\n",
              "      <th>neighborhood_overview</th>\n",
              "      <th>picture_url</th>\n",
              "      <th>host_id</th>\n",
              "      <th>host_url</th>\n",
              "      <th>host_name</th>\n",
              "      <th>host_since</th>\n",
              "      <th>host_location</th>\n",
              "      <th>host_about</th>\n",
              "      <th>host_response_time</th>\n",
              "      <th>host_response_rate</th>\n",
              "      <th>host_acceptance_rate</th>\n",
              "      <th>host_is_superhost</th>\n",
              "      <th>host_thumbnail_url</th>\n",
              "      <th>host_picture_url</th>\n",
              "      <th>host_neighbourhood</th>\n",
              "      <th>host_listings_count</th>\n",
              "      <th>host_total_listings_count</th>\n",
              "      <th>host_verifications</th>\n",
              "      <th>host_has_profile_pic</th>\n",
              "      <th>host_identity_verified</th>\n",
              "      <th>neighbourhood</th>\n",
              "      <th>neighbourhood_cleansed</th>\n",
              "      <th>neighbourhood_group_cleansed</th>\n",
              "      <th>latitude</th>\n",
              "      <th>longitude</th>\n",
              "      <th>property_type</th>\n",
              "      <th>room_type</th>\n",
              "      <th>accommodates</th>\n",
              "      <th>bathrooms</th>\n",
              "      <th>bathrooms_text</th>\n",
              "      <th>bedrooms</th>\n",
              "      <th>beds</th>\n",
              "      <th>amenities</th>\n",
              "      <th>price</th>\n",
              "      <th>minimum_nights</th>\n",
              "      <th>maximum_nights</th>\n",
              "      <th>minimum_minimum_nights</th>\n",
              "      <th>maximum_minimum_nights</th>\n",
              "      <th>minimum_maximum_nights</th>\n",
              "      <th>maximum_maximum_nights</th>\n",
              "      <th>minimum_nights_avg_ntm</th>\n",
              "      <th>maximum_nights_avg_ntm</th>\n",
              "      <th>calendar_updated</th>\n",
              "      <th>has_availability</th>\n",
              "      <th>availability_30</th>\n",
              "      <th>availability_60</th>\n",
              "      <th>availability_90</th>\n",
              "      <th>availability_365</th>\n",
              "      <th>calendar_last_scraped</th>\n",
              "      <th>number_of_reviews</th>\n",
              "      <th>number_of_reviews_ltm</th>\n",
              "      <th>number_of_reviews_l30d</th>\n",
              "      <th>first_review</th>\n",
              "      <th>last_review</th>\n",
              "      <th>review_scores_rating</th>\n",
              "      <th>review_scores_accuracy</th>\n",
              "      <th>review_scores_cleanliness</th>\n",
              "      <th>review_scores_checkin</th>\n",
              "      <th>review_scores_communication</th>\n",
              "      <th>review_scores_location</th>\n",
              "      <th>review_scores_value</th>\n",
              "      <th>license</th>\n",
              "      <th>instant_bookable</th>\n",
              "      <th>calculated_host_listings_count</th>\n",
              "      <th>calculated_host_listings_count_entire_homes</th>\n",
              "      <th>calculated_host_listings_count_private_rooms</th>\n",
              "      <th>calculated_host_listings_count_shared_rooms</th>\n",
              "      <th>reviews_per_month</th>\n",
              "    </tr>\n",
              "  </thead>\n",
              "  <tbody>\n",
              "    <tr>\n",
              "      <th>0</th>\n",
              "      <td>17878</td>\n",
              "      <td>https://www.airbnb.com/rooms/17878</td>\n",
              "      <td>20210928134526</td>\n",
              "      <td>2021-09-28</td>\n",
              "      <td>Very Nice 2Br in Copacabana w. balcony, fast WiFi</td>\n",
              "      <td>Discounts for long term stays. &lt;br /&gt;- Large b...</td>\n",
              "      <td>This is the one of the bests spots in Rio. Bec...</td>\n",
              "      <td>https://a0.muscache.com/pictures/65320518/3069...</td>\n",
              "      <td>68997</td>\n",
              "      <td>https://www.airbnb.com/users/show/68997</td>\n",
              "      <td>Matthias</td>\n",
              "      <td>2010-01-08</td>\n",
              "      <td>Rio de Janeiro, State of Rio de Janeiro, Brazil</td>\n",
              "      <td>I  am a  journalist/writer. Lived  in NYC for ...</td>\n",
              "      <td>within an hour</td>\n",
              "      <td>100%</td>\n",
              "      <td>98%</td>\n",
              "      <td>f</td>\n",
              "      <td>https://a0.muscache.com/im/pictures/user/67b13...</td>\n",
              "      <td>https://a0.muscache.com/im/pictures/user/67b13...</td>\n",
              "      <td>Copacabana</td>\n",
              "      <td>2.0</td>\n",
              "      <td>2.0</td>\n",
              "      <td>['email', 'phone', 'reviews', 'jumio', 'offlin...</td>\n",
              "      <td>t</td>\n",
              "      <td>t</td>\n",
              "      <td>Rio de Janeiro, Brazil</td>\n",
              "      <td>Copacabana</td>\n",
              "      <td>NaN</td>\n",
              "      <td>-22.96599</td>\n",
              "      <td>-43.17940</td>\n",
              "      <td>Entire condominium (condo)</td>\n",
              "      <td>Entire home/apt</td>\n",
              "      <td>5</td>\n",
              "      <td>NaN</td>\n",
              "      <td>1 bath</td>\n",
              "      <td>2.0</td>\n",
              "      <td>2.0</td>\n",
              "      <td>[\"Hangers\", \"Dishes and silverware\", \"Iron\", \"...</td>\n",
              "      <td>$350.00</td>\n",
              "      <td>4</td>\n",
              "      <td>180</td>\n",
              "      <td>4</td>\n",
              "      <td>4</td>\n",
              "      <td>1125</td>\n",
              "      <td>1125</td>\n",
              "      <td>4.0</td>\n",
              "      <td>1125.0</td>\n",
              "      <td>NaN</td>\n",
              "      <td>t</td>\n",
              "      <td>16</td>\n",
              "      <td>46</td>\n",
              "      <td>69</td>\n",
              "      <td>314</td>\n",
              "      <td>2021-09-28</td>\n",
              "      <td>265</td>\n",
              "      <td>12</td>\n",
              "      <td>0</td>\n",
              "      <td>2011-03-30</td>\n",
              "      <td>2021-05-21</td>\n",
              "      <td>4.68</td>\n",
              "      <td>4.78</td>\n",
              "      <td>4.63</td>\n",
              "      <td>4.82</td>\n",
              "      <td>4.9</td>\n",
              "      <td>4.76</td>\n",
              "      <td>4.65</td>\n",
              "      <td>NaN</td>\n",
              "      <td>t</td>\n",
              "      <td>1</td>\n",
              "      <td>1</td>\n",
              "      <td>0</td>\n",
              "      <td>0</td>\n",
              "      <td>2.07</td>\n",
              "    </tr>\n",
              "    <tr>\n",
              "      <th>1</th>\n",
              "      <td>24480</td>\n",
              "      <td>https://www.airbnb.com/rooms/24480</td>\n",
              "      <td>20210928134526</td>\n",
              "      <td>2021-09-29</td>\n",
              "      <td>Nice and cozy near Ipanema Beach, w/ home office</td>\n",
              "      <td>My studio is located in the best of Ipanema, t...</td>\n",
              "      <td>The beach, the lagoon, Ipanema is a great loca...</td>\n",
              "      <td>https://a0.muscache.com/pictures/11955612/b28e...</td>\n",
              "      <td>99249</td>\n",
              "      <td>https://www.airbnb.com/users/show/99249</td>\n",
              "      <td>Goya</td>\n",
              "      <td>2010-03-26</td>\n",
              "      <td>Rio de Janeiro, Rio de Janeiro, Brazil</td>\n",
              "      <td>Welcome to Rio!\\nI am a human being fighting f...</td>\n",
              "      <td>within a day</td>\n",
              "      <td>50%</td>\n",
              "      <td>NaN</td>\n",
              "      <td>f</td>\n",
              "      <td>https://a0.muscache.com/im/pictures/user/6b404...</td>\n",
              "      <td>https://a0.muscache.com/im/pictures/user/6b404...</td>\n",
              "      <td>Ipanema</td>\n",
              "      <td>0.0</td>\n",
              "      <td>0.0</td>\n",
              "      <td>['email', 'phone', 'reviews', 'jumio', 'govern...</td>\n",
              "      <td>t</td>\n",
              "      <td>t</td>\n",
              "      <td>Rio de Janeiro, Brazil</td>\n",
              "      <td>Ipanema</td>\n",
              "      <td>NaN</td>\n",
              "      <td>-22.98405</td>\n",
              "      <td>-43.20189</td>\n",
              "      <td>Entire rental unit</td>\n",
              "      <td>Entire home/apt</td>\n",
              "      <td>2</td>\n",
              "      <td>NaN</td>\n",
              "      <td>1 bath</td>\n",
              "      <td>1.0</td>\n",
              "      <td>1.0</td>\n",
              "      <td>[\"Clothing storage: wardrobe\", \"Dining table\",...</td>\n",
              "      <td>$297.00</td>\n",
              "      <td>3</td>\n",
              "      <td>90</td>\n",
              "      <td>3</td>\n",
              "      <td>3</td>\n",
              "      <td>90</td>\n",
              "      <td>90</td>\n",
              "      <td>3.0</td>\n",
              "      <td>90.0</td>\n",
              "      <td>NaN</td>\n",
              "      <td>t</td>\n",
              "      <td>0</td>\n",
              "      <td>0</td>\n",
              "      <td>0</td>\n",
              "      <td>30</td>\n",
              "      <td>2021-09-29</td>\n",
              "      <td>85</td>\n",
              "      <td>0</td>\n",
              "      <td>0</td>\n",
              "      <td>2013-08-20</td>\n",
              "      <td>2017-04-22</td>\n",
              "      <td>4.73</td>\n",
              "      <td>4.83</td>\n",
              "      <td>4.78</td>\n",
              "      <td>4.90</td>\n",
              "      <td>4.9</td>\n",
              "      <td>4.97</td>\n",
              "      <td>4.58</td>\n",
              "      <td>NaN</td>\n",
              "      <td>f</td>\n",
              "      <td>1</td>\n",
              "      <td>1</td>\n",
              "      <td>0</td>\n",
              "      <td>0</td>\n",
              "      <td>0.86</td>\n",
              "    </tr>\n",
              "  </tbody>\n",
              "</table>\n",
              "</div>"
            ],
            "text/plain": [
              "      id  ... reviews_per_month\n",
              "0  17878  ...              2.07\n",
              "1  24480  ...              0.86\n",
              "\n",
              "[2 rows x 74 columns]"
            ]
          },
          "metadata": {},
          "execution_count": 133
        }
      ]
    },
    {
      "cell_type": "code",
      "metadata": {
        "id": "WL9oOrahfoTA"
      },
      "source": [
        "#Drop columns that at a first glance will not help our prediction model\n",
        "df.drop(['listing_url', 'scrape_id', 'last_scraped', 'name', 'description',\n",
        "       'neighborhood_overview', 'picture_url', 'host_id', 'host_url',\n",
        "       'host_name', 'host_since', 'host_location', 'host_about',\n",
        "       'host_thumbnail_url', 'host_picture_url',\n",
        "       'host_neighbourhood', 'host_listings_count',\n",
        "       'host_total_listings_count', 'host_verifications',\n",
        "       'minimum_nights', 'maximum_nights', 'minimum_minimum_nights',\n",
        "       'maximum_minimum_nights', 'minimum_maximum_nights',\n",
        "       'maximum_maximum_nights', 'minimum_nights_avg_ntm',\n",
        "       'maximum_nights_avg_ntm', 'calendar_updated', 'calendar_last_scraped', \n",
        "       'license', 'calculated_host_listings_count',\n",
        "       'calculated_host_listings_count_entire_homes',\n",
        "       'calculated_host_listings_count_private_rooms',\n",
        "       'calculated_host_listings_count_shared_rooms', 'instant_bookable', 'has_availability'], axis=1, inplace=True)"
      ],
      "execution_count": 134,
      "outputs": []
    },
    {
      "cell_type": "code",
      "metadata": {
        "colab": {
          "base_uri": "https://localhost:8080/"
        },
        "id": "cwiQEDT_f4Vv",
        "outputId": "098693cc-ca29-40db-fefa-9bb897ffd4f2"
      },
      "source": [
        "df.columns"
      ],
      "execution_count": 135,
      "outputs": [
        {
          "output_type": "execute_result",
          "data": {
            "text/plain": [
              "Index(['id', 'host_response_time', 'host_response_rate',\n",
              "       'host_acceptance_rate', 'host_is_superhost', 'host_has_profile_pic',\n",
              "       'host_identity_verified', 'neighbourhood', 'neighbourhood_cleansed',\n",
              "       'neighbourhood_group_cleansed', 'latitude', 'longitude',\n",
              "       'property_type', 'room_type', 'accommodates', 'bathrooms',\n",
              "       'bathrooms_text', 'bedrooms', 'beds', 'amenities', 'price',\n",
              "       'availability_30', 'availability_60', 'availability_90',\n",
              "       'availability_365', 'number_of_reviews', 'number_of_reviews_ltm',\n",
              "       'number_of_reviews_l30d', 'first_review', 'last_review',\n",
              "       'review_scores_rating', 'review_scores_accuracy',\n",
              "       'review_scores_cleanliness', 'review_scores_checkin',\n",
              "       'review_scores_communication', 'review_scores_location',\n",
              "       'review_scores_value', 'reviews_per_month'],\n",
              "      dtype='object')"
            ]
          },
          "metadata": {},
          "execution_count": 135
        }
      ]
    },
    {
      "cell_type": "markdown",
      "metadata": {
        "id": "OdUHhulwrYde"
      },
      "source": [
        "###Dealing with missing values"
      ]
    },
    {
      "cell_type": "code",
      "metadata": {
        "colab": {
          "base_uri": "https://localhost:8080/"
        },
        "id": "5j8d1Anxhcdl",
        "outputId": "7966620b-a7e2-45bc-e02d-bfffaa3dae70"
      },
      "source": [
        "df.isnull().mean()"
      ],
      "execution_count": 136,
      "outputs": [
        {
          "output_type": "execute_result",
          "data": {
            "text/plain": [
              "id                              0.000000\n",
              "host_response_time              0.324293\n",
              "host_response_rate              0.324293\n",
              "host_acceptance_rate            0.373879\n",
              "host_is_superhost               0.000769\n",
              "host_has_profile_pic            0.000769\n",
              "host_identity_verified          0.000769\n",
              "neighbourhood                   0.455924\n",
              "neighbourhood_cleansed          0.000000\n",
              "neighbourhood_group_cleansed    1.000000\n",
              "latitude                        0.000000\n",
              "longitude                       0.000000\n",
              "property_type                   0.000000\n",
              "room_type                       0.000000\n",
              "accommodates                    0.000000\n",
              "bathrooms                       1.000000\n",
              "bathrooms_text                  0.002990\n",
              "bedrooms                        0.064876\n",
              "beds                            0.008884\n",
              "amenities                       0.000000\n",
              "price                           0.000000\n",
              "availability_30                 0.000000\n",
              "availability_60                 0.000000\n",
              "availability_90                 0.000000\n",
              "availability_365                0.000000\n",
              "number_of_reviews               0.000000\n",
              "number_of_reviews_ltm           0.000000\n",
              "number_of_reviews_l30d          0.000000\n",
              "first_review                    0.356240\n",
              "last_review                     0.356240\n",
              "review_scores_rating            0.356240\n",
              "review_scores_accuracy          0.375673\n",
              "review_scores_cleanliness       0.375630\n",
              "review_scores_checkin           0.375673\n",
              "review_scores_communication     0.375587\n",
              "review_scores_location          0.375715\n",
              "review_scores_value             0.375630\n",
              "reviews_per_month               0.356240\n",
              "dtype: float64"
            ]
          },
          "metadata": {},
          "execution_count": 136
        }
      ]
    },
    {
      "cell_type": "code",
      "metadata": {
        "id": "2G-7JfH8iQyu"
      },
      "source": [
        "#Dropping columns over 40% of missing values\n",
        "df.drop(['neighbourhood', 'neighbourhood_group_cleansed', 'bathrooms',], axis=1, inplace=True)"
      ],
      "execution_count": 137,
      "outputs": []
    },
    {
      "cell_type": "code",
      "metadata": {
        "id": "Nbyx6gcwrzzP"
      },
      "source": [
        "#For some columns we are going to fill in missing values with the most frequent value\n",
        "for column in ['host_response_time', 'host_is_superhost', 'host_has_profile_pic', 'host_identity_verified', \n",
        "               'bathrooms_text', 'bedrooms', 'beds', 'first_review', 'last_review']:\n",
        "               df[column].fillna(df[column].mode()[0], inplace=True)"
      ],
      "execution_count": 138,
      "outputs": []
    },
    {
      "cell_type": "code",
      "metadata": {
        "colab": {
          "base_uri": "https://localhost:8080/"
        },
        "id": "TK_AFOw0tQpH",
        "outputId": "79b468ad-e0e9-4432-b0f0-8b284cf76f16"
      },
      "source": [
        "#Checking again the missing values\n",
        "df.isnull().mean()"
      ],
      "execution_count": 139,
      "outputs": [
        {
          "output_type": "execute_result",
          "data": {
            "text/plain": [
              "id                             0.000000\n",
              "host_response_time             0.000000\n",
              "host_response_rate             0.324293\n",
              "host_acceptance_rate           0.373879\n",
              "host_is_superhost              0.000000\n",
              "host_has_profile_pic           0.000000\n",
              "host_identity_verified         0.000000\n",
              "neighbourhood_cleansed         0.000000\n",
              "latitude                       0.000000\n",
              "longitude                      0.000000\n",
              "property_type                  0.000000\n",
              "room_type                      0.000000\n",
              "accommodates                   0.000000\n",
              "bathrooms_text                 0.000000\n",
              "bedrooms                       0.000000\n",
              "beds                           0.000000\n",
              "amenities                      0.000000\n",
              "price                          0.000000\n",
              "availability_30                0.000000\n",
              "availability_60                0.000000\n",
              "availability_90                0.000000\n",
              "availability_365               0.000000\n",
              "number_of_reviews              0.000000\n",
              "number_of_reviews_ltm          0.000000\n",
              "number_of_reviews_l30d         0.000000\n",
              "first_review                   0.000000\n",
              "last_review                    0.000000\n",
              "review_scores_rating           0.356240\n",
              "review_scores_accuracy         0.375673\n",
              "review_scores_cleanliness      0.375630\n",
              "review_scores_checkin          0.375673\n",
              "review_scores_communication    0.375587\n",
              "review_scores_location         0.375715\n",
              "review_scores_value            0.375630\n",
              "reviews_per_month              0.356240\n",
              "dtype: float64"
            ]
          },
          "metadata": {},
          "execution_count": 139
        }
      ]
    },
    {
      "cell_type": "code",
      "metadata": {
        "colab": {
          "base_uri": "https://localhost:8080/"
        },
        "id": "LewYwE8AtQix",
        "outputId": "71a1c876-e77d-458b-cbf7-bae6226491e0"
      },
      "source": [
        "#Checking the type of columns\n",
        "df.info()"
      ],
      "execution_count": 140,
      "outputs": [
        {
          "output_type": "stream",
          "name": "stdout",
          "text": [
            "<class 'pandas.core.frame.DataFrame'>\n",
            "RangeIndex: 23414 entries, 0 to 23413\n",
            "Data columns (total 35 columns):\n",
            " #   Column                       Non-Null Count  Dtype  \n",
            "---  ------                       --------------  -----  \n",
            " 0   id                           23414 non-null  int64  \n",
            " 1   host_response_time           23414 non-null  object \n",
            " 2   host_response_rate           15821 non-null  object \n",
            " 3   host_acceptance_rate         14660 non-null  object \n",
            " 4   host_is_superhost            23414 non-null  object \n",
            " 5   host_has_profile_pic         23414 non-null  object \n",
            " 6   host_identity_verified       23414 non-null  object \n",
            " 7   neighbourhood_cleansed       23414 non-null  object \n",
            " 8   latitude                     23414 non-null  float64\n",
            " 9   longitude                    23414 non-null  float64\n",
            " 10  property_type                23414 non-null  object \n",
            " 11  room_type                    23414 non-null  object \n",
            " 12  accommodates                 23414 non-null  int64  \n",
            " 13  bathrooms_text               23414 non-null  object \n",
            " 14  bedrooms                     23414 non-null  float64\n",
            " 15  beds                         23414 non-null  float64\n",
            " 16  amenities                    23414 non-null  object \n",
            " 17  price                        23414 non-null  object \n",
            " 18  availability_30              23414 non-null  int64  \n",
            " 19  availability_60              23414 non-null  int64  \n",
            " 20  availability_90              23414 non-null  int64  \n",
            " 21  availability_365             23414 non-null  int64  \n",
            " 22  number_of_reviews            23414 non-null  int64  \n",
            " 23  number_of_reviews_ltm        23414 non-null  int64  \n",
            " 24  number_of_reviews_l30d       23414 non-null  int64  \n",
            " 25  first_review                 23414 non-null  object \n",
            " 26  last_review                  23414 non-null  object \n",
            " 27  review_scores_rating         15073 non-null  float64\n",
            " 28  review_scores_accuracy       14618 non-null  float64\n",
            " 29  review_scores_cleanliness    14619 non-null  float64\n",
            " 30  review_scores_checkin        14618 non-null  float64\n",
            " 31  review_scores_communication  14620 non-null  float64\n",
            " 32  review_scores_location       14617 non-null  float64\n",
            " 33  review_scores_value          14619 non-null  float64\n",
            " 34  reviews_per_month            15073 non-null  float64\n",
            "dtypes: float64(12), int64(9), object(14)\n",
            "memory usage: 6.3+ MB\n"
          ]
        }
      ]
    },
    {
      "cell_type": "code",
      "metadata": {
        "id": "fVcBfKXgtQaK"
      },
      "source": [
        "#Turning rate columns with % to numeric\n",
        "df['host_response_rate'] = pd.to_numeric(df['host_response_rate'].str.strip('%'))\n",
        "df['host_acceptance_rate'] = pd.to_numeric(df['host_acceptance_rate'].str.strip('%'))\n"
      ],
      "execution_count": 141,
      "outputs": []
    },
    {
      "cell_type": "code",
      "metadata": {
        "id": "6j57LXw_vxO4"
      },
      "source": [
        "#For some columns we are going to fill in missing values with the mean value\n",
        "for column in ['host_response_rate', 'host_acceptance_rate', 'review_scores_rating',\n",
        "               'review_scores_accuracy','review_scores_cleanliness', 'review_scores_checkin',\n",
        "               'review_scores_communication', 'review_scores_location','review_scores_value', \n",
        "               'reviews_per_month']:\n",
        "               df[column].fillna(df[column].mean(), inplace=True)"
      ],
      "execution_count": 142,
      "outputs": []
    },
    {
      "cell_type": "code",
      "metadata": {
        "colab": {
          "base_uri": "https://localhost:8080/"
        },
        "id": "6mjzbv0Evwzt",
        "outputId": "2325141d-83bf-44ff-e648-7eb5f0db89e9"
      },
      "source": [
        "#Checking once againg if we still have missing values\n",
        "df.isnull().sum()"
      ],
      "execution_count": 143,
      "outputs": [
        {
          "output_type": "execute_result",
          "data": {
            "text/plain": [
              "id                             0\n",
              "host_response_time             0\n",
              "host_response_rate             0\n",
              "host_acceptance_rate           0\n",
              "host_is_superhost              0\n",
              "host_has_profile_pic           0\n",
              "host_identity_verified         0\n",
              "neighbourhood_cleansed         0\n",
              "latitude                       0\n",
              "longitude                      0\n",
              "property_type                  0\n",
              "room_type                      0\n",
              "accommodates                   0\n",
              "bathrooms_text                 0\n",
              "bedrooms                       0\n",
              "beds                           0\n",
              "amenities                      0\n",
              "price                          0\n",
              "availability_30                0\n",
              "availability_60                0\n",
              "availability_90                0\n",
              "availability_365               0\n",
              "number_of_reviews              0\n",
              "number_of_reviews_ltm          0\n",
              "number_of_reviews_l30d         0\n",
              "first_review                   0\n",
              "last_review                    0\n",
              "review_scores_rating           0\n",
              "review_scores_accuracy         0\n",
              "review_scores_cleanliness      0\n",
              "review_scores_checkin          0\n",
              "review_scores_communication    0\n",
              "review_scores_location         0\n",
              "review_scores_value            0\n",
              "reviews_per_month              0\n",
              "dtype: int64"
            ]
          },
          "metadata": {},
          "execution_count": 143
        }
      ]
    },
    {
      "cell_type": "markdown",
      "metadata": {
        "id": "19p5RzUQx32z"
      },
      "source": [
        "###Now it is ok!"
      ]
    },
    {
      "cell_type": "code",
      "metadata": {
        "colab": {
          "base_uri": "https://localhost:8080/"
        },
        "id": "5az_LaNKgBCK",
        "outputId": "4d960184-234c-4850-93e9-c2d8b7d3355b"
      },
      "source": [
        "#Turning price column to numeric and float\n",
        "df['price'] = df.price.apply(remove_symbol)\n",
        "df['price'] = df['price'].astype(float)\n",
        "\n",
        "df.price.head(2)"
      ],
      "execution_count": 144,
      "outputs": [
        {
          "output_type": "execute_result",
          "data": {
            "text/plain": [
              "0    350.0\n",
              "1    297.0\n",
              "Name: price, dtype: float64"
            ]
          },
          "metadata": {},
          "execution_count": 144
        }
      ]
    },
    {
      "cell_type": "code",
      "metadata": {
        "colab": {
          "base_uri": "https://localhost:8080/",
          "height": 285
        },
        "id": "PIxzZ8zDotFh",
        "outputId": "be546b71-8d64-4c72-edfc-aa11000e1fb6"
      },
      "source": [
        "#Checking range of price\n",
        "ax = sns.boxplot(x=df['price'])"
      ],
      "execution_count": 145,
      "outputs": [
        {
          "output_type": "display_data",
          "data": {
            "image/png": "[encoded data removed]",
            "text/plain": [
              "<Figure size 432x288 with 1 Axes>"
            ]
          },
          "metadata": {}
        }
      ]
    },
    {
      "cell_type": "markdown",
      "metadata": {
        "id": "l2CUPvrOpFhu"
      },
      "source": [
        "We can see that we have some outliers. Let's remove them. "
      ]
    },
    {
      "cell_type": "code",
      "metadata": {
        "colab": {
          "base_uri": "https://localhost:8080/"
        },
        "id": "pOf49qvJpLT-",
        "outputId": "1a0b9d63-0319-4aa4-ba43-0318af19024f"
      },
      "source": [
        "#Setting a limit of 5000\n",
        "df[df['price']>5000].shape[0]"
      ],
      "execution_count": 146,
      "outputs": [
        {
          "output_type": "execute_result",
          "data": {
            "text/plain": [
              "315"
            ]
          },
          "metadata": {},
          "execution_count": 146
        }
      ]
    },
    {
      "cell_type": "markdown",
      "metadata": {
        "id": "LFLYYQEgh_00"
      },
      "source": [
        "We have 315 rows over 5000 in price. Let's remove them."
      ]
    },
    {
      "cell_type": "code",
      "metadata": {
        "id": "s9pCHmocpLKO"
      },
      "source": [
        "df = df[df['price']<5000]"
      ],
      "execution_count": 147,
      "outputs": []
    },
    {
      "cell_type": "code",
      "metadata": {
        "colab": {
          "base_uri": "https://localhost:8080/",
          "height": 248
        },
        "id": "jqB36Ufep-Rv",
        "outputId": "cfbd6749-dcf1-463f-ebff-b96c2eb0d1c6"
      },
      "source": [
        "#Checking new range of price\n",
        "ax = sns.boxplot(y=df['price'])"
      ],
      "execution_count": 148,
      "outputs": [
        {
          "output_type": "display_data",
          "data": {
            "image/png": "[encoded data removed]",
            "text/plain": [
              "<Figure size 432x288 with 1 Axes>"
            ]
          },
          "metadata": {}
        }
      ]
    },
    {
      "cell_type": "code",
      "metadata": {
        "colab": {
          "base_uri": "https://localhost:8080/"
        },
        "id": "brd2N_-NiqCT",
        "outputId": "47fa4fdf-5a05-44cf-bcca-7fbb256c009b"
      },
      "source": [
        "#Creating bath numbers column from bathroom_text\n",
        "df['bath_num'] = df.bathrooms_text.str.extract(r'(\\d+[.\\d]*)')\n",
        "\n",
        "df['bath_num'] = df['bath_num'].astype(float)\n",
        "\n",
        "df['bath_num'].head(3)"
      ],
      "execution_count": 149,
      "outputs": [
        {
          "output_type": "execute_result",
          "data": {
            "text/plain": [
              "0    1.0\n",
              "1    1.0\n",
              "2    1.0\n",
              "Name: bath_num, dtype: float64"
            ]
          },
          "metadata": {},
          "execution_count": 149
        }
      ]
    },
    {
      "cell_type": "code",
      "metadata": {
        "id": "Or8KQu9TmhjY"
      },
      "source": [
        "#Droppping bath_num NAs\n",
        "df = df[df['bath_num'].notna()]"
      ],
      "execution_count": 150,
      "outputs": []
    },
    {
      "cell_type": "code",
      "metadata": {
        "id": "LH3QnB2gjl20",
        "colab": {
          "base_uri": "https://localhost:8080/"
        },
        "outputId": "09925cb2-35b9-4cc6-a087-c20ceb18f380"
      },
      "source": [
        "#Turning float to int for bath_num values\n",
        "df['bath_num'] = df['bath_num'].astype(int)"
      ],
      "execution_count": 151,
      "outputs": [
        {
          "output_type": "stream",
          "name": "stderr",
          "text": [
            "/usr/local/lib/python3.7/dist-packages/ipykernel_launcher.py:2: SettingWithCopyWarning: \n",
            "A value is trying to be set on a copy of a slice from a DataFrame.\n",
            "Try using .loc[row_indexer,col_indexer] = value instead\n",
            "\n",
            "See the caveats in the documentation: https://pandas.pydata.org/pandas-docs/stable/user_guide/indexing.html#returning-a-view-versus-a-copy\n",
            "  \n"
          ]
        }
      ]
    },
    {
      "cell_type": "code",
      "metadata": {
        "colab": {
          "base_uri": "https://localhost:8080/"
        },
        "id": "dhMSDpM4gA0a",
        "outputId": "6853144c-aac8-46a6-b0b5-64dc99f616b0"
      },
      "source": [
        "#Checking column bath_num\n",
        "df['bath_num'].value_counts()"
      ],
      "execution_count": 152,
      "outputs": [
        {
          "output_type": "execute_result",
          "data": {
            "text/plain": [
              "1     14482\n",
              "2      5920\n",
              "3      1750\n",
              "4       460\n",
              "5       166\n",
              "6        93\n",
              "0        67\n",
              "7        49\n",
              "8        21\n",
              "11        3\n",
              "9         3\n",
              "20        3\n",
              "15        2\n",
              "10        2\n",
              "30        1\n",
              "12        1\n",
              "Name: bath_num, dtype: int64"
            ]
          },
          "metadata": {},
          "execution_count": 152
        }
      ]
    },
    {
      "cell_type": "code",
      "metadata": {
        "id": "mMuAp6zmgAdb",
        "colab": {
          "base_uri": "https://localhost:8080/"
        },
        "outputId": "ba3fb81a-e735-4a15-a171-04e4db403702"
      },
      "source": [
        "#Dropping bathrooms_text column we do not need anymore\n",
        "df.drop(['bathrooms_text'], axis=1, inplace=True)"
      ],
      "execution_count": 153,
      "outputs": [
        {
          "output_type": "stream",
          "name": "stderr",
          "text": [
            "/usr/local/lib/python3.7/dist-packages/pandas/core/frame.py:4174: SettingWithCopyWarning: \n",
            "A value is trying to be set on a copy of a slice from a DataFrame\n",
            "\n",
            "See the caveats in the documentation: https://pandas.pydata.org/pandas-docs/stable/user_guide/indexing.html#returning-a-view-versus-a-copy\n",
            "  errors=errors,\n"
          ]
        }
      ]
    },
    {
      "cell_type": "code",
      "metadata": {
        "colab": {
          "base_uri": "https://localhost:8080/"
        },
        "id": "lhS-qfdnrZC8",
        "outputId": "9e9b029e-b0ce-4c5a-dd5b-fffc7c251028"
      },
      "source": [
        "#Checking ammenities column\n",
        "df['amenities']"
      ],
      "execution_count": 154,
      "outputs": [
        {
          "output_type": "execute_result",
          "data": {
            "text/plain": [
              "0        [\"Hangers\", \"Dishes and silverware\", \"Iron\", \"...\n",
              "1        [\"Clothing storage: wardrobe\", \"Dining table\",...\n",
              "2        [\"Kitchen\", \"Cable TV\", \"Hangers\", \"Iron\", \"De...\n",
              "3        [\"Hangers\", \"Dishes and silverware\", \"Iron\", \"...\n",
              "4        [\"Hangers\", \"Dishes and silverware\", \"Iron\", \"...\n",
              "                               ...                        \n",
              "23407    [\"Washer\", \"Kitchen\", \"Cable TV\", \"Hangers\", \"...\n",
              "23408    [\"Washer\", \"Private entrance\", \"Kitchen\", \"Han...\n",
              "23409    [\"Conditioner\", \"Dining table\", \"Hangers\", \"Mi...\n",
              "23410    [\"Kitchen\", \"Hangers\", \"Long term stays allowe...\n",
              "23411    [\"Dining table\", \"Wifi \\u2013 120 Mbps\", \"Hang...\n",
              "Name: amenities, Length: 23023, dtype: object"
            ]
          },
          "metadata": {},
          "execution_count": 154
        }
      ]
    },
    {
      "cell_type": "code",
      "metadata": {
        "colab": {
          "base_uri": "https://localhost:8080/"
        },
        "id": "W_Uy45GWrY5_",
        "outputId": "b3f25be8-b1bf-482a-e28a-57e39acde292"
      },
      "source": [
        "# Handle amenities - Explore most common amenities\n",
        "amenities = []\n",
        "for index, row in df.iterrows():\n",
        "    row['amenities']= row['amenities'].replace('[', '')\n",
        "    row['amenities']=row['amenities'].replace(']', '')\n",
        "    row['amenities']=row['amenities'].replace('\"', '')\n",
        "    my_list= row['amenities'].split(',')\n",
        "    for n in my_list:\n",
        "        amenities.append(n)\n",
        "\n",
        "amenities_count= Counter(amenities)\n",
        "amenities_count.most_common()"
      ],
      "execution_count": 155,
      "outputs": [
        {
          "output_type": "execute_result",
          "data": {
            "text/plain": [
              "[(' Wifi', 20206),\n",
              " (' Long term stays allowed', 19571),\n",
              " (' Essentials', 19347),\n",
              " (' Kitchen', 18951),\n",
              " (' Air conditioning', 18001),\n",
              " (' Iron', 15159),\n",
              " (' Elevator', 14283),\n",
              " (' Hot water', 13711),\n",
              " (' Dedicated workspace', 12628),\n",
              " (' TV', 11179),\n",
              " (' Dishes and silverware', 11119),\n",
              " (' Cooking basics', 10224),\n",
              " (' Hangers', 10095),\n",
              " (' Hair dryer', 9894),\n",
              " (' Refrigerator', 9893),\n",
              " (' Microwave', 9675),\n",
              " (' Bed linens', 9444),\n",
              " (' Coffee maker', 8651),\n",
              " (' Free parking on premises', 8394),\n",
              " (' Cable TV', 8255),\n",
              " ('Washer', 8060),\n",
              " (' Stove', 8004),\n",
              " (' TV with standard cable', 7939),\n",
              " (' Oven', 7472),\n",
              " (' Shampoo', 5911),\n",
              " (' Washer', 5871),\n",
              " (' Extra pillows and blankets', 5837),\n",
              " ('Hangers', 5832),\n",
              " (' Fire extinguisher', 5814),\n",
              " (' Pool', 5332),\n",
              " (' Luggage dropoff allowed', 5115),\n",
              " (' Host greets you', 4504),\n",
              " (' Free street parking', 4434),\n",
              " (' Room-darkening shades', 4032),\n",
              " (' Gym', 3856),\n",
              " (' Private entrance', 3797),\n",
              " (' Patio or balcony', 3649),\n",
              " (' First aid kit', 3585),\n",
              " (' Dryer', 3504),\n",
              " (' Lock on bedroom door', 3426),\n",
              " (' Smoke alarm', 3411),\n",
              " (' Paid parking off premises', 2821),\n",
              " (' Beachfront', 2425),\n",
              " (' Drying rack for clothing', 2415),\n",
              " (' Laundromat nearby', 2266),\n",
              " (' Building staff', 2220),\n",
              " (' Ceiling fan', 2145),\n",
              " (' Cleaning products', 2048),\n",
              " (' Ethernet connection', 2029),\n",
              " (' Carbon monoxide alarm', 2020),\n",
              " (' Body soap', 1936),\n",
              " ('Kitchen', 1913),\n",
              " (' Backyard', 1880),\n",
              " (' Security cameras on property', 1739),\n",
              " (' Wine glasses', 1629),\n",
              " (' Cleaning before checkout', 1524),\n",
              " (' Heating', 1500),\n",
              " (' BBQ grill', 1475),\n",
              " (' Hot tub', 1402),\n",
              " (' Breakfast', 1301),\n",
              " (' Freezer', 1263),\n",
              " (' Toaster', 1235),\n",
              " ('Clothing storage: wardrobe', 1176),\n",
              " ('Dining table', 1176),\n",
              " (' Pour-over coffee', 1072),\n",
              " (' Window guards', 1047),\n",
              " (' Dining table', 1046),\n",
              " (' Clothing storage', 991),\n",
              " (' Waterfront', 929),\n",
              " (' Pocket wifi', 890),\n",
              " (' Crib', 835),\n",
              " ('Private entrance', 801),\n",
              " (' Hot water kettle', 783),\n",
              " (' Paid parking on premises', 779),\n",
              " (' Beach essentials', 770),\n",
              " (' Single level home', 750),\n",
              " (' Mini fridge', 731),\n",
              " (' Dishwasher', 720),\n",
              " (' Portable fans', 712),\n",
              " (' Outdoor furniture', 640),\n",
              " ('Stove', 603),\n",
              " (' Lockbox', 602),\n",
              " (' Children\\\\u2019s books and toys', 554),\n",
              " (' Barbecue utensils', 547),\n",
              " (' Nespresso machine', 538),\n",
              " ('Fire extinguisher', 524),\n",
              " (' Safe', 498),\n",
              " (' Bathtub', 496),\n",
              " (' Window AC unit', 487),\n",
              " ('Dishes and silverware', 481),\n",
              " ('Conditioner', 457),\n",
              " (' Children\\\\u2019s dinnerware', 452),\n",
              " (' Private patio or balcony', 452),\n",
              " (' Free washer \\\\u2013 In unit', 447),\n",
              " (' Shower gel', 446),\n",
              " (' Outdoor shower', 437),\n",
              " (' Outdoor dining area', 428),\n",
              " (' Smart lock', 416),\n",
              " (' Pack \\\\u2019n Play/travel crib', 410),\n",
              " ('Long term stays allowed', 401),\n",
              " (' Baking sheet', 359),\n",
              " (' Gas stove', 348),\n",
              " (' Babysitter recommendations', 345),\n",
              " (' Shared pool', 326),\n",
              " (' Lake access', 313),\n",
              " ('Security cameras on property', 291),\n",
              " (' Shared sauna', 289),\n",
              " (' Keypad', 263),\n",
              " ('High chair', 244),\n",
              " (' Paid parking lot off premises', 243),\n",
              " (' Trash compactor', 226),\n",
              " (' Paid street parking off premises', 218),\n",
              " (' Bread maker', 210),\n",
              " (' Bidet', 206),\n",
              " (' Rice maker', 205),\n",
              " ('Heating', 202),\n",
              " (' Sound system', 200),\n",
              " (' Baby safety gates', 194),\n",
              " (' Baby bath', 192),\n",
              " (' Stainless steel oven', 192),\n",
              " (' Board games', 187),\n",
              " (' standard cable', 183),\n",
              " (' Conditioner', 179),\n",
              " (' Dedicated workspace: table', 167),\n",
              " (' Sauna', 155),\n",
              " (' Indoor fireplace', 146),\n",
              " (' Free dryer \\\\u2013 In unit', 145),\n",
              " (' Outlet covers', 144),\n",
              " (' Netflix', 138),\n",
              " (' Ping pong table', 137),\n",
              " (' Game console', 133),\n",
              " (' Pool table', 128),\n",
              " (' Stainless steel gas stove', 127),\n",
              " (' High chair', 125),\n",
              " (' Mosquito net', 123),\n",
              " (' Clothing storage: walk-in closet', 119),\n",
              " (' Private pool', 116),\n",
              " (' Shared patio or balcony', 115),\n",
              " ('Carbon monoxide alarm', 114),\n",
              " (' Clothing storage: closet', 111),\n",
              " (' Washer \\\\u2013\\\\u00a0In unit', 109),\n",
              " (' Bikes', 109),\n",
              " (' Wifi \\\\u2013 120 Mbps', 108),\n",
              " ('Cable TV', 101),\n",
              " (' Wifi \\\\u2013 240 Mbps', 99),\n",
              " (' Private fenced garden or backyard', 98),\n",
              " (' Shared hot tub', 96),\n",
              " (' Dedicated workspace: desk', 95),\n",
              " (' Changing table', 95),\n",
              " (' Shared gym in building', 93),\n",
              " (' Free residential garage on premises \\\\u2013 1 space', 91),\n",
              " (' Wifi \\\\u2013 250 Mbps', 88),\n",
              " (' Paid parking garage off premises', 87),\n",
              " (' HDTV with standard cable', 85),\n",
              " (' Brastemp refrigerator', 82),\n",
              " (' Shared outdoor pool', 79),\n",
              " (' Wifi \\\\u2013 200 Mbps', 79),\n",
              " (' Private hot tub', 76),\n",
              " (' Shared fenced garden or backyard', 76),\n",
              " (' Piano', 75),\n",
              " (' Central air conditioning', 73),\n",
              " ('Iron', 73),\n",
              " (' premium cable', 72),\n",
              " (' Free parking garage on premises \\\\u2013 1 space', 72),\n",
              " (' Shared garden or backyard', 72),\n",
              " ('TV', 69),\n",
              " (' Table corner guards', 66),\n",
              " (' Electric stove', 65),\n",
              " (' Clothing storage: dresser', 65),\n",
              " (' Clothing storage: wardrobe and dresser', 64),\n",
              " (' Consul refrigerator', 64),\n",
              " (' Paid washer \\\\u2013 In building', 64),\n",
              " (' HDTV with Netflix', 59),\n",
              " (' Clothing storage: dresser and wardrobe', 57),\n",
              " (' EV charger', 54),\n",
              " (' HDTV', 54),\n",
              " (' Private garden or backyard', 49),\n",
              " (' Wifi \\\\u2013 35 Mbps', 47),\n",
              " ('Dryer', 47),\n",
              " (' Stainless steel stove', 47),\n",
              " (' Wifi \\\\u2013 50 Mbps', 46),\n",
              " (' Paid dryer \\\\u2013 In building', 46),\n",
              " (' 32\\\\ HDTV with standard cable', 45),\n",
              " (' Free residential garage on premises', 45),\n",
              " (' Dedicated workspace: desk and office chair', 45),\n",
              " (' Private sauna', 44),\n",
              " (' Ski-in/Ski-out', 43),\n",
              " (' Dedicated workspace: office chair and desk', 42),\n",
              " (' Clothing storage: wardrobe', 42),\n",
              " (' Bluetooth sound system', 41),\n",
              " (' HBO Max', 41),\n",
              " (' Free parking garage on premises', 39),\n",
              " (' Fire pit', 39),\n",
              " (' Paid parking garage on premises', 38),\n",
              " (' Paid parking lot on premises', 38),\n",
              " (' Dedicated workspace: table and office chair', 38),\n",
              " (' Washer \\\\u2013\\\\u00a0In building', 38),\n",
              " (' Dryer \\\\u2013\\\\u00a0In unit', 36),\n",
              " (' Paid washer \\\\u2013 In unit', 35),\n",
              " (' Electrolux refrigerator', 34),\n",
              " (' Chromecast', 33),\n",
              " (' Keurig coffee machine', 32),\n",
              " (' office chair', 32),\n",
              " (' Free washer', 32),\n",
              " (' table', 32),\n",
              " (' Apple TV', 31),\n",
              " (' Dedicated workspace: office chair and table', 31),\n",
              " (' Brastemp stainless steel oven', 31),\n",
              " (' Dryer \\\\u2013 In building', 31),\n",
              " (' Amazon Prime Video', 31),\n",
              " ('Mini fridge', 29),\n",
              " ('Elevator', 29),\n",
              " (' 32\\\\ HDTV', 28),\n",
              " (' Dove body soap', 27),\n",
              " (' and office chair', 27),\n",
              " (' Shared indoor pool', 27),\n",
              " (' TV with Netflix', 27),\n",
              " ('Breakfast', 26),\n",
              " (' desk', 25),\n",
              " (' Brastemp stainless steel gas stove', 25),\n",
              " (' Wifi \\\\u2013 100 Mbps', 25),\n",
              " (' Bedroom comforts', 24),\n",
              " (' Bathroom essentials', 24),\n",
              " (' consul refrigerator', 24),\n",
              " (' 32\\\\ HDTV with Netflix', 24),\n",
              " (' and table', 24),\n",
              " (' Brastemp  refrigerator', 24),\n",
              " (' and desk', 23),\n",
              " (' Eletrolux refrigerator', 23),\n",
              " (' Dedicated workspace: office chair', 23),\n",
              " (' 32\\\\ TV', 23),\n",
              " (' Baby monitor', 22),\n",
              " ('Wifi \\\\u2013 120 Mbps', 22),\n",
              " (' Clothing storage: closet and wardrobe', 22),\n",
              " (' Paid parking garage on premises \\\\u2013 1 space', 22),\n",
              " (' Paid valet parking on premises', 22),\n",
              " (' Gym in building', 21),\n",
              " (' Children\\\\u2019s books and toys for ages 0-2 years old', 21),\n",
              " (' HDTV with premium cable', 21),\n",
              " (' Full kitchen', 20),\n",
              " (' and dresser', 20),\n",
              " (' 42\\\\ HDTV with standard cable', 20),\n",
              " (' 43\\\\ HDTV with Netflix', 19),\n",
              " (' Wifi \\\\u2013 10 Mbps', 19),\n",
              " (' Wifi \\\\u2013 300 Mbps', 19),\n",
              " (' HDTV with Amazon Prime Video', 18),\n",
              " (' Central heating', 18),\n",
              " (' Children\\\\u2019s books and toys for ages 2-5 years old', 18),\n",
              " (' 42\\\\ HDTV with Netflix', 18),\n",
              " ('', 18),\n",
              " (' Free residential garage on premises \\\\u2013 2 spaces', 18),\n",
              " (' wardrobe', 17),\n",
              " (' 32\\\\ TV with standard cable', 17),\n",
              " (' closet', 17),\n",
              " (' 2-5 years old', 17),\n",
              " ('First aid kit', 17),\n",
              " ('Induction stove', 16),\n",
              " (' Granado body soap', 16),\n",
              " (' Wifi \\\\u2013 15 Mbps', 16),\n",
              " (' Free parking garage on premises \\\\u2013 2 spaces', 16),\n",
              " (' 5-10 years old', 16),\n",
              " (' and 10+ years old', 16),\n",
              " (' Clothing storage: wardrobe and walk-in closet', 16),\n",
              " (' and wardrobe', 15),\n",
              " (' Stainless steel electric stove', 15),\n",
              " (' Electrolux stainless steel oven', 15),\n",
              " (' Private gym in building', 15),\n",
              " (' Dedicated workspace: table and desk', 15),\n",
              " (' Fireplace guards', 14),\n",
              " (' Record player', 14),\n",
              " (' Clothing storage: walk-in closet and wardrobe', 14),\n",
              " (' Children\\\\u2019s books and toys for ages 0-2 years old and 2-5 years old',\n",
              "  14),\n",
              " (' Sound system with Bluetooth and aux', 14),\n",
              " (' Paid parking lot on premises \\\\u2013 1 space', 14),\n",
              " (' TV with Chromecast', 14),\n",
              " ('Safe', 14),\n",
              " (' Self check-in', 13),\n",
              " (' TV with premium cable', 13),\n",
              " ('Freezer', 13),\n",
              " ('Air conditioning', 13),\n",
              " (' 50\\\\ HDTV with Amazon Prime Video', 13),\n",
              " (' Consul stainless steel gas stove', 13),\n",
              " (' Portable air conditioning', 13),\n",
              " (' Clothing storage: wardrobe and closet', 13),\n",
              " (' walk-in closet', 12),\n",
              " (' Sound system with aux', 12),\n",
              " (' Shared gym', 12),\n",
              " (' Shared outdoor heated pool', 12),\n",
              " ('Dishwasher', 12),\n",
              " (' Shared gym nearby', 12),\n",
              " (' 55\\\\ HDTV with Amazon Prime Video', 12),\n",
              " ('Microwave', 12),\n",
              " ('Essentials', 12),\n",
              " (' dresser', 11),\n",
              " (' Dedicated workspace: desk and table', 11),\n",
              " (' Lux body soap', 11),\n",
              " (' Free parking on premises \\\\u2013 1 space', 11),\n",
              " (' 40\\\\ HDTV with standard cable', 11),\n",
              " (' Eletrolux stainless steel gas stove', 11),\n",
              " (' Phebo body soap', 11),\n",
              " ('Dedicated workspace', 11),\n",
              " ('Wifi', 11),\n",
              " (' brastemp refrigerator', 11),\n",
              " (' Wifi \\\\u2013 400 Mbps', 11),\n",
              " (' 43\\\\ HDTV', 11),\n",
              " (' Shared outdoor lap pool', 11),\n",
              " (' Consul stainless steel oven', 11),\n",
              " (' Wifi \\\\u2013 125 Mbps', 11),\n",
              " (' 40\\\\ HDTV', 11),\n",
              " (' Free washer \\\\u2013 In building', 11),\n",
              " (' Private outdoor pool', 10),\n",
              " (' Eletrolux stainless steel oven', 10),\n",
              " (' Clothing storage: dresser and closet', 10),\n",
              " ('Portable fans', 10),\n",
              " (' Private indoor pool', 10),\n",
              " (' 55\\\\ HDTV with Netflix', 10),\n",
              " (' and monitor', 10),\n",
              " (' 50\\\\ HDTV with Netflix', 10),\n",
              " (' 42\\\\ HDTV with Amazon Prime Video', 10),\n",
              " (' 42\\\\ HDTV', 10),\n",
              " (' Paid dryer \\\\u2013 In unit', 10),\n",
              " (' 40\\\\ HDTV with Netflix', 9),\n",
              " (' Wifi \\\\u2013 60 Mbps', 9),\n",
              " (' dove body soap', 9),\n",
              " (' Clothing storage: dresser and walk-in closet', 9),\n",
              " (' Portable heater', 9),\n",
              " (' 32\\\\ HDTV with Amazon Prime Video', 9),\n",
              " (' Free carport on premises', 9),\n",
              " (' 43\\\\ HDTV with standard cable', 9),\n",
              " ('Pool', 9),\n",
              " (' Game console: PS4', 9),\n",
              " (' monitor', 9),\n",
              " (' Free driveway parking on premises', 9),\n",
              " (' Clothing storage: walk-in closet and dresser', 8),\n",
              " (' Dove shampoo', 8),\n",
              " (' Brastemp stove', 8),\n",
              " (' Brastemp oven', 8),\n",
              " (' Induction stove', 8),\n",
              " (' Kayak', 8),\n",
              " (' Wifi \\\\u2013 20 Mbps', 8),\n",
              " (' Clothing storage: closet and dresser', 8),\n",
              " (' Wifi \\\\u2013 70 Mbps', 8),\n",
              " (' 32\\\\ HDTV with premium cable', 8),\n",
              " (' eletrolux refrigerator', 8),\n",
              " (' Brastemp gas stove', 8),\n",
              " (' Brastemp stainless steel stove', 8),\n",
              " (' Electrolux  refrigerator', 8),\n",
              " (' Natura body soap', 8),\n",
              " (' Panasonic refrigerator', 8),\n",
              " (' Free dryer \\\\u2013 In building', 8),\n",
              " (' Wifi \\\\u2013 30 Mbps', 8),\n",
              " (' Wifi \\\\u2013 500 Mbps', 7),\n",
              " (' Nivea body soap', 7),\n",
              " (' Protex body soap', 7),\n",
              " (' 42\\\\ HDTV with Chromecast', 7),\n",
              " (' Paid washer', 7),\n",
              " (' 32\\\\ HDTV with Chromecast', 7),\n",
              " (' Private indoor rooftop pool', 7),\n",
              " (' sabonete liquido e em barra body soap', 7),\n",
              " (' Wifi \\\\u2013 150 Mbps', 7),\n",
              " (' Roku', 7),\n",
              " (' 32\\\\ TV with Netflix', 7),\n",
              " (' and 5-10 years old', 7),\n",
              " (' 42\\\\ HDTV with premium cable', 7),\n",
              " (' Free wifi', 7),\n",
              " (' Children\\\\u2019s books and toys for ages 5-10 years old', 6),\n",
              " ('Shared outdoor rooftop pool', 6),\n",
              " (' 50\\\\ TV with standard cable', 6),\n",
              " (' Paid valet parking on premises \\\\u2013 1 space', 6),\n",
              " (' Pets allowed', 6),\n",
              " (' Dove conditioner', 6),\n",
              " ('Shared pool', 6),\n",
              " (' and closet', 6),\n",
              " (' HDTV with Apple TV', 6),\n",
              " (' Wifi \\\\u2013 140 Mbps', 6),\n",
              " ('Hot water', 6),\n",
              " (' 50\\\\ HDTV with standard cable', 6),\n",
              " (' Outdoor pool', 6),\n",
              " (' Electrolux stainless steel gas stove', 6),\n",
              " (' 40\\\\ TV with standard cable', 6),\n",
              " ('Record player', 6),\n",
              " (' Free driveway parking on premises \\\\u2013 1 space', 6),\n",
              " (' 43\\\\ HDTV with Amazon Prime Video', 6),\n",
              " (' Consul gas stove', 6),\n",
              " (' Private gym', 6),\n",
              " (' Free residential garage on premises \\\\u2013 3 spaces', 6),\n",
              " (' Minibar', 6),\n",
              " (' Bed sheets and pillows', 6),\n",
              " (' HDTV with Chromecast', 6),\n",
              " (' 40\\\\ HDTV with premium cable', 5),\n",
              " ('Stainless steel electric stove', 5),\n",
              " (' Gym nearby', 5),\n",
              " ('Children\\\\u2019s dinnerware', 5),\n",
              " (' Dedicated workspace: monitor', 5),\n",
              " (' CONSUL refrigerator', 5),\n",
              " (' Cooktop gas stove', 5),\n",
              " ('TV with standard cable', 5),\n",
              " (' electrolux refrigerator', 5),\n",
              " ('Paid parking garage on premises \\\\u2013 1 space', 5),\n",
              " (' Free dryer', 5),\n",
              " (' Sony Bluetooth sound system', 5),\n",
              " (' 50\\\\ TV with Roku', 5),\n",
              " (' Wifi \\\\u2013 72 Mbps', 5),\n",
              " (' BRASTEMP refrigerator', 5),\n",
              " (' 42\\\\ TV with standard cable', 5),\n",
              " (' Children\\\\u2019s books and toys for ages 5-10 years old and 10+ years old',\n",
              "  5),\n",
              " (' Pantene conditioner', 5),\n",
              " (' nivea body soap', 5),\n",
              " (' and walk-in closet', 5),\n",
              " (' Dispenser com Sabonete L\\\\u00edquido Erva Doce', 5),\n",
              " (' Brastemp  gas stove', 5),\n",
              " (' Clothing storage: walk-in closet and closet', 5),\n",
              " (' Granado shampoo', 5),\n",
              " ('Window AC unit', 5),\n",
              " (' Pantene shampoo', 5),\n",
              " (' Laundry services', 5),\n",
              " (' Concierge', 5),\n",
              " (' Fitness center', 5),\n",
              " (' Onsite bar', 5),\n",
              " ('TV with Netflix', 4),\n",
              " (' Wifi \\\\u2013 5 Mbps', 4),\n",
              " (' Fenced garden or backyard', 4),\n",
              " (' 32\\\\ TV with Amazon Prime Video', 4),\n",
              " ('Boat slip', 4),\n",
              " ('Keypad', 4),\n",
              " (' Shared indoor lap pool', 4),\n",
              " (' Children\\\\u2019s books and toys for ages 2-5 years old and 5-10 years old',\n",
              "  4),\n",
              " (' Dove', 4),\n",
              " (' 50\\\\ HDTV', 4),\n",
              " (' Wifi \\\\u2013 40 Mbps', 4),\n",
              " ('Electrolux stainless steel gas stove', 4),\n",
              " (' phebo body soap', 4),\n",
              " (' DOVE body soap', 4),\n",
              " ('Phebo body soap', 4),\n",
              " (' consul stainless steel gas stove', 4),\n",
              " (' LG sound system with aux', 4),\n",
              " (' lux body soap', 4),\n",
              " (' Electrolux  stainless steel gas stove', 4),\n",
              " (' cooktop gas stove', 4),\n",
              " (' Geral gas stove', 4),\n",
              " (' Wifi \\\\u2013 600 Mbps', 4),\n",
              " ('Cooking basics', 4),\n",
              " (' Private gym nearby', 4),\n",
              " (' 60\\\\ HDTV with Amazon Prime Video', 4),\n",
              " ('TV with Chromecast', 4),\n",
              " ('Clothing storage: dresser', 4),\n",
              " ('Wine glasses', 4),\n",
              " (' 40\\\\ TV', 4),\n",
              " (' Eletrolux oven', 4),\n",
              " ('Dedicated workspace: desk', 4),\n",
              " ('Toiletries', 4),\n",
              " (' Room service', 4),\n",
              " (' Eletrolux gas stove', 4),\n",
              " (' Brastemp  stainless steel gas stove', 4),\n",
              " ('Outdoor furniture', 4),\n",
              " (' Seda shampoo', 4),\n",
              " ('Outdoor dining area', 4),\n",
              " (' protex body soap', 3),\n",
              " (' consul stove', 3),\n",
              " (' Shared outdoor heated lap pool', 3),\n",
              " (' Consul  refrigerator', 3),\n",
              " (' variadas body soap', 3),\n",
              " (' L\\\\u00edquido body soap', 3),\n",
              " (' Natura conditioner', 3),\n",
              " (' Dako gas stove', 3),\n",
              " (' 42\\\\ TV', 3),\n",
              " ('  Amenities Realgem\\\\u2019s -Talentos do Brasil Feita a base de mel', 3),\n",
              " (' a linha respeita a natureza e promove o turismo sustent\\\\u00e1vel', 3),\n",
              " (' pois tem formula\\\\u00e7\\\\u00e3o biodegrad\\\\u00e1vel', 3),\n",
              " (' frascos recicl\\\\u00e1veis e extratos adquiridos de pequenos agricultores brasileiros. Al\\\\u00e9m dos extratos da agricultura familiar',\n",
              "  3),\n",
              " (' que valorizam e geram renda para os agricultores', 3),\n",
              " (' 5% do valor das vendas dos cosm\\\\u00e9ticos \\\\u00e9 destinado \\\\u00e0 Cooperativa fabricante da mat\\\\u00e9ria-prima Outro diferencial \\\\u00e9 que estes cosm\\\\u00e9ticos s\\\\u00e3o os \\\\u00fanicos do mercado hoteleiro altamente sustent\\\\u00e1veis e homologados pelo Minist\\\\u00e9rio do Turismo',\n",
              "  3),\n",
              " (' Free parking on premises \\\\u2013 2 spaces', 3),\n",
              " ('Clothing storage: walk-in closet', 3),\n",
              " (' Sony sound system with aux', 3),\n",
              " (' Shared heated pool', 3),\n",
              " (' Philips sound system with aux', 3),\n",
              " (' consul oven', 3),\n",
              " (' 43\\\\ HDTV with premium cable', 3),\n",
              " (' 49\\\\ HDTV with standard cable', 3),\n",
              " (' Dove  body soap', 3),\n",
              " (' Cooktop stainless steel gas stove', 3),\n",
              " (' Electrolux gas stove', 3),\n",
              " (' a gas junto com o fog\\\\u00e3o oven', 3),\n",
              " (' consul stainless steel oven', 3),\n",
              " (' Seda conditioner', 3),\n",
              " (' 50\\\\ HDTV with premium cable', 3),\n",
              " (' HDTV with HBO Max', 3),\n",
              " (' 60\\\\ HDTV with Netflix', 3),\n",
              " ('Lock on bedroom door', 3),\n",
              " (' Boat slip', 3),\n",
              " (' Free residential garage on premises \\\\u2013 4 spaces', 3),\n",
              " (' Francis body soap', 3),\n",
              " (' Geladeira refrigerator', 3),\n",
              " (' Smoking allowed', 3),\n",
              " (' sabonete em barra e liquido body soap', 3),\n",
              " (' fog\\\\u00e3o a gas com forno gas stove', 3),\n",
              " (' 49\\\\ HDTV with Amazon Prime Video', 3),\n",
              " (' Brastemp stainless steel electric stove', 3),\n",
              " (' Free parking garage on premises \\\\u2013 3 spaces', 3),\n",
              " (' sabonete liquido body soap', 3),\n",
              " (' 55\\\\ HDTV', 3),\n",
              " (' brastemp gas stove', 3),\n",
              " (' eletrolux stainless steel gas stove', 3),\n",
              " (' 49\\\\ HDTV with Netflix', 3),\n",
              " (' 42\\\\ TV with Netflix', 3),\n",
              " (' Consul stainless steel stove', 3),\n",
              " (' Shampoo e Condicionador 2x1 Realgems - Capim Lim\\\\u00e3o conditioner', 3),\n",
              " (' Shampoo e Condicionador 2x1 Realgems - Capim Lim\\\\u00e3o shampoo', 3),\n",
              " (' Realgems - Capim Lim\\\\u00e3o body soap', 3),\n",
              " (' C\\\\u00f4nsul  refrigerator', 3),\n",
              " (' 29\\\\ TV with standard cable', 3),\n",
              " ('Wifi \\\\u2013 35 Mbps', 3),\n",
              " (' INDUSTRIAL refrigerator', 3),\n",
              " (' LOFRA stainless steel gas stove', 3),\n",
              " (' LOFRA stainless steel oven', 3),\n",
              " (' Complimentary breakfast buffet', 3),\n",
              " (' JBL sound system with aux', 3),\n",
              " (' BRASTEMP stainless steel oven', 3),\n",
              " (' ELETROLUX refrigerator', 3),\n",
              " (' 32\\\\ HDTV with Roku', 3),\n",
              " (' brastemp oven', 3),\n",
              " (' Walita oven', 3),\n",
              " (' 56\\\\ HDTV with Netflix', 3),\n",
              " (' liquido body soap', 2),\n",
              " (' variadas conditioner', 2),\n",
              " (' Bosch stainless steel oven', 2),\n",
              " (' Erva doce body soap', 2),\n",
              " (' PHEBO body soap', 2),\n",
              " (' Shared indoor rooftop pool', 2),\n",
              " (' variada body soap', 2),\n",
              " (' Amenities body soap', 2),\n",
              " (' Electrolux oven', 2),\n",
              " (' Electrolux  stove', 2),\n",
              " (' Shared outdoor rooftop pool', 2),\n",
              " (' 47\\\\ HDTV with standard cable', 2),\n",
              " ('40\\\\ HDTV with standard cable', 2),\n",
              " (' Elseve conditioner', 2),\n",
              " (' Elseve shampoo', 2),\n",
              " (' Johnsons body soap', 2),\n",
              " (' Philips Bluetooth sound system', 2),\n",
              " (' Consul frost free refrigerator', 2),\n",
              " (' consul gas stove', 2),\n",
              " (' TV with Apple TV', 2),\n",
              " (' Diversas body soap', 2),\n",
              " (' Wifi \\\\u2013 1 Mbps', 2),\n",
              " (' Samsung sound system with aux', 2),\n",
              " (' Nivea', 2),\n",
              " (' Brastemp Clean refrigerator', 2),\n",
              " (' Consul oven', 2),\n",
              " (' HOME THEATER sound system with aux', 2),\n",
              " (' Sabonete l\\\\u00edquido body soap', 2),\n",
              " (' 50\\\\ TV', 2),\n",
              " (' 47\\\\ HDTV with Netflix', 2),\n",
              " (' dako stove', 2),\n",
              " (' 52\\\\ HDTV with Chromecast', 2),\n",
              " (' LUX body soap', 2),\n",
              " (' 27\\\\ HDTV with standard cable', 2),\n",
              " (' Game console: Xbox 360', 2),\n",
              " (' 46\\\\ HDTV', 2),\n",
              " (' Tresemm\\\\u00e9 shampoo', 2),\n",
              " (' Samsung refrigerator', 2),\n",
              " (' Oster stainless steel oven', 2),\n",
              " (' Brastemp  stainless steel oven', 2),\n",
              " (' Jhonson body soap', 2),\n",
              " (' 29\\\\ HDTV with standard cable', 2),\n",
              " (' Game console: PS3', 2),\n",
              " (' Sabonete Lux ou Dove body soap', 2),\n",
              " (' 70\\\\ HDTV with Netflix', 2),\n",
              " (' Heated pool', 2),\n",
              " (' * body soap', 2),\n",
              " (' Suitable for events', 2),\n",
              " (' Sony sound system with Bluetooth and aux', 2),\n",
              " ('Diverso conditioner', 2),\n",
              " (' Dove ou Nivea body soap', 2),\n",
              " (' Consul Duplex Frost Free refrigerator', 2),\n",
              " (' Condicionador Ceramidas e Xampu  Queratina conditioner', 2),\n",
              " (' Paid parking lot on premises \\\\u2013 30 spaces', 2),\n",
              " ('Free washer \\\\u2013 In building', 2),\n",
              " (' Wifi \\\\u2013 19 Mbps', 2),\n",
              " (' Harus conditioner', 2),\n",
              " (' 60\\\\ HDTV', 2),\n",
              " (' Philco oven', 2),\n",
              " ('Bose Bluetooth sound system', 2),\n",
              " (' Natura shampoo', 2),\n",
              " (\"L'Occitane conditioner\", 2),\n",
              " (\" L'Occitane shampoo\", 2),\n",
              " (' brastemp stainless steel oven', 2),\n",
              " (' 50\\\\ HDTV with Chromecast', 2),\n",
              " (' Esmaltec gas stove', 2),\n",
              " (' variadas marcas body soap', 2),\n",
              " (' Continental stove', 2),\n",
              " (' Wifi \\\\u2013 220 Mbps', 2),\n",
              " (' 32\\\\ TV with premium cable', 2),\n",
              " (' 40\\\\ TV with Roku', 2),\n",
              " (' 40\\\\ HDTV with Roku', 2),\n",
              " (' N\\\\u00edvea  body soap', 2),\n",
              " (' 32\\\\ HDTV with Apple TV', 2),\n",
              " (' tipo hotel body soap', 2),\n",
              " (' Sabonete em Barra body soap', 2),\n",
              " (' Wifi \\\\u2013 235 Mbps', 2),\n",
              " (' Brastemp  oven', 2),\n",
              " (' Private indoor lap pool', 2),\n",
              " (' N\\\\u00e3o h\\\\u00e1 reposi\\\\u00e7\\\\u00e3o body soap', 2),\n",
              " (' N\\\\u00e3o h\\\\u00e1 reposi\\\\u00e7\\\\u00e3o conditioner', 2),\n",
              " (' N\\\\u00e3o h\\\\u00e1 reposi\\\\u00e7\\\\u00e3o shampoo', 2),\n",
              " (' Lux', 2),\n",
              " (' eletrolux stainless steel oven', 2),\n",
              " (' Brastemp Retr\\\\u00f4 refrigerator', 2),\n",
              " (' 4 bocas gas stove', 2),\n",
              " (' Palmolive ou similar. body soap', 2),\n",
              " (' Springer conditioner', 2),\n",
              " (' Continental gas stove', 2),\n",
              " (' 55\\\\ HDTV with standard cable', 2),\n",
              " (' Stainless steel induction stove', 2),\n",
              " (' Wifi \\\\u2013 81 Mbps', 2),\n",
              " (' Indoor pool', 2),\n",
              " (' 45\\\\ HDTV with standard cable', 2),\n",
              " (' Brastemp Inverter refrigerator', 2),\n",
              " (' Free driveway parking on premises \\\\u2013 2 spaces', 2),\n",
              " ('42\\\\ TV', 2),\n",
              " (' C\\\\u00f4nsul stainless steel oven', 2),\n",
              " (' 38\\\\ HDTV with standard cable', 2),\n",
              " (' JBL Bluetooth sound system', 2),\n",
              " (' GE stainless steel oven', 2),\n",
              " (' kit b\\\\u00e1sico', 2),\n",
              " (' Shared outdoor olympic-sized pool', 2),\n",
              " (' neutro  body soap', 2),\n",
              " (' neutro  shampoo', 2),\n",
              " (' Clothing storage: closet and walk-in closet', 2),\n",
              " (' ELETROLUX stainless steel gas stove', 2),\n",
              " (' ELETROLUX stainless steel oven', 2),\n",
              " (' PANASONIC refrigerator', 2),\n",
              " (' Naturis body soap', 2),\n",
              " (' Wifi \\\\u2013 65 Mbps', 2),\n",
              " (' Airport shuttle', 2),\n",
              " (' Onsite bar \\\\u2014 Lobby Bar', 2),\n",
              " (' Toiletries', 2),\n",
              " (' 24\\\\ HDTV', 2),\n",
              " (' 2 bocas electric stove', 2),\n",
              " (' Brastemp electric stove', 2),\n",
              " (' 65\\\\ HDTV with premium cable', 2),\n",
              " (' Shared outdoor infinity pool', 2),\n",
              " (' Wifi \\\\u2013 80 Mbps', 2),\n",
              " (' 21\\\\ TV with standard cable', 2),\n",
              " (' continental stove', 2),\n",
              " (' Wifi \\\\u2013 23 Mbps', 2),\n",
              " (' 02 Bocas electric stove', 2),\n",
              " (' brastemp stove', 2),\n",
              " (' N\\\\u00edvea body soap', 2),\n",
              " (' seda shampoo', 2),\n",
              " (' Private rooftop pool', 2),\n",
              " (' Palmolive body soap', 2),\n",
              " (' Granado conditioner', 2),\n",
              " (' Eletrolux stainless steel stove', 2),\n",
              " (' Philco stainless steel oven', 2),\n",
              " ('BRASTEMP stainless steel gas stove', 2),\n",
              " (' 45\\\\ HDTV', 2),\n",
              " ('Backyard', 2),\n",
              " (' Tramontina gas stove', 2),\n",
              " (' Sab\\\\u00e3o em Barra  body soap', 2),\n",
              " (' Private outdoor rooftop pool', 2),\n",
              " (' Free carport on premises \\\\u2013 1 space', 2),\n",
              " (' Amostras shampoo', 2),\n",
              " (' cooktop 2 bocas stove', 2),\n",
              " (' Private outdoor infinity rooftop pool', 2),\n",
              " (' 58\\\\ HDTV with Amazon Prime Video', 2),\n",
              " (' Consul Frost Free 342l refrigerator', 2),\n",
              " ('Host greets you', 2),\n",
              " (' Wifi \\\\u2013 25 Mbps', 2),\n",
              " (' 40\\\\ HDTV with Amazon Prime Video', 2),\n",
              " (' Phillips stainless steel oven', 2),\n",
              " (' 65\\\\ TV', 2),\n",
              " (' Sem marca espec\\\\u00edfica', 2),\n",
              " (' mas normalmente \\\\u00e9 Seda', 2),\n",
              " (' Niely', 2),\n",
              " (' Pantene', 2),\n",
              " (' Brazilian conditioner', 1),\n",
              " (' 2 Burner Hot plate electric stove', 1),\n",
              " (' Free carport on premises \\\\u2013 2 spaces', 1),\n",
              " (' Whirlpool USA refrigerator', 1),\n",
              " (' Fischer cook top gas stove', 1),\n",
              " (' 21\\\\ TV', 1),\n",
              " (' Samsung  refrigerator', 1),\n",
              " (' Dako oven', 1),\n",
              " (' 19\\\\ TV', 1),\n",
              " (' Wifi \\\\u2013 126 Mbps', 1),\n",
              " (' Sabonete liquido neutro basico body soap', 1),\n",
              " (\" L'Or\\\\u00e9al  conditioner\", 1),\n",
              " (' Brit\\\\u00e2nia  sound system', 1),\n",
              " (' Atlas oven', 1),\n",
              " (' 24\\\\ HDTV with standard cable', 1),\n",
              " (' Consul  2 portas refrigerator', 1),\n",
              " ('Lofra oven', 1),\n",
              " (' 50\\\\ HDTV with Apple TV', 1),\n",
              " (' Lofra gas stove', 1),\n",
              " (' 2 bocas gas stove', 1),\n",
              " (' Dedicated workspace: monitor and table', 1),\n",
              " (' Frigobar Electrolux Azul refrigerator', 1),\n",
              " (' TRAMONTINA stainless steel gas stove', 1),\n",
              " (' padr\\\\u00e3o shampoo', 1),\n",
              " ('Tresem\\\\u00e9/Granado/Seda conditioner', 1),\n",
              " (' Tresem\\\\u00e9/Granado/Seda shampoo', 1),\n",
              " (' v\\\\u00e1riadas body soap', 1),\n",
              " (' variadas shampoo', 1),\n",
              " (' Wifi \\\\u2013 248 Mbps', 1),\n",
              " (' 43\\\\ TV with standard cable', 1),\n",
              " (' Espa\\\\u00e7o reservado para o hospede refrigerator', 1),\n",
              " (' Caso necess\\\\u00e1rio', 1),\n",
              " (' posso fornecer.  (Di\\\\u00e1ria', 1),\n",
              " (' sob consulta)) shampoo', 1),\n",
              " (' Para pequenas refei\\\\u00e7\\\\u00f5es', 1),\n",
              " (' e refei\\\\u00e7\\\\u00f5es r\\\\u00e1pidas a qualquer hor\\\\u00e1rio. Uma boca. electric stove',\n",
              "  1),\n",
              " (' 15\\\\ HDTV', 1),\n",
              " (' Posso fornecer (sob consulta) conditioner', 1),\n",
              " (' Nrastemp stainless steel oven', 1),\n",
              " (' Pantene pro-v', 1),\n",
              " (' embalagem da casa  Copacabana', 1),\n",
              " (' Moderno apartamento com WIFI conditioner', 1),\n",
              " (' Cadence stove', 1),\n",
              " (' Gold shampoo', 1),\n",
              " (' Gold conditioner', 1),\n",
              " (' Vide foto refrigerator', 1),\n",
              " (' Vide foto gas stove', 1),\n",
              " (' Shared outdoor heated infinity lap pool', 1),\n",
              " (' L\\\\u00edquido  body soap', 1),\n",
              " (' Sabonete Dove  body soap', 1),\n",
              " (' Condicionador monange. conditioner', 1),\n",
              " (' Shampoo monange shampoo', 1),\n",
              " (' Dove ou similar body soap', 1),\n",
              " (' Dove ou similar shampoo', 1),\n",
              " (' cooktop 2 bocas a g\\\\u00e1s  stove', 1),\n",
              " (' 04 bocas c/forno gas stove', 1),\n",
              " (' Sabonete comum body soap', 1),\n",
              " (' variada conditioner', 1),\n",
              " (' variada shampoo', 1),\n",
              " (' AAT Sound bluetooth  sound system', 1),\n",
              " ('Pocket wifi', 1),\n",
              " (' N\\\\u00edvea conditioner', 1),\n",
              " (' Cambridge Audio sound system with aux', 1),\n",
              " ('Cooktop 2 bocas gas stove', 1),\n",
              " (' Private indoor heated rooftop pool', 1),\n",
              " (' Eletrolux Duas Portas refrigerator', 1),\n",
              " (' Electrolux duplex frost free refrigerator', 1),\n",
              " (' 38\\\\ HDTV with premium cable', 1),\n",
              " (' Dedicated workspace: office chair and monitor', 1),\n",
              " (' 19\\\\ HDTV with standard cable', 1),\n",
              " (' Cook top Brastemp stove', 1),\n",
              " (' Paid dryer', 1),\n",
              " (' LG sound system with Bluetooth and aux', 1),\n",
              " (' Outdoor lap pool', 1),\n",
              " (' Soap body soap', 1),\n",
              " (' Pantene Provee conditioner', 1),\n",
              " (' Geladeira 2 portas frostfree refrigerator', 1),\n",
              " (' electrolux gas stove', 1),\n",
              " (' sabonete Protex body soap', 1),\n",
              " ('GE Frost Free refrigerator', 1),\n",
              " (' cooktop de uma boca induction stove', 1),\n",
              " (' Forno do pr\\\\u00f3prio fog\\\\u00e3o oven', 1),\n",
              " (' Sabonete l\\\\u00edquido (variado) body soap', 1),\n",
              " (' pequeno forninho el\\\\u00e9trico oven', 1),\n",
              " (' frost free  refrigerator', 1),\n",
              " (' Minist\\\\u00e9rio do Desenvolvimento Agr\\\\u00e1rio e SEBRAE.  body soap',\n",
              "  1),\n",
              " (' Minist\\\\u00e9rio do Desenvolvimento Agr\\\\u00e1rio e SEBRAE.  conditioner',\n",
              "  1),\n",
              " (' Minist\\\\u00e9rio do Desenvolvimento Agr\\\\u00e1rio e SEBRAE.  shampoo', 1),\n",
              " (' ge stainless steel oven', 1),\n",
              " (' 40\\\\ HDTV with Chromecast', 1),\n",
              " (' samsung refrigerator', 1),\n",
              " (' 65\\\\ HDTV with standard cable', 1),\n",
              " (' LG Bluetooth sound system', 1),\n",
              " (' Consul 280L refrigerator', 1),\n",
              " (' G\\\\u00e1s oven', 1),\n",
              " (' cook top de 2 bocas; de vidro gas stove', 1),\n",
              " (' Brastemp Frost-free 480 l com bebedouro na porta refrigerator', 1),\n",
              " (' Eletrolux a\\\\u00e7o 5 bocas stainless steel gas stove', 1),\n",
              " (' Wifi \\\\u2013 102 Mbps', 1),\n",
              " (' 28\\\\ HDTV with standard cable', 1),\n",
              " (' Brittania stainless steel oven', 1),\n",
              " (' continental', 1),\n",
              " (' cook top gas stove', 1),\n",
              " ('Continental 440 L refrigerator', 1),\n",
              " (' Wifi \\\\u2013 12 Mbps', 1),\n",
              " (' CONSUL 240 litros com congelador interno refrigerator', 1),\n",
              " (' N\\\\u00edvea ou Granado body soap', 1),\n",
              " (' tramontina gas stove', 1),\n",
              " (' de 2 bocas gas stove', 1),\n",
              " (' Dove / Nivea body soap', 1),\n",
              " (' Normal gas stove', 1),\n",
              " (' Bosch stove', 1),\n",
              " (' Granado', 1),\n",
              " (' Bosch oven', 1),\n",
              " (' Cooktop 2 queimadores sem forno stainless steel gas stove', 1),\n",
              " (' sach\\\\u00ea body soap', 1),\n",
              " (' sach\\\\u00ea shampoo', 1),\n",
              " (' sach\\\\u00eas body soap', 1),\n",
              " (' Cooktop 4 queimadores sem forno gas stove', 1),\n",
              " (' sach\\\\u00eas shampoo', 1),\n",
              " ('Gym', 1),\n",
              " (' BRASTEMP  DUPLEX refrigerator', 1),\n",
              " (' ELETROLUX 2 FORNOS E 4 BOCAS  stove', 1),\n",
              " (' Forninho eletrico stainless steel oven', 1),\n",
              " (' DENON Bluetooth sound system', 1),\n",
              " (' INDUSTRIAL stainless steel gas stove', 1),\n",
              " ('Free parking garage on premises \\\\u2013 1 space', 1),\n",
              " (' Wifi \\\\u2013 88 Mbps', 1),\n",
              " (' Variada body soap', 1),\n",
              " (' HOMETHEATER sound system with aux', 1),\n",
              " (' SABONETE L\\\\u00cdQUIDO body soap', 1),\n",
              " (' electrolux stainless steel gas stove', 1),\n",
              " (' Brit\\\\u00e2nia  stainless steel oven', 1),\n",
              " (' Free residential garage on premises \\\\u2013 10 spaces', 1),\n",
              " (' sony Bluetooth sound system', 1),\n",
              " ('Wifi \\\\u2013 1 Mbps', 1),\n",
              " (' Dove. N\\\\u00edvea . Granado.  body soap', 1),\n",
              " (' Cooktop Brastemp  stainless steel gas stove', 1),\n",
              " (' BOSCH stainless steel oven', 1),\n",
              " (' 58\\\\ HDTV with premium cable', 1),\n",
              " (' BOSCH stainless steel stove', 1),\n",
              " (' T C R Bluetooth sound system', 1),\n",
              " (' Dove ou similar. body soap', 1),\n",
              " (' ? body soap', 1),\n",
              " (' Consul duas portas refrigerator', 1),\n",
              " (' M\\\\u00e3os e banho body soap', 1),\n",
              " (' Protex ou Phebo body soap', 1),\n",
              " (' Forninho el\\\\u00e9trico e forno a lenha oven', 1),\n",
              " (' Electrolux Duplex e Airfryer Oster stainless steel oven', 1),\n",
              " (' Philips sound system with Bluetooth and aux', 1),\n",
              " (' Granado/Phebo body soap', 1),\n",
              " (' Consul Duplex frost free refrigerator', 1),\n",
              " (' 21\\\\ HDTV with standard cable', 1),\n",
              " (' n\\\\u00edvea  body soap', 1),\n",
              " (' Pr\\\\u00f3prio para hotel body soap', 1),\n",
              " (' Kit de hotel  conditioner', 1),\n",
              " (' 60\\\\ TV', 1),\n",
              " (' a que tiver body soap', 1),\n",
              " (' Wifi \\\\u2013 258 Mbps', 1),\n",
              " (' Consul (3 flames) stainless steel gas stove', 1),\n",
              " (' local PA (see Photo) sound system with aux', 1),\n",
              " (' Phebo/Dove/Granado/Protex body soap', 1),\n",
              " (' forno fog\\\\u00e3o oven', 1),\n",
              " ('Forno el\\\\u00e9trico pequeno na cozinha compartilhada.  oven', 1),\n",
              " (' forno el\\\\u00e9trico pequeno na cozinha compartilhada oven', 1),\n",
              " (' Frigobar dentro quarto refrigerator', 1),\n",
              " (' Wifi \\\\u2013 46 Mbps', 1),\n",
              " (' cooktop \\\\u00e0 g\\\\u00e1s gas stove', 1),\n",
              " (' fog\\\\u00e3o a gas e com forno stove', 1),\n",
              " (' Wifi \\\\u2013 315 Mbps', 1),\n",
              " (' Phillips sound system with Bluetooth and aux', 1),\n",
              " (' Eletrolix inox 2 portas refrigerator', 1),\n",
              " (' Elletrolux', 1),\n",
              " (' do fog\\\\u00e3o stainless steel oven', 1),\n",
              " (' forno el\\\\u00e9trico oven', 1),\n",
              " (' REXONA body soap', 1),\n",
              " (' PHILIPS sound system with Bluetooth and aux', 1),\n",
              " (' Lux - Rexona body soap', 1),\n",
              " ('johnsons body soap', 1),\n",
              " (' No kit conditioner', 1),\n",
              " (' Na TV e YOUTUBE sound system', 1),\n",
              " (' Private indoor heated saltwater pool', 1),\n",
              " (' 14\\\\ TV with standard cable', 1),\n",
              " ('Outdoor pool', 1),\n",
              " (' Esmaltec stainless steel oven', 1),\n",
              " (' Esmaltec stainless steel stove', 1),\n",
              " (' outros conditioner', 1),\n",
              " (' Protex/Johnson body soap', 1),\n",
              " (' Eletroluxx refrigerator', 1),\n",
              " (' sabonete liquido na pia do banheiro e sabonete em barra novo para os h\\\\u00f3spedes body soap',\n",
              "  1),\n",
              " (' Free parking on premises \\\\u2013 4 spaces', 1),\n",
              " (' Cheiroso e hidratante body soap', 1),\n",
              " (' REFRIGERADOR GRANDE COM FREEZER SUPERIOR refrigerator', 1),\n",
              " (' 33\\\\ TV', 1),\n",
              " (' Acoplado ao fog\\\\u00e3o', 1),\n",
              " (' a g\\\\u00e1s. oven', 1),\n",
              " (' Private outdoor heated olympic-sized lap pool', 1),\n",
              " (' Cook top gas stove', 1),\n",
              " (' Continental Duplex refrigerator', 1),\n",
              " (' Fog\\\\u00e3o industrial 2 bocas - Metalnox gas stove', 1),\n",
              " (' Sabonete l\\\\u00edquido na pia do banheiro /sabonete descart\\\\u00e1vel body soap',\n",
              "  1),\n",
              " (' a body soap', 1),\n",
              " ('Lux ou Palmolive body soap', 1),\n",
              " (' Convencional oven', 1),\n",
              " (' 27\\\\ TV with standard cable', 1),\n",
              " (' PROTEX body soap', 1),\n",
              " (' PANTENE conditioner', 1),\n",
              " (' 50\\\\ TV with Chromecast', 1),\n",
              " ('Shared outdoor pool', 1),\n",
              " (' Shared indoor olympic-sized rooftop lap pool', 1),\n",
              " (' Paid parking garage on premises \\\\u2013 2 spaces', 1),\n",
              " (' 42\\\\ TV with Chromecast', 1),\n",
              " (' Shared outdoor olympic-sized rooftop lap pool', 1),\n",
              " (' brastemp stainless steel gas stove', 1),\n",
              " (' Tresemm\\\\u00e9 conditioner', 1),\n",
              " (' Soundbar JBL Bluetooth sound system', 1),\n",
              " ('Building staff', 1),\n",
              " (' 53\\\\ HDTV with premium cable', 1),\n",
              " (' Refrigerador pequeno', 1),\n",
              " (' comporta poucos alimentos. refrigerator', 1),\n",
              " (' Cooktop duas bocas el\\\\u00e9trico stainless steel electric stove', 1),\n",
              " (' Private outdoor heated olympic-sized pool', 1),\n",
              " (' Oster oven', 1),\n",
              " (' Mil\\\\u00e3o Pluss stove', 1),\n",
              " ('  Electrolux stainless steel oven', 1),\n",
              " ('  Electrolux refrigerator', 1),\n",
              " ('  Electrolux stainless steel gas stove', 1),\n",
              " ('AIKO', 1),\n",
              " (' para uso de  CDs e radio local sound system', 1),\n",
              " (' SONY sound system with Bluetooth and aux', 1),\n",
              " (' Shared indoor heated pool', 1),\n",
              " (' Marshall  Bluetooth sound system', 1),\n",
              " (' PS4', 1),\n",
              " (' and Xbox 360', 1),\n",
              " (' Home Theater Onkyo sound system with Bluetooth and aux', 1),\n",
              " (' Venax 2 bocas com tamp\\\\u00e3o de vidro stainless steel stove', 1),\n",
              " (' fog\\\\u00e3o de camping de 2 bocas gas stove', 1),\n",
              " (' Philco sound system with Bluetooth and aux', 1),\n",
              " (' Lola shampoo', 1),\n",
              " (' Lola conditioner', 1),\n",
              " (' 60\\\\ TV with standard cable', 1),\n",
              " (' Duplex Eletrolux refrigerator', 1),\n",
              " (' 20\\\\ HDTV', 1),\n",
              " (' Sabonete l\\\\u00edquido generico body soap', 1),\n",
              " (' Microondas oven', 1),\n",
              " (' Cooktop eletrico vitrocer\\\\u00e2mico importado stainless steel induction stove',\n",
              "  1),\n",
              " (' qualquer body soap', 1),\n",
              " ('Tipo hotel body soap', 1),\n",
              " (' BOSE sound system', 1),\n",
              " (' Cooktop Marca Franke stainless steel gas stove', 1),\n",
              " ('Shampoo', 1),\n",
              " (' Brastemp', 1),\n",
              " (' 78 liters refrigerator', 1),\n",
              " (' Paid parking garage on premises \\\\u2013 100 spaces', 1),\n",
              " (' Akai old-school but good for listening to music and radio sound system with aux',\n",
              "  1),\n",
              " ('Luggage dropoff allowed', 1),\n",
              " (' 65\\\\ HDTV with Amazon Prime Video', 1),\n",
              " (' Fischer stainless steel oven', 1),\n",
              " (' Microondas. stainless steel oven', 1),\n",
              " (' GAS OVEN oven', 1),\n",
              " (' FULL SIZE WITH FREEZER AT THE TOP refrigerator', 1),\n",
              " (' shampoo e condicionador conditioner', 1),\n",
              " (' cooktop stainless steel gas stove', 1),\n",
              " (' Frigobar Consul 120l refrigerator', 1),\n",
              " (' lux luxo body soap', 1),\n",
              " (' palmilive body soap', 1),\n",
              " (' Brastemp 460 l refrigerator', 1),\n",
              " (' Philco 46 l stainless steel oven', 1),\n",
              " (' Brastemp Inverse refrigerator', 1),\n",
              " (' sabonete em barra', 1),\n",
              " (' normalmente a marca Lux. body soap', 1),\n",
              " (' Fog\\\\u00e3o el\\\\u00e9trico de 2 bocas stove', 1),\n",
              " (' Gas stainless steel oven', 1),\n",
              " (' Table Top stereo sound system', 1),\n",
              " (' Lux ou Nivea body soap', 1),\n",
              " (' 46\\\\ TV with standard cable', 1),\n",
              " (' pantene shampoo', 1),\n",
              " (' pantene conditioner', 1),\n",
              " (' yamasterol profissional sem sal shampoo', 1),\n",
              " (' mini sabonete body soap', 1),\n",
              " (' LG Sound Bar Bluetooth sound system', 1),\n",
              " (' ceramida conditioner', 1),\n",
              " (' erva doce  body soap', 1),\n",
              " (' 26\\\\ HDTV with Netflix', 1),\n",
              " (' JBL  Bluetooth sound system', 1),\n",
              " (' Air Fry oven', 1),\n",
              " (' Nivea ou Dove body soap', 1),\n",
              " (' SABONETE L\\\\u00cdQUIDO NOS BANHEIROS body soap', 1),\n",
              " (' 48\\\\ HDTV with standard cable', 1),\n",
              " (' loreal shampoo', 1),\n",
              " (' OX shampoo', 1),\n",
              " (' pantene  conditioner', 1),\n",
              " (' fica disposi\\\\u00e7\\\\u00e3o do hospede body soap', 1),\n",
              " (' Condicionador Ceramidas e Xampu  Queratina body soap', 1),\n",
              " (' Sabonete de Erva Doce', 1),\n",
              " (' condicionador cer\\\\u00e2midas e shampoo queratina shampoo', 1),\n",
              " (' Forno El\\\\u00e9trico Marca Layr Modelo Super Luxo com Grill  (220 Volts) oven',\n",
              "  1),\n",
              " (' novo conditioner', 1),\n",
              " ('Refrigerator', 1),\n",
              " (' Utilizados n\\\\u00f3s hot\\\\u00e9is body soap', 1),\n",
              " (' Free parking garage on premises \\\\u2013 600 spaces', 1),\n",
              " (' Eletrolux de 6 bocas  com forno gas stove', 1),\n",
              " (' 33\\\\ TV with standard cable', 1),\n",
              " (' LUX E OUTROS body soap', 1),\n",
              " (' Eletrolux de 6 bocas com forno oven', 1),\n",
              " (' Fog\\\\u00e3o \\\\u00e0 g\\\\u00e1s de 4 bocas gas stove', 1),\n",
              " ('32\\\\ HDTV with Amazon Prime Video', 1),\n",
              " (' Wifi \\\\u2013 41 Mbps', 1),\n",
              " (' c\\\\u00f4nsul  refrigerator', 1),\n",
              " (' sabonete liquido b\\\\u00e1sico  para as m\\\\u00e3os e corpo body soap', 1),\n",
              " (' Harus body soap', 1),\n",
              " (' Fischer electric stove', 1),\n",
              " (' sabonete liquido e em barra. body soap', 1),\n",
              " (' Brastemp - Duplex refrigerator', 1),\n",
              " (' alexa sound system', 1),\n",
              " (' Wifi \\\\u2013 21 Mbps', 1),\n",
              " (' Hotel Essentials  body soap', 1),\n",
              " (' Aussie conditioner', 1),\n",
              " (' rexona liguido body soap', 1),\n",
              " (' OX  conditioner', 1),\n",
              " (' liquido  body soap', 1),\n",
              " (' dove conditioner', 1),\n",
              " (' padr\\\\u00e3o stove', 1),\n",
              " ...]"
            ]
          },
          "metadata": {},
          "execution_count": 155
        }
      ]
    },
    {
      "cell_type": "markdown",
      "metadata": {
        "id": "g4thnfbw0TNb"
      },
      "source": [
        "###Let's keep top 17 values \n",
        "\n",
        "(' Wifi', 20528),\n",
        " (' Long term stays allowed', 19883),\n",
        " (' Essentials', 19623),\n",
        " (' Kitchen', 19244),\n",
        " (' Air conditioning', 18328),\n",
        " (' Iron', 15369),\n",
        " (' Elevator', 14466),\n",
        " (' Hot water', 13821),\n",
        " (' Dedicated workspace', 12804),\n",
        " (' TV', 11351),\n",
        " (' Dishes and silverware', 11182),\n",
        " (' Cooking basics', 10282),\n",
        " (' Hangers', 10225),\n",
        " (' Hair dryer', 10072),\n",
        " (' Refrigerator', 9999),\n",
        " (' Microwave', 9753),\n",
        " (' Free parking on premises', 8634),\n",
        " "
      ]
    },
    {
      "cell_type": "code",
      "metadata": {
        "id": "9fNBPI20rYz4"
      },
      "source": [
        "amenities_new_cols =['amenities_Wifi|Wifi','amenities_Long term stays allowed|Long term stays allowed',\n",
        "                     'amenities_Essentials|Essentials','amenities_Kitchen|Kitchen',\n",
        "                     'amenities_Air conditioning|Air conditioning','amenities_Iron|Iron','amenities_Elevator|Elevator',\n",
        "                     'amenities_Hot water|Hot water','amenities_Dedicated workspace|Dedicated workspace','amenities_TV|TV',\n",
        "                     'amenities_Dishes and silverware|Dishes and silverware',\n",
        "                     'amenities_Cooking basics|Cooking basics','amenities_Hangers|Hangers', \n",
        "                     'amenities_Hair dryer|Hair dryer', 'amenities_Refrigerator|Refrigerator',\n",
        "                     'amenities_Microwave|Microwave', 'amenities_Free parking on premises|Free parking on premises',]\n",
        "\n",
        "for c in amenities_new_cols:\n",
        "    c_col, c_desc= c.split('|')\n",
        "    df[c_col]= df['amenities'].apply(lambda x: 1 if c_desc in x else 0)"
      ],
      "execution_count": 156,
      "outputs": []
    },
    {
      "cell_type": "code",
      "metadata": {
        "colab": {
          "base_uri": "https://localhost:8080/",
          "height": 417
        },
        "id": "j-pg8QObrYpU",
        "outputId": "73a3d410-f76f-4dc7-a881-10ac9e71b0ae"
      },
      "source": [
        "df.head(3)"
      ],
      "execution_count": 157,
      "outputs": [
        {
          "output_type": "execute_result",
          "data": {
            "text/html": [
              "<div>\n",
              "<style scoped>\n",
              "    .dataframe tbody tr th:only-of-type {\n",
              "        vertical-align: middle;\n",
              "    }\n",
              "\n",
              "    .dataframe tbody tr th {\n",
              "        vertical-align: top;\n",
              "    }\n",
              "\n",
              "    .dataframe thead th {\n",
              "        text-align: right;\n",
              "    }\n",
              "</style>\n",
              "<table border=\"1\" class=\"dataframe\">\n",
              "  <thead>\n",
              "    <tr style=\"text-align: right;\">\n",
              "      <th></th>\n",
              "      <th>id</th>\n",
              "      <th>host_response_time</th>\n",
              "      <th>host_response_rate</th>\n",
              "      <th>host_acceptance_rate</th>\n",
              "      <th>host_is_superhost</th>\n",
              "      <th>host_has_profile_pic</th>\n",
              "      <th>host_identity_verified</th>\n",
              "      <th>neighbourhood_cleansed</th>\n",
              "      <th>latitude</th>\n",
              "      <th>longitude</th>\n",
              "      <th>property_type</th>\n",
              "      <th>room_type</th>\n",
              "      <th>accommodates</th>\n",
              "      <th>bedrooms</th>\n",
              "      <th>beds</th>\n",
              "      <th>amenities</th>\n",
              "      <th>price</th>\n",
              "      <th>availability_30</th>\n",
              "      <th>availability_60</th>\n",
              "      <th>availability_90</th>\n",
              "      <th>availability_365</th>\n",
              "      <th>number_of_reviews</th>\n",
              "      <th>number_of_reviews_ltm</th>\n",
              "      <th>number_of_reviews_l30d</th>\n",
              "      <th>first_review</th>\n",
              "      <th>last_review</th>\n",
              "      <th>review_scores_rating</th>\n",
              "      <th>review_scores_accuracy</th>\n",
              "      <th>review_scores_cleanliness</th>\n",
              "      <th>review_scores_checkin</th>\n",
              "      <th>review_scores_communication</th>\n",
              "      <th>review_scores_location</th>\n",
              "      <th>review_scores_value</th>\n",
              "      <th>reviews_per_month</th>\n",
              "      <th>bath_num</th>\n",
              "      <th>amenities_Wifi</th>\n",
              "      <th>amenities_Long term stays allowed</th>\n",
              "      <th>amenities_Essentials</th>\n",
              "      <th>amenities_Kitchen</th>\n",
              "      <th>amenities_Air conditioning</th>\n",
              "      <th>amenities_Iron</th>\n",
              "      <th>amenities_Elevator</th>\n",
              "      <th>amenities_Hot water</th>\n",
              "      <th>amenities_Dedicated workspace</th>\n",
              "      <th>amenities_TV</th>\n",
              "      <th>amenities_Dishes and silverware</th>\n",
              "      <th>amenities_Cooking basics</th>\n",
              "      <th>amenities_Hangers</th>\n",
              "      <th>amenities_Hair dryer</th>\n",
              "      <th>amenities_Refrigerator</th>\n",
              "      <th>amenities_Microwave</th>\n",
              "      <th>amenities_Free parking on premises</th>\n",
              "    </tr>\n",
              "  </thead>\n",
              "  <tbody>\n",
              "    <tr>\n",
              "      <th>0</th>\n",
              "      <td>17878</td>\n",
              "      <td>within an hour</td>\n",
              "      <td>100.0</td>\n",
              "      <td>98.000000</td>\n",
              "      <td>f</td>\n",
              "      <td>t</td>\n",
              "      <td>t</td>\n",
              "      <td>Copacabana</td>\n",
              "      <td>-22.96599</td>\n",
              "      <td>-43.17940</td>\n",
              "      <td>Entire condominium (condo)</td>\n",
              "      <td>Entire home/apt</td>\n",
              "      <td>5</td>\n",
              "      <td>2.0</td>\n",
              "      <td>2.0</td>\n",
              "      <td>[\"Hangers\", \"Dishes and silverware\", \"Iron\", \"...</td>\n",
              "      <td>350.0</td>\n",
              "      <td>16</td>\n",
              "      <td>46</td>\n",
              "      <td>69</td>\n",
              "      <td>314</td>\n",
              "      <td>265</td>\n",
              "      <td>12</td>\n",
              "      <td>0</td>\n",
              "      <td>2011-03-30</td>\n",
              "      <td>2021-05-21</td>\n",
              "      <td>4.68</td>\n",
              "      <td>4.78</td>\n",
              "      <td>4.63</td>\n",
              "      <td>4.82</td>\n",
              "      <td>4.9</td>\n",
              "      <td>4.76</td>\n",
              "      <td>4.65</td>\n",
              "      <td>2.07</td>\n",
              "      <td>1</td>\n",
              "      <td>1</td>\n",
              "      <td>1</td>\n",
              "      <td>1</td>\n",
              "      <td>1</td>\n",
              "      <td>1</td>\n",
              "      <td>1</td>\n",
              "      <td>1</td>\n",
              "      <td>1</td>\n",
              "      <td>1</td>\n",
              "      <td>1</td>\n",
              "      <td>1</td>\n",
              "      <td>1</td>\n",
              "      <td>1</td>\n",
              "      <td>1</td>\n",
              "      <td>1</td>\n",
              "      <td>1</td>\n",
              "      <td>0</td>\n",
              "    </tr>\n",
              "    <tr>\n",
              "      <th>1</th>\n",
              "      <td>24480</td>\n",
              "      <td>within a day</td>\n",
              "      <td>50.0</td>\n",
              "      <td>72.932538</td>\n",
              "      <td>f</td>\n",
              "      <td>t</td>\n",
              "      <td>t</td>\n",
              "      <td>Ipanema</td>\n",
              "      <td>-22.98405</td>\n",
              "      <td>-43.20189</td>\n",
              "      <td>Entire rental unit</td>\n",
              "      <td>Entire home/apt</td>\n",
              "      <td>2</td>\n",
              "      <td>1.0</td>\n",
              "      <td>1.0</td>\n",
              "      <td>[\"Clothing storage: wardrobe\", \"Dining table\",...</td>\n",
              "      <td>297.0</td>\n",
              "      <td>0</td>\n",
              "      <td>0</td>\n",
              "      <td>0</td>\n",
              "      <td>30</td>\n",
              "      <td>85</td>\n",
              "      <td>0</td>\n",
              "      <td>0</td>\n",
              "      <td>2013-08-20</td>\n",
              "      <td>2017-04-22</td>\n",
              "      <td>4.73</td>\n",
              "      <td>4.83</td>\n",
              "      <td>4.78</td>\n",
              "      <td>4.90</td>\n",
              "      <td>4.9</td>\n",
              "      <td>4.97</td>\n",
              "      <td>4.58</td>\n",
              "      <td>0.86</td>\n",
              "      <td>1</td>\n",
              "      <td>1</td>\n",
              "      <td>1</td>\n",
              "      <td>1</td>\n",
              "      <td>0</td>\n",
              "      <td>1</td>\n",
              "      <td>1</td>\n",
              "      <td>0</td>\n",
              "      <td>1</td>\n",
              "      <td>1</td>\n",
              "      <td>1</td>\n",
              "      <td>1</td>\n",
              "      <td>0</td>\n",
              "      <td>1</td>\n",
              "      <td>1</td>\n",
              "      <td>1</td>\n",
              "      <td>1</td>\n",
              "      <td>0</td>\n",
              "    </tr>\n",
              "    <tr>\n",
              "      <th>2</th>\n",
              "      <td>25026</td>\n",
              "      <td>within a day</td>\n",
              "      <td>50.0</td>\n",
              "      <td>36.000000</td>\n",
              "      <td>f</td>\n",
              "      <td>t</td>\n",
              "      <td>t</td>\n",
              "      <td>Copacabana</td>\n",
              "      <td>-22.97735</td>\n",
              "      <td>-43.19105</td>\n",
              "      <td>Entire rental unit</td>\n",
              "      <td>Entire home/apt</td>\n",
              "      <td>2</td>\n",
              "      <td>1.0</td>\n",
              "      <td>2.0</td>\n",
              "      <td>[\"Kitchen\", \"Cable TV\", \"Hangers\", \"Iron\", \"De...</td>\n",
              "      <td>160.0</td>\n",
              "      <td>0</td>\n",
              "      <td>0</td>\n",
              "      <td>27</td>\n",
              "      <td>266</td>\n",
              "      <td>238</td>\n",
              "      <td>0</td>\n",
              "      <td>0</td>\n",
              "      <td>2011-03-18</td>\n",
              "      <td>2019-04-27</td>\n",
              "      <td>4.68</td>\n",
              "      <td>4.65</td>\n",
              "      <td>4.76</td>\n",
              "      <td>4.77</td>\n",
              "      <td>4.9</td>\n",
              "      <td>4.81</td>\n",
              "      <td>4.56</td>\n",
              "      <td>1.86</td>\n",
              "      <td>1</td>\n",
              "      <td>1</td>\n",
              "      <td>1</td>\n",
              "      <td>1</td>\n",
              "      <td>1</td>\n",
              "      <td>1</td>\n",
              "      <td>1</td>\n",
              "      <td>1</td>\n",
              "      <td>0</td>\n",
              "      <td>1</td>\n",
              "      <td>1</td>\n",
              "      <td>0</td>\n",
              "      <td>0</td>\n",
              "      <td>1</td>\n",
              "      <td>1</td>\n",
              "      <td>0</td>\n",
              "      <td>0</td>\n",
              "      <td>0</td>\n",
              "    </tr>\n",
              "  </tbody>\n",
              "</table>\n",
              "</div>"
            ],
            "text/plain": [
              "      id  ... amenities_Free parking on premises\n",
              "0  17878  ...                                  0\n",
              "1  24480  ...                                  0\n",
              "2  25026  ...                                  0\n",
              "\n",
              "[3 rows x 52 columns]"
            ]
          },
          "metadata": {},
          "execution_count": 157
        }
      ]
    },
    {
      "cell_type": "code",
      "metadata": {
        "id": "3qkI5DMo3c7A"
      },
      "source": [
        "#Dropp amenities column since we will not use it anymore\n",
        "df.drop('amenities', axis=1, inplace=True)"
      ],
      "execution_count": 158,
      "outputs": []
    },
    {
      "cell_type": "code",
      "metadata": {
        "colab": {
          "base_uri": "https://localhost:8080/"
        },
        "id": "Wo1jPCLj3csV",
        "outputId": "a12bdc66-a989-4336-af26-e702ff56197d"
      },
      "source": [
        "#Checking property_type colum\n",
        "df.property_type.value_counts()"
      ],
      "execution_count": 159,
      "outputs": [
        {
          "output_type": "execute_result",
          "data": {
            "text/plain": [
              "Entire rental unit                   12939\n",
              "Private room in rental unit           3414\n",
              "Entire condominium (condo)            1399\n",
              "Private room in residential home      1052\n",
              "Entire residential home                919\n",
              "                                     ...  \n",
              "Private room in tent                     1\n",
              "Entire vacation home                     1\n",
              "Shared room in bungalow                  1\n",
              "Entire dorm                              1\n",
              "Shared room in serviced apartment        1\n",
              "Name: property_type, Length: 85, dtype: int64"
            ]
          },
          "metadata": {},
          "execution_count": 159
        }
      ]
    },
    {
      "cell_type": "markdown",
      "metadata": {
        "id": "bpWVYJJA4r-v"
      },
      "source": [
        "Since we have too many different values in this column, and \"room_type\" is standardized and easier to work with, we are going to drop property_type."
      ]
    },
    {
      "cell_type": "code",
      "metadata": {
        "id": "eW1Fb6JV4C6c"
      },
      "source": [
        "df.drop('property_type', axis=1, inplace=True)"
      ],
      "execution_count": 160,
      "outputs": []
    },
    {
      "cell_type": "code",
      "metadata": {
        "colab": {
          "base_uri": "https://localhost:8080/"
        },
        "id": "yc_-upuV4Czy",
        "outputId": "76af3cc9-284b-464b-cc7f-1b78e07f6c52"
      },
      "source": [
        "#Cleaning neighbourhood names\n",
        "df['neighbourhood_cleansed'] = df['neighbourhood_cleansed'].str.lower()\n",
        "df['neighbourhood_cleansed'] = df['neighbourhood_cleansed'].str.strip()\n",
        "\n",
        "df.neighbourhood_cleansed.value_counts()"
      ],
      "execution_count": 161,
      "outputs": [
        {
          "output_type": "execute_result",
          "data": {
            "text/plain": [
              "copacabana                  6629\n",
              "barra da tijuca             2321\n",
              "ipanema                     2272\n",
              "jacarepaguá                 1114\n",
              "recreio dos bandeirantes    1047\n",
              "                            ... \n",
              "vista alegre                   1\n",
              "maré                           1\n",
              "deodoro                        1\n",
              "jacarezinho                    1\n",
              "ribeira                        1\n",
              "Name: neighbourhood_cleansed, Length: 153, dtype: int64"
            ]
          },
          "metadata": {},
          "execution_count": 161
        }
      ]
    },
    {
      "cell_type": "code",
      "metadata": {
        "colab": {
          "base_uri": "https://localhost:8080/"
        },
        "id": "0KjPGS-b4CiH",
        "outputId": "1906024f-3d96-464d-867c-c5c2c06cbb08"
      },
      "source": [
        "#Checking the remaining columns\n",
        "\n",
        "df.info()"
      ],
      "execution_count": 162,
      "outputs": [
        {
          "output_type": "stream",
          "name": "stdout",
          "text": [
            "<class 'pandas.core.frame.DataFrame'>\n",
            "Int64Index: 23023 entries, 0 to 23411\n",
            "Data columns (total 50 columns):\n",
            " #   Column                              Non-Null Count  Dtype  \n",
            "---  ------                              --------------  -----  \n",
            " 0   id                                  23023 non-null  int64  \n",
            " 1   host_response_time                  23023 non-null  object \n",
            " 2   host_response_rate                  23023 non-null  float64\n",
            " 3   host_acceptance_rate                23023 non-null  float64\n",
            " 4   host_is_superhost                   23023 non-null  object \n",
            " 5   host_has_profile_pic                23023 non-null  object \n",
            " 6   host_identity_verified              23023 non-null  object \n",
            " 7   neighbourhood_cleansed              23023 non-null  object \n",
            " 8   latitude                            23023 non-null  float64\n",
            " 9   longitude                           23023 non-null  float64\n",
            " 10  room_type                           23023 non-null  object \n",
            " 11  accommodates                        23023 non-null  int64  \n",
            " 12  bedrooms                            23023 non-null  float64\n",
            " 13  beds                                23023 non-null  float64\n",
            " 14  price                               23023 non-null  float64\n",
            " 15  availability_30                     23023 non-null  int64  \n",
            " 16  availability_60                     23023 non-null  int64  \n",
            " 17  availability_90                     23023 non-null  int64  \n",
            " 18  availability_365                    23023 non-null  int64  \n",
            " 19  number_of_reviews                   23023 non-null  int64  \n",
            " 20  number_of_reviews_ltm               23023 non-null  int64  \n",
            " 21  number_of_reviews_l30d              23023 non-null  int64  \n",
            " 22  first_review                        23023 non-null  object \n",
            " 23  last_review                         23023 non-null  object \n",
            " 24  review_scores_rating                23023 non-null  float64\n",
            " 25  review_scores_accuracy              23023 non-null  float64\n",
            " 26  review_scores_cleanliness           23023 non-null  float64\n",
            " 27  review_scores_checkin               23023 non-null  float64\n",
            " 28  review_scores_communication         23023 non-null  float64\n",
            " 29  review_scores_location              23023 non-null  float64\n",
            " 30  review_scores_value                 23023 non-null  float64\n",
            " 31  reviews_per_month                   23023 non-null  float64\n",
            " 32  bath_num                            23023 non-null  int64  \n",
            " 33  amenities_Wifi                      23023 non-null  int64  \n",
            " 34  amenities_Long term stays allowed   23023 non-null  int64  \n",
            " 35  amenities_Essentials                23023 non-null  int64  \n",
            " 36  amenities_Kitchen                   23023 non-null  int64  \n",
            " 37  amenities_Air conditioning          23023 non-null  int64  \n",
            " 38  amenities_Iron                      23023 non-null  int64  \n",
            " 39  amenities_Elevator                  23023 non-null  int64  \n",
            " 40  amenities_Hot water                 23023 non-null  int64  \n",
            " 41  amenities_Dedicated workspace       23023 non-null  int64  \n",
            " 42  amenities_TV                        23023 non-null  int64  \n",
            " 43  amenities_Dishes and silverware     23023 non-null  int64  \n",
            " 44  amenities_Cooking basics            23023 non-null  int64  \n",
            " 45  amenities_Hangers                   23023 non-null  int64  \n",
            " 46  amenities_Hair dryer                23023 non-null  int64  \n",
            " 47  amenities_Refrigerator              23023 non-null  int64  \n",
            " 48  amenities_Microwave                 23023 non-null  int64  \n",
            " 49  amenities_Free parking on premises  23023 non-null  int64  \n",
            "dtypes: float64(15), int64(27), object(8)\n",
            "memory usage: 9.0+ MB\n"
          ]
        }
      ]
    },
    {
      "cell_type": "markdown",
      "metadata": {
        "id": "9lA-a9VwKRAl"
      },
      "source": [
        "#EDA cleaned listing Dataset"
      ]
    },
    {
      "cell_type": "code",
      "metadata": {
        "colab": {
          "base_uri": "https://localhost:8080/",
          "height": 351
        },
        "id": "6dQvbpenLS0j",
        "outputId": "3c91636d-b1fd-4638-a1f9-df177dd70682"
      },
      "source": [
        "#Checking the numeric variables\n",
        "df.describe()"
      ],
      "execution_count": 163,
      "outputs": [
        {
          "output_type": "execute_result",
          "data": {
            "text/html": [
              "<div>\n",
              "<style scoped>\n",
              "    .dataframe tbody tr th:only-of-type {\n",
              "        vertical-align: middle;\n",
              "    }\n",
              "\n",
              "    .dataframe tbody tr th {\n",
              "        vertical-align: top;\n",
              "    }\n",
              "\n",
              "    .dataframe thead th {\n",
              "        text-align: right;\n",
              "    }\n",
              "</style>\n",
              "<table border=\"1\" class=\"dataframe\">\n",
              "  <thead>\n",
              "    <tr style=\"text-align: right;\">\n",
              "      <th></th>\n",
              "      <th>id</th>\n",
              "      <th>host_response_rate</th>\n",
              "      <th>host_acceptance_rate</th>\n",
              "      <th>latitude</th>\n",
              "      <th>longitude</th>\n",
              "      <th>accommodates</th>\n",
              "      <th>bedrooms</th>\n",
              "      <th>beds</th>\n",
              "      <th>price</th>\n",
              "      <th>availability_30</th>\n",
              "      <th>availability_60</th>\n",
              "      <th>availability_90</th>\n",
              "      <th>availability_365</th>\n",
              "      <th>number_of_reviews</th>\n",
              "      <th>number_of_reviews_ltm</th>\n",
              "      <th>number_of_reviews_l30d</th>\n",
              "      <th>review_scores_rating</th>\n",
              "      <th>review_scores_accuracy</th>\n",
              "      <th>review_scores_cleanliness</th>\n",
              "      <th>review_scores_checkin</th>\n",
              "      <th>review_scores_communication</th>\n",
              "      <th>review_scores_location</th>\n",
              "      <th>review_scores_value</th>\n",
              "      <th>reviews_per_month</th>\n",
              "      <th>bath_num</th>\n",
              "      <th>amenities_Wifi</th>\n",
              "      <th>amenities_Long term stays allowed</th>\n",
              "      <th>amenities_Essentials</th>\n",
              "      <th>amenities_Kitchen</th>\n",
              "      <th>amenities_Air conditioning</th>\n",
              "      <th>amenities_Iron</th>\n",
              "      <th>amenities_Elevator</th>\n",
              "      <th>amenities_Hot water</th>\n",
              "      <th>amenities_Dedicated workspace</th>\n",
              "      <th>amenities_TV</th>\n",
              "      <th>amenities_Dishes and silverware</th>\n",
              "      <th>amenities_Cooking basics</th>\n",
              "      <th>amenities_Hangers</th>\n",
              "      <th>amenities_Hair dryer</th>\n",
              "      <th>amenities_Refrigerator</th>\n",
              "      <th>amenities_Microwave</th>\n",
              "      <th>amenities_Free parking on premises</th>\n",
              "    </tr>\n",
              "  </thead>\n",
              "  <tbody>\n",
              "    <tr>\n",
              "      <th>count</th>\n",
              "      <td>2.302300e+04</td>\n",
              "      <td>23023.000000</td>\n",
              "      <td>23023.000000</td>\n",
              "      <td>23023.000000</td>\n",
              "      <td>23023.000000</td>\n",
              "      <td>23023.000000</td>\n",
              "      <td>23023.000000</td>\n",
              "      <td>23023.000000</td>\n",
              "      <td>23023.000000</td>\n",
              "      <td>23023.000000</td>\n",
              "      <td>23023.000000</td>\n",
              "      <td>23023.000000</td>\n",
              "      <td>23023.000000</td>\n",
              "      <td>23023.000000</td>\n",
              "      <td>23023.000000</td>\n",
              "      <td>23023.000000</td>\n",
              "      <td>23023.000000</td>\n",
              "      <td>23023.000000</td>\n",
              "      <td>23023.000000</td>\n",
              "      <td>23023.000000</td>\n",
              "      <td>23023.000000</td>\n",
              "      <td>23023.000000</td>\n",
              "      <td>23023.000000</td>\n",
              "      <td>23023.000000</td>\n",
              "      <td>23023.000000</td>\n",
              "      <td>23023.000000</td>\n",
              "      <td>23023.000000</td>\n",
              "      <td>23023.000000</td>\n",
              "      <td>23023.000000</td>\n",
              "      <td>23023.000000</td>\n",
              "      <td>23023.000000</td>\n",
              "      <td>23023.000000</td>\n",
              "      <td>23023.000000</td>\n",
              "      <td>23023.000000</td>\n",
              "      <td>23023.000000</td>\n",
              "      <td>23023.000000</td>\n",
              "      <td>23023.000000</td>\n",
              "      <td>23023.000000</td>\n",
              "      <td>23023.000000</td>\n",
              "      <td>23023.000000</td>\n",
              "      <td>23023.000000</td>\n",
              "      <td>23023.000000</td>\n",
              "    </tr>\n",
              "    <tr>\n",
              "      <th>mean</th>\n",
              "      <td>2.646383e+07</td>\n",
              "      <td>78.147556</td>\n",
              "      <td>73.063684</td>\n",
              "      <td>-22.965716</td>\n",
              "      <td>-43.248120</td>\n",
              "      <td>4.067324</td>\n",
              "      <td>1.627590</td>\n",
              "      <td>2.505668</td>\n",
              "      <td>476.767797</td>\n",
              "      <td>19.521044</td>\n",
              "      <td>42.010555</td>\n",
              "      <td>65.185554</td>\n",
              "      <td>228.376797</td>\n",
              "      <td>14.274856</td>\n",
              "      <td>3.263432</td>\n",
              "      <td>0.346262</td>\n",
              "      <td>4.589894</td>\n",
              "      <td>4.790316</td>\n",
              "      <td>4.679170</td>\n",
              "      <td>4.870524</td>\n",
              "      <td>4.850275</td>\n",
              "      <td>4.849456</td>\n",
              "      <td>4.638263</td>\n",
              "      <td>0.651863</td>\n",
              "      <td>1.542935</td>\n",
              "      <td>0.908700</td>\n",
              "      <td>0.867480</td>\n",
              "      <td>0.840855</td>\n",
              "      <td>0.906224</td>\n",
              "      <td>0.782435</td>\n",
              "      <td>0.661599</td>\n",
              "      <td>0.621639</td>\n",
              "      <td>0.596708</td>\n",
              "      <td>0.569778</td>\n",
              "      <td>0.873040</td>\n",
              "      <td>0.503844</td>\n",
              "      <td>0.444251</td>\n",
              "      <td>0.691786</td>\n",
              "      <td>0.429744</td>\n",
              "      <td>0.429744</td>\n",
              "      <td>0.420753</td>\n",
              "      <td>0.365287</td>\n",
              "    </tr>\n",
              "    <tr>\n",
              "      <th>std</th>\n",
              "      <td>1.664576e+07</td>\n",
              "      <td>28.627760</td>\n",
              "      <td>27.430994</td>\n",
              "      <td>0.035394</td>\n",
              "      <td>0.096763</td>\n",
              "      <td>2.398270</td>\n",
              "      <td>0.999847</td>\n",
              "      <td>2.206885</td>\n",
              "      <td>599.861768</td>\n",
              "      <td>11.838497</td>\n",
              "      <td>22.551211</td>\n",
              "      <td>32.289616</td>\n",
              "      <td>130.216055</td>\n",
              "      <td>33.476932</td>\n",
              "      <td>8.028204</td>\n",
              "      <td>0.912457</td>\n",
              "      <td>0.756560</td>\n",
              "      <td>0.373514</td>\n",
              "      <td>0.436360</td>\n",
              "      <td>0.315259</td>\n",
              "      <td>0.334142</td>\n",
              "      <td>0.300743</td>\n",
              "      <td>0.403576</td>\n",
              "      <td>0.733542</td>\n",
              "      <td>0.959734</td>\n",
              "      <td>0.288042</td>\n",
              "      <td>0.339062</td>\n",
              "      <td>0.365819</td>\n",
              "      <td>0.291523</td>\n",
              "      <td>0.412599</td>\n",
              "      <td>0.473176</td>\n",
              "      <td>0.484989</td>\n",
              "      <td>0.490569</td>\n",
              "      <td>0.495118</td>\n",
              "      <td>0.332935</td>\n",
              "      <td>0.499996</td>\n",
              "      <td>0.496893</td>\n",
              "      <td>0.461765</td>\n",
              "      <td>0.495050</td>\n",
              "      <td>0.495050</td>\n",
              "      <td>0.493691</td>\n",
              "      <td>0.481521</td>\n",
              "    </tr>\n",
              "    <tr>\n",
              "      <th>min</th>\n",
              "      <td>1.787800e+04</td>\n",
              "      <td>0.000000</td>\n",
              "      <td>0.000000</td>\n",
              "      <td>-23.072620</td>\n",
              "      <td>-43.698890</td>\n",
              "      <td>0.000000</td>\n",
              "      <td>1.000000</td>\n",
              "      <td>0.000000</td>\n",
              "      <td>0.000000</td>\n",
              "      <td>0.000000</td>\n",
              "      <td>0.000000</td>\n",
              "      <td>0.000000</td>\n",
              "      <td>0.000000</td>\n",
              "      <td>0.000000</td>\n",
              "      <td>0.000000</td>\n",
              "      <td>0.000000</td>\n",
              "      <td>0.000000</td>\n",
              "      <td>0.000000</td>\n",
              "      <td>0.000000</td>\n",
              "      <td>0.000000</td>\n",
              "      <td>1.000000</td>\n",
              "      <td>1.000000</td>\n",
              "      <td>1.000000</td>\n",
              "      <td>0.010000</td>\n",
              "      <td>0.000000</td>\n",
              "      <td>0.000000</td>\n",
              "      <td>0.000000</td>\n",
              "      <td>0.000000</td>\n",
              "      <td>0.000000</td>\n",
              "      <td>0.000000</td>\n",
              "      <td>0.000000</td>\n",
              "      <td>0.000000</td>\n",
              "      <td>0.000000</td>\n",
              "      <td>0.000000</td>\n",
              "      <td>0.000000</td>\n",
              "      <td>0.000000</td>\n",
              "      <td>0.000000</td>\n",
              "      <td>0.000000</td>\n",
              "      <td>0.000000</td>\n",
              "      <td>0.000000</td>\n",
              "      <td>0.000000</td>\n",
              "      <td>0.000000</td>\n",
              "    </tr>\n",
              "    <tr>\n",
              "      <th>25%</th>\n",
              "      <td>1.249427e+07</td>\n",
              "      <td>78.105366</td>\n",
              "      <td>72.932538</td>\n",
              "      <td>-22.984560</td>\n",
              "      <td>-43.302810</td>\n",
              "      <td>2.000000</td>\n",
              "      <td>1.000000</td>\n",
              "      <td>1.000000</td>\n",
              "      <td>150.000000</td>\n",
              "      <td>8.000000</td>\n",
              "      <td>26.000000</td>\n",
              "      <td>47.000000</td>\n",
              "      <td>90.000000</td>\n",
              "      <td>0.000000</td>\n",
              "      <td>0.000000</td>\n",
              "      <td>0.000000</td>\n",
              "      <td>4.588884</td>\n",
              "      <td>4.790155</td>\n",
              "      <td>4.679409</td>\n",
              "      <td>4.870508</td>\n",
              "      <td>4.850292</td>\n",
              "      <td>4.849142</td>\n",
              "      <td>4.638280</td>\n",
              "      <td>0.160000</td>\n",
              "      <td>1.000000</td>\n",
              "      <td>1.000000</td>\n",
              "      <td>1.000000</td>\n",
              "      <td>1.000000</td>\n",
              "      <td>1.000000</td>\n",
              "      <td>1.000000</td>\n",
              "      <td>0.000000</td>\n",
              "      <td>0.000000</td>\n",
              "      <td>0.000000</td>\n",
              "      <td>0.000000</td>\n",
              "      <td>1.000000</td>\n",
              "      <td>0.000000</td>\n",
              "      <td>0.000000</td>\n",
              "      <td>0.000000</td>\n",
              "      <td>0.000000</td>\n",
              "      <td>0.000000</td>\n",
              "      <td>0.000000</td>\n",
              "      <td>0.000000</td>\n",
              "    </tr>\n",
              "    <tr>\n",
              "      <th>50%</th>\n",
              "      <td>2.652959e+07</td>\n",
              "      <td>78.105366</td>\n",
              "      <td>72.932538</td>\n",
              "      <td>-22.971820</td>\n",
              "      <td>-43.195920</td>\n",
              "      <td>4.000000</td>\n",
              "      <td>1.000000</td>\n",
              "      <td>2.000000</td>\n",
              "      <td>262.000000</td>\n",
              "      <td>26.000000</td>\n",
              "      <td>55.000000</td>\n",
              "      <td>84.000000</td>\n",
              "      <td>262.000000</td>\n",
              "      <td>2.000000</td>\n",
              "      <td>0.000000</td>\n",
              "      <td>0.000000</td>\n",
              "      <td>4.600000</td>\n",
              "      <td>4.790155</td>\n",
              "      <td>4.679409</td>\n",
              "      <td>4.870508</td>\n",
              "      <td>4.850292</td>\n",
              "      <td>4.849142</td>\n",
              "      <td>4.638280</td>\n",
              "      <td>0.649966</td>\n",
              "      <td>1.000000</td>\n",
              "      <td>1.000000</td>\n",
              "      <td>1.000000</td>\n",
              "      <td>1.000000</td>\n",
              "      <td>1.000000</td>\n",
              "      <td>1.000000</td>\n",
              "      <td>1.000000</td>\n",
              "      <td>1.000000</td>\n",
              "      <td>1.000000</td>\n",
              "      <td>1.000000</td>\n",
              "      <td>1.000000</td>\n",
              "      <td>1.000000</td>\n",
              "      <td>0.000000</td>\n",
              "      <td>1.000000</td>\n",
              "      <td>0.000000</td>\n",
              "      <td>0.000000</td>\n",
              "      <td>0.000000</td>\n",
              "      <td>0.000000</td>\n",
              "    </tr>\n",
              "    <tr>\n",
              "      <th>75%</th>\n",
              "      <td>4.197019e+07</td>\n",
              "      <td>100.000000</td>\n",
              "      <td>98.000000</td>\n",
              "      <td>-22.950655</td>\n",
              "      <td>-43.186055</td>\n",
              "      <td>5.000000</td>\n",
              "      <td>2.000000</td>\n",
              "      <td>3.000000</td>\n",
              "      <td>514.000000</td>\n",
              "      <td>30.000000</td>\n",
              "      <td>59.000000</td>\n",
              "      <td>89.000000</td>\n",
              "      <td>362.000000</td>\n",
              "      <td>11.000000</td>\n",
              "      <td>2.000000</td>\n",
              "      <td>0.000000</td>\n",
              "      <td>4.980000</td>\n",
              "      <td>5.000000</td>\n",
              "      <td>4.950000</td>\n",
              "      <td>5.000000</td>\n",
              "      <td>5.000000</td>\n",
              "      <td>5.000000</td>\n",
              "      <td>4.830000</td>\n",
              "      <td>0.649966</td>\n",
              "      <td>2.000000</td>\n",
              "      <td>1.000000</td>\n",
              "      <td>1.000000</td>\n",
              "      <td>1.000000</td>\n",
              "      <td>1.000000</td>\n",
              "      <td>1.000000</td>\n",
              "      <td>1.000000</td>\n",
              "      <td>1.000000</td>\n",
              "      <td>1.000000</td>\n",
              "      <td>1.000000</td>\n",
              "      <td>1.000000</td>\n",
              "      <td>1.000000</td>\n",
              "      <td>1.000000</td>\n",
              "      <td>1.000000</td>\n",
              "      <td>1.000000</td>\n",
              "      <td>1.000000</td>\n",
              "      <td>1.000000</td>\n",
              "      <td>1.000000</td>\n",
              "    </tr>\n",
              "    <tr>\n",
              "      <th>max</th>\n",
              "      <td>5.249041e+07</td>\n",
              "      <td>100.000000</td>\n",
              "      <td>100.000000</td>\n",
              "      <td>-22.749690</td>\n",
              "      <td>-43.104400</td>\n",
              "      <td>16.000000</td>\n",
              "      <td>30.000000</td>\n",
              "      <td>91.000000</td>\n",
              "      <td>4992.000000</td>\n",
              "      <td>30.000000</td>\n",
              "      <td>60.000000</td>\n",
              "      <td>90.000000</td>\n",
              "      <td>365.000000</td>\n",
              "      <td>486.000000</td>\n",
              "      <td>239.000000</td>\n",
              "      <td>17.000000</td>\n",
              "      <td>5.000000</td>\n",
              "      <td>5.000000</td>\n",
              "      <td>5.000000</td>\n",
              "      <td>5.000000</td>\n",
              "      <td>5.000000</td>\n",
              "      <td>5.000000</td>\n",
              "      <td>5.000000</td>\n",
              "      <td>25.520000</td>\n",
              "      <td>30.000000</td>\n",
              "      <td>1.000000</td>\n",
              "      <td>1.000000</td>\n",
              "      <td>1.000000</td>\n",
              "      <td>1.000000</td>\n",
              "      <td>1.000000</td>\n",
              "      <td>1.000000</td>\n",
              "      <td>1.000000</td>\n",
              "      <td>1.000000</td>\n",
              "      <td>1.000000</td>\n",
              "      <td>1.000000</td>\n",
              "      <td>1.000000</td>\n",
              "      <td>1.000000</td>\n",
              "      <td>1.000000</td>\n",
              "      <td>1.000000</td>\n",
              "      <td>1.000000</td>\n",
              "      <td>1.000000</td>\n",
              "      <td>1.000000</td>\n",
              "    </tr>\n",
              "  </tbody>\n",
              "</table>\n",
              "</div>"
            ],
            "text/plain": [
              "                 id  ...  amenities_Free parking on premises\n",
              "count  2.302300e+04  ...                        23023.000000\n",
              "mean   2.646383e+07  ...                            0.365287\n",
              "std    1.664576e+07  ...                            0.481521\n",
              "min    1.787800e+04  ...                            0.000000\n",
              "25%    1.249427e+07  ...                            0.000000\n",
              "50%    2.652959e+07  ...                            0.000000\n",
              "75%    4.197019e+07  ...                            1.000000\n",
              "max    5.249041e+07  ...                            1.000000\n",
              "\n",
              "[8 rows x 42 columns]"
            ]
          },
          "metadata": {},
          "execution_count": 163
        }
      ]
    },
    {
      "cell_type": "markdown",
      "metadata": {
        "id": "Dt50blAHExKA"
      },
      "source": [
        "###Checking Price column"
      ]
    },
    {
      "cell_type": "code",
      "metadata": {
        "colab": {
          "base_uri": "https://localhost:8080/",
          "height": 320
        },
        "id": "BerGHN3psL6h",
        "outputId": "e1d0d41b-cb8f-488d-cc36-3f28aa4b1b62"
      },
      "source": [
        "#Price histogram\n",
        "sns.histplot(data=df, x=\"price\", bins=40, kde=True)\n",
        "plt.title('Price range distribution', fontdict={'fontsize': 15})"
      ],
      "execution_count": 164,
      "outputs": [
        {
          "output_type": "execute_result",
          "data": {
            "text/plain": [
              "Text(0.5, 1.0, 'Price range distribution')"
            ]
          },
          "metadata": {},
          "execution_count": 164
        },
        {
          "output_type": "display_data",
          "data": {
            "image/png": "[encoded data removed]",
            "text/plain": [
              "<Figure size 432x288 with 1 Axes>"
            ]
          },
          "metadata": {}
        }
      ]
    },
    {
      "cell_type": "markdown",
      "metadata": {
        "id": "GrQGPNZcobKa"
      },
      "source": [
        "###Checking the host Columns\n"
      ]
    },
    {
      "cell_type": "code",
      "metadata": {
        "colab": {
          "base_uri": "https://localhost:8080/",
          "height": 320
        },
        "id": "yZCfoBonVA45",
        "outputId": "a1e5d9d8-0190-4b1c-db32-4413a9fce76b"
      },
      "source": [
        "#Plotting the quantity of hosts according to time to response groups\n",
        "sns.set_theme(style=\"whitegrid\")\n",
        "sns.countplot(y='host_response_time', data=df)\n",
        "plt.title('Count of hosts by time to response', fontdict={'fontsize': 15})"
      ],
      "execution_count": 165,
      "outputs": [
        {
          "output_type": "execute_result",
          "data": {
            "text/plain": [
              "Text(0.5, 1.0, 'Count of hosts by time to response')"
            ]
          },
          "metadata": {},
          "execution_count": 165
        },
        {
          "output_type": "display_data",
          "data": {
            "image/png": "[encoded data removed]",
            "text/plain": [
              "<Figure size 432x288 with 1 Axes>"
            ]
          },
          "metadata": {}
        }
      ]
    },
    {
      "cell_type": "markdown",
      "metadata": {
        "id": "Uh2F7HcuMEKS"
      },
      "source": [
        "From above we can see that \"within an hour\" is the most frequent group. It is important to note that due to the way we filled in the missing values (with mode) this number is higher than it could be. Anyway, even if we haven't done that this group would still be the most frequent.  "
      ]
    },
    {
      "cell_type": "code",
      "metadata": {
        "colab": {
          "base_uri": "https://localhost:8080/",
          "height": 320
        },
        "id": "oERmFv2hktf5",
        "outputId": "e73b5b80-580a-480b-a4fc-24047966407e"
      },
      "source": [
        "#Host response rate histogram\n",
        "sns.histplot(data=df, x=\"host_response_rate\")\n",
        "plt.title('Host response rate distribution (%)', fontdict={'fontsize': 15})"
      ],
      "execution_count": 166,
      "outputs": [
        {
          "output_type": "execute_result",
          "data": {
            "text/plain": [
              "Text(0.5, 1.0, 'Host response rate distribution (%)')"
            ]
          },
          "metadata": {},
          "execution_count": 166
        },
        {
          "output_type": "display_data",
          "data": {
            "image/png": "[encoded data removed]",
            "text/plain": [
              "<Figure size 432x288 with 1 Axes>"
            ]
          },
          "metadata": {}
        }
      ]
    },
    {
      "cell_type": "code",
      "metadata": {
        "colab": {
          "base_uri": "https://localhost:8080/",
          "height": 320
        },
        "id": "ySzhMHOsNKUk",
        "outputId": "12b3b111-3064-4a9c-84ed-48aca0c95e1d"
      },
      "source": [
        "#Host acceptance rate histogram\n",
        "sns.histplot(data=df, x=\"host_acceptance_rate\")\n",
        "plt.title('Hosts acceptance rate distribution (%)', fontdict={'fontsize': 15})"
      ],
      "execution_count": 167,
      "outputs": [
        {
          "output_type": "execute_result",
          "data": {
            "text/plain": [
              "Text(0.5, 1.0, 'Hosts acceptance rate distribution (%)')"
            ]
          },
          "metadata": {},
          "execution_count": 167
        },
        {
          "output_type": "display_data",
          "data": {
            "image/png": "[encoded data removed]",
            "text/plain": [
              "<Figure size 432x288 with 1 Axes>"
            ]
          },
          "metadata": {}
        }
      ]
    },
    {
      "cell_type": "code",
      "metadata": {
        "colab": {
          "base_uri": "https://localhost:8080/",
          "height": 324
        },
        "id": "AxpkQUpEO88I",
        "outputId": "0ace0aaf-664e-4560-9ab3-7080807f05e8"
      },
      "source": [
        "fig, ax =plt.subplots(nrows=1, ncols=3, sharey=True, figsize=(10, 5))\n",
        "fig.suptitle('Hosts characteristics', fontsize=16)\n",
        "\n",
        "sns.countplot(df['host_is_superhost'], ax=ax[0])\n",
        "sns.countplot(df['host_has_profile_pic'], ax=ax[1])\n",
        "sns.countplot(df['host_identity_verified'], ax=ax[2])\n",
        "\n",
        "fig.show()                  \n",
        "plt.tight_layout(pad=5, w_pad=5)"
      ],
      "execution_count": 168,
      "outputs": [
        {
          "output_type": "display_data",
          "data": {
            "image/png": "[encoded data removed]",
            "text/plain": [
              "<Figure size 720x360 with 3 Axes>"
            ]
          },
          "metadata": {}
        }
      ]
    },
    {
      "cell_type": "markdown",
      "metadata": {
        "id": "O_psqnz78jnL"
      },
      "source": [
        "From the graphs above we can see that we have less superhosts than normal ones, most of the hosts has profile picture (can suggest more credibility) in their register and most of them have the id verified.  "
      ]
    },
    {
      "cell_type": "code",
      "metadata": {
        "colab": {
          "base_uri": "https://localhost:8080/",
          "height": 320
        },
        "id": "N9ESGDWpx7-Y",
        "outputId": "62b7cda1-41b8-4a5d-860c-2f4a228b6958"
      },
      "source": [
        "sns.barplot(data=df, x='host_is_superhost', y='price')\n",
        "plt.title('Mean price by superhost or not', fontdict={'fontsize': 15})"
      ],
      "execution_count": 169,
      "outputs": [
        {
          "output_type": "execute_result",
          "data": {
            "text/plain": [
              "Text(0.5, 1.0, 'Mean price by superhost or not')"
            ]
          },
          "metadata": {},
          "execution_count": 169
        },
        {
          "output_type": "display_data",
          "data": {
            "image/png": "[encoded data removed]",
            "text/plain": [
              "<Figure size 432x288 with 1 Axes>"
            ]
          },
          "metadata": {}
        }
      ]
    },
    {
      "cell_type": "markdown",
      "metadata": {
        "id": "xcDMFUWWFE45"
      },
      "source": [
        "From above we note that being a superhost is no guarantee of higher prices."
      ]
    },
    {
      "cell_type": "markdown",
      "metadata": {
        "id": "bPU63CasISZp"
      },
      "source": [
        "###Bedrooms and accommodates"
      ]
    },
    {
      "cell_type": "code",
      "metadata": {
        "id": "nEu6IAxcFVgO",
        "colab": {
          "base_uri": "https://localhost:8080/",
          "height": 324
        },
        "outputId": "93ab0d14-960c-4d21-aac0-4c655c6e6679"
      },
      "source": [
        "fig, ax =plt.subplots(nrows=1, ncols=2, sharey=True, figsize=(10, 5))\n",
        "fig.suptitle('Relation between bedrooms/accommodates and price', fontsize=16)\n",
        "\n",
        "sns.scatterplot(data=df, x='bedrooms', y='price', ax=ax[0])\n",
        "sns.scatterplot(data=df, x='accommodates', y='price', ax=ax[1])\n",
        "\n",
        "fig.show()                  \n",
        "plt.tight_layout(pad=5, w_pad=5)"
      ],
      "execution_count": 170,
      "outputs": [
        {
          "output_type": "display_data",
          "data": {
            "image/png": "[encoded data removed]",
            "text/plain": [
              "<Figure size 720x360 with 2 Axes>"
            ]
          },
          "metadata": {}
        }
      ]
    },
    {
      "cell_type": "markdown",
      "metadata": {
        "id": "TZLNnM3bIOfc"
      },
      "source": [
        "Checking the charts above we cannot see a clear relation between bedrooms/accommodates and increase or decrease in prices. "
      ]
    },
    {
      "cell_type": "markdown",
      "metadata": {
        "id": "-C6-rd0Jc8Fp"
      },
      "source": [
        "###Checking neighbourhood information"
      ]
    },
    {
      "cell_type": "code",
      "metadata": {
        "id": "ar2DIjg8G-9r"
      },
      "source": [
        "#Selecting neighbourhoods with more than 50 samples \n",
        "nei_over_50 = list(df.neighbourhood_cleansed.value_counts()[df.neighbourhood_cleansed.value_counts()>50].index)"
      ],
      "execution_count": 171,
      "outputs": []
    },
    {
      "cell_type": "code",
      "metadata": {
        "id": "TH-WX2BHd5oz"
      },
      "source": [
        "#getting the mean price for each neighbourhood \n",
        "df_plot_nei = df.groupby('neighbourhood_cleansed')['price'].mean().sort_values(ascending=False).reset_index()"
      ],
      "execution_count": 172,
      "outputs": []
    },
    {
      "cell_type": "code",
      "metadata": {
        "id": "Z1qnq_MPedJz"
      },
      "source": [
        "#Filtering by neighbourhood with more than 50 samples\n",
        "df_plot_nei = df_plot_nei[df_plot_nei['neighbourhood_cleansed'].isin(nei_over_50)]"
      ],
      "execution_count": 173,
      "outputs": []
    },
    {
      "cell_type": "code",
      "metadata": {
        "colab": {
          "base_uri": "https://localhost:8080/",
          "height": 535
        },
        "id": "oTz5CnvpIq2s",
        "outputId": "11d33a5a-9b5b-4fa1-b460-a23ff18f8cbc"
      },
      "source": [
        "#plotting top n neighborhoods in price (only over 50 samples included)\n",
        "\n",
        "n=25\n",
        "\n",
        "df_plot_nei_n = df_plot_nei.head(n)\n",
        "\n",
        "fig, ax =plt.subplots(figsize=(10, 8))\n",
        "ax = sns.barplot(x='price', y='neighbourhood_cleansed', data=df_plot_nei_n)\n",
        "ax.set_xlabel('Mean Price')\n",
        "ax.set_title('Top neighborhood in price (mean)')"
      ],
      "execution_count": 177,
      "outputs": [
        {
          "output_type": "execute_result",
          "data": {
            "text/plain": [
              "Text(0.5, 1.0, 'Top neighborhood in price (mean)')"
            ]
          },
          "metadata": {},
          "execution_count": 177
        },
        {
          "output_type": "display_data",
          "data": {
            "image/png": "[encoded data removed]",
            "text/plain": [
              "<Figure size 720x576 with 1 Axes>"
            ]
          },
          "metadata": {}
        }
      ]
    },
    {
      "cell_type": "code",
      "metadata": {
        "colab": {
          "base_uri": "https://localhost:8080/",
          "height": 142
        },
        "id": "s1DfiyitJGbi",
        "outputId": "b29daa98-2daa-4668-aacf-c59319d91953"
      },
      "source": [
        "#getting the total offers for each neighbourhood \n",
        "df_plot_nei_offers = df.groupby('neighbourhood_cleansed')['price'].count().sort_values(ascending=False).reset_index()\n",
        "\n",
        "#Filtering by neighbourhood with more than 50 samples\n",
        "df_plot_nei_offers = df_plot_nei_offers[df_plot_nei_offers['neighbourhood_cleansed'].isin(nei_over_50)]\n",
        "\n",
        "df_plot_nei_offers.head(3)"
      ],
      "execution_count": 178,
      "outputs": [
        {
          "output_type": "execute_result",
          "data": {
            "text/html": [
              "<div>\n",
              "<style scoped>\n",
              "    .dataframe tbody tr th:only-of-type {\n",
              "        vertical-align: middle;\n",
              "    }\n",
              "\n",
              "    .dataframe tbody tr th {\n",
              "        vertical-align: top;\n",
              "    }\n",
              "\n",
              "    .dataframe thead th {\n",
              "        text-align: right;\n",
              "    }\n",
              "</style>\n",
              "<table border=\"1\" class=\"dataframe\">\n",
              "  <thead>\n",
              "    <tr style=\"text-align: right;\">\n",
              "      <th></th>\n",
              "      <th>neighbourhood_cleansed</th>\n",
              "      <th>price</th>\n",
              "    </tr>\n",
              "  </thead>\n",
              "  <tbody>\n",
              "    <tr>\n",
              "      <th>0</th>\n",
              "      <td>copacabana</td>\n",
              "      <td>6629</td>\n",
              "    </tr>\n",
              "    <tr>\n",
              "      <th>1</th>\n",
              "      <td>barra da tijuca</td>\n",
              "      <td>2321</td>\n",
              "    </tr>\n",
              "    <tr>\n",
              "      <th>2</th>\n",
              "      <td>ipanema</td>\n",
              "      <td>2272</td>\n",
              "    </tr>\n",
              "  </tbody>\n",
              "</table>\n",
              "</div>"
            ],
            "text/plain": [
              "  neighbourhood_cleansed  price\n",
              "0             copacabana   6629\n",
              "1        barra da tijuca   2321\n",
              "2                ipanema   2272"
            ]
          },
          "metadata": {},
          "execution_count": 178
        }
      ]
    },
    {
      "cell_type": "code",
      "metadata": {
        "colab": {
          "base_uri": "https://localhost:8080/",
          "height": 535
        },
        "id": "gqkF92QuOJUt",
        "outputId": "bb233694-8fb5-411f-af66-4f9c19d46e18"
      },
      "source": [
        "#plotting top n neighbourhoods in offers (only over 50 samples included)\n",
        "\n",
        "n=25\n",
        "\n",
        "df_plot_nei_offers_n = df_plot_nei_offers.head(n)\n",
        "\n",
        "fig, ax =plt.subplots(figsize=(10, 8))\n",
        "ax = sns.barplot(x='price', y='neighbourhood_cleansed', data=df_plot_nei_offers_n)\n",
        "ax.set_xlabel('Count')\n",
        "ax.set_title('Top neighbourhood in Offers (total)')"
      ],
      "execution_count": 180,
      "outputs": [
        {
          "output_type": "execute_result",
          "data": {
            "text/plain": [
              "Text(0.5, 1.0, 'Top neighbourhood in Offers (total)')"
            ]
          },
          "metadata": {},
          "execution_count": 180
        },
        {
          "output_type": "display_data",
          "data": {
            "image/png": "[encoded data removed]",
            "text/plain": [
              "<Figure size 720x576 with 1 Axes>"
            ]
          },
          "metadata": {}
        }
      ]
    },
    {
      "cell_type": "markdown",
      "metadata": {
        "id": "cFV5i3EUjVjj"
      },
      "source": [
        "From the two last charts above we see that the neighbourhood affects the price, and most of the offers available is contained in 10 to 15 neighbourhoods. A highlight to Copacabana which has more than twice the total offers of the second place, Barra da Tijuca.   "
      ]
    },
    {
      "cell_type": "markdown",
      "metadata": {
        "id": "VCMto4POw8cG"
      },
      "source": [
        "###Room type analysis"
      ]
    },
    {
      "cell_type": "code",
      "metadata": {
        "colab": {
          "base_uri": "https://localhost:8080/",
          "height": 320
        },
        "id": "AmymV_mOwZmT",
        "outputId": "a5f14053-4bed-4cd1-fdff-83c4abe9e430"
      },
      "source": [
        "sns.countplot(y='room_type', data=df)\n",
        "plt.title('Count of room type', fontdict={'fontsize': 15})"
      ],
      "execution_count": 181,
      "outputs": [
        {
          "output_type": "execute_result",
          "data": {
            "text/plain": [
              "Text(0.5, 1.0, 'Count of room type')"
            ]
          },
          "metadata": {},
          "execution_count": 181
        },
        {
          "output_type": "display_data",
          "data": {
            "image/png": "[encoded data removed]",
            "text/plain": [
              "<Figure size 432x288 with 1 Axes>"
            ]
          },
          "metadata": {}
        }
      ]
    },
    {
      "cell_type": "code",
      "metadata": {
        "colab": {
          "base_uri": "https://localhost:8080/",
          "height": 320
        },
        "id": "5mHKhgQlwzh0",
        "outputId": "5460f729-fae4-418a-dd92-b17c2783acf1"
      },
      "source": [
        "sns.barplot(data=df, x='room_type', y='price')\n",
        "plt.title('Mean price by room type', fontdict={'fontsize': 15})"
      ],
      "execution_count": 182,
      "outputs": [
        {
          "output_type": "execute_result",
          "data": {
            "text/plain": [
              "Text(0.5, 1.0, 'Mean price by room type')"
            ]
          },
          "metadata": {},
          "execution_count": 182
        },
        {
          "output_type": "display_data",
          "data": {
            "image/png": "[encoded data removed]",
            "text/plain": [
              "<Figure size 432x288 with 1 Axes>"
            ]
          },
          "metadata": {}
        }
      ]
    },
    {
      "cell_type": "markdown",
      "metadata": {
        "id": "mf68VMTVyWIn"
      },
      "source": [
        "As expected, entire home is more expensive than the others."
      ]
    },
    {
      "cell_type": "markdown",
      "metadata": {
        "id": "mmE4rkE6zVNM"
      },
      "source": [
        "###Review scores rating"
      ]
    },
    {
      "cell_type": "code",
      "metadata": {
        "colab": {
          "base_uri": "https://localhost:8080/",
          "height": 320
        },
        "id": "XnE4jwLKySZz",
        "outputId": "f2db0a56-bc7a-4994-c78f-c53a09544efb"
      },
      "source": [
        "#Review scores rating histogram\n",
        "sns.histplot(data=df, x=\"review_scores_rating\", bins=40)\n",
        "plt.title('Review scores rating distribution', fontdict={'fontsize': 15})"
      ],
      "execution_count": 183,
      "outputs": [
        {
          "output_type": "execute_result",
          "data": {
            "text/plain": [
              "Text(0.5, 1.0, 'Review scores rating distribution')"
            ]
          },
          "metadata": {},
          "execution_count": 183
        },
        {
          "output_type": "display_data",
          "data": {
            "image/png": "[encoded data removed]",
            "text/plain": [
              "<Figure size 432x288 with 1 Axes>"
            ]
          },
          "metadata": {}
        }
      ]
    },
    {
      "cell_type": "markdown",
      "metadata": {
        "id": "yk9zzQ8ozcD_"
      },
      "source": [
        "#Modelling"
      ]
    },
    {
      "cell_type": "code",
      "metadata": {
        "colab": {
          "base_uri": "https://localhost:8080/",
          "height": 199
        },
        "id": "M2PwGLEqzDIQ",
        "outputId": "f8d14c24-b81e-4325-a173-5eac59ff3752"
      },
      "source": [
        "df.head(2)"
      ],
      "execution_count": 184,
      "outputs": [
        {
          "output_type": "execute_result",
          "data": {
            "text/html": [
              "<div>\n",
              "<style scoped>\n",
              "    .dataframe tbody tr th:only-of-type {\n",
              "        vertical-align: middle;\n",
              "    }\n",
              "\n",
              "    .dataframe tbody tr th {\n",
              "        vertical-align: top;\n",
              "    }\n",
              "\n",
              "    .dataframe thead th {\n",
              "        text-align: right;\n",
              "    }\n",
              "</style>\n",
              "<table border=\"1\" class=\"dataframe\">\n",
              "  <thead>\n",
              "    <tr style=\"text-align: right;\">\n",
              "      <th></th>\n",
              "      <th>id</th>\n",
              "      <th>host_response_time</th>\n",
              "      <th>host_response_rate</th>\n",
              "      <th>host_acceptance_rate</th>\n",
              "      <th>host_is_superhost</th>\n",
              "      <th>host_has_profile_pic</th>\n",
              "      <th>host_identity_verified</th>\n",
              "      <th>neighbourhood_cleansed</th>\n",
              "      <th>latitude</th>\n",
              "      <th>longitude</th>\n",
              "      <th>room_type</th>\n",
              "      <th>accommodates</th>\n",
              "      <th>bedrooms</th>\n",
              "      <th>beds</th>\n",
              "      <th>price</th>\n",
              "      <th>availability_30</th>\n",
              "      <th>availability_60</th>\n",
              "      <th>availability_90</th>\n",
              "      <th>availability_365</th>\n",
              "      <th>number_of_reviews</th>\n",
              "      <th>number_of_reviews_ltm</th>\n",
              "      <th>number_of_reviews_l30d</th>\n",
              "      <th>first_review</th>\n",
              "      <th>last_review</th>\n",
              "      <th>review_scores_rating</th>\n",
              "      <th>review_scores_accuracy</th>\n",
              "      <th>review_scores_cleanliness</th>\n",
              "      <th>review_scores_checkin</th>\n",
              "      <th>review_scores_communication</th>\n",
              "      <th>review_scores_location</th>\n",
              "      <th>review_scores_value</th>\n",
              "      <th>reviews_per_month</th>\n",
              "      <th>bath_num</th>\n",
              "      <th>amenities_Wifi</th>\n",
              "      <th>amenities_Long term stays allowed</th>\n",
              "      <th>amenities_Essentials</th>\n",
              "      <th>amenities_Kitchen</th>\n",
              "      <th>amenities_Air conditioning</th>\n",
              "      <th>amenities_Iron</th>\n",
              "      <th>amenities_Elevator</th>\n",
              "      <th>amenities_Hot water</th>\n",
              "      <th>amenities_Dedicated workspace</th>\n",
              "      <th>amenities_TV</th>\n",
              "      <th>amenities_Dishes and silverware</th>\n",
              "      <th>amenities_Cooking basics</th>\n",
              "      <th>amenities_Hangers</th>\n",
              "      <th>amenities_Hair dryer</th>\n",
              "      <th>amenities_Refrigerator</th>\n",
              "      <th>amenities_Microwave</th>\n",
              "      <th>amenities_Free parking on premises</th>\n",
              "    </tr>\n",
              "  </thead>\n",
              "  <tbody>\n",
              "    <tr>\n",
              "      <th>0</th>\n",
              "      <td>17878</td>\n",
              "      <td>within an hour</td>\n",
              "      <td>100.0</td>\n",
              "      <td>98.000000</td>\n",
              "      <td>f</td>\n",
              "      <td>t</td>\n",
              "      <td>t</td>\n",
              "      <td>copacabana</td>\n",
              "      <td>-22.96599</td>\n",
              "      <td>-43.17940</td>\n",
              "      <td>Entire home/apt</td>\n",
              "      <td>5</td>\n",
              "      <td>2.0</td>\n",
              "      <td>2.0</td>\n",
              "      <td>350.0</td>\n",
              "      <td>16</td>\n",
              "      <td>46</td>\n",
              "      <td>69</td>\n",
              "      <td>314</td>\n",
              "      <td>265</td>\n",
              "      <td>12</td>\n",
              "      <td>0</td>\n",
              "      <td>2011-03-30</td>\n",
              "      <td>2021-05-21</td>\n",
              "      <td>4.68</td>\n",
              "      <td>4.78</td>\n",
              "      <td>4.63</td>\n",
              "      <td>4.82</td>\n",
              "      <td>4.9</td>\n",
              "      <td>4.76</td>\n",
              "      <td>4.65</td>\n",
              "      <td>2.07</td>\n",
              "      <td>1</td>\n",
              "      <td>1</td>\n",
              "      <td>1</td>\n",
              "      <td>1</td>\n",
              "      <td>1</td>\n",
              "      <td>1</td>\n",
              "      <td>1</td>\n",
              "      <td>1</td>\n",
              "      <td>1</td>\n",
              "      <td>1</td>\n",
              "      <td>1</td>\n",
              "      <td>1</td>\n",
              "      <td>1</td>\n",
              "      <td>1</td>\n",
              "      <td>1</td>\n",
              "      <td>1</td>\n",
              "      <td>1</td>\n",
              "      <td>0</td>\n",
              "    </tr>\n",
              "    <tr>\n",
              "      <th>1</th>\n",
              "      <td>24480</td>\n",
              "      <td>within a day</td>\n",
              "      <td>50.0</td>\n",
              "      <td>72.932538</td>\n",
              "      <td>f</td>\n",
              "      <td>t</td>\n",
              "      <td>t</td>\n",
              "      <td>ipanema</td>\n",
              "      <td>-22.98405</td>\n",
              "      <td>-43.20189</td>\n",
              "      <td>Entire home/apt</td>\n",
              "      <td>2</td>\n",
              "      <td>1.0</td>\n",
              "      <td>1.0</td>\n",
              "      <td>297.0</td>\n",
              "      <td>0</td>\n",
              "      <td>0</td>\n",
              "      <td>0</td>\n",
              "      <td>30</td>\n",
              "      <td>85</td>\n",
              "      <td>0</td>\n",
              "      <td>0</td>\n",
              "      <td>2013-08-20</td>\n",
              "      <td>2017-04-22</td>\n",
              "      <td>4.73</td>\n",
              "      <td>4.83</td>\n",
              "      <td>4.78</td>\n",
              "      <td>4.90</td>\n",
              "      <td>4.9</td>\n",
              "      <td>4.97</td>\n",
              "      <td>4.58</td>\n",
              "      <td>0.86</td>\n",
              "      <td>1</td>\n",
              "      <td>1</td>\n",
              "      <td>1</td>\n",
              "      <td>1</td>\n",
              "      <td>0</td>\n",
              "      <td>1</td>\n",
              "      <td>1</td>\n",
              "      <td>0</td>\n",
              "      <td>1</td>\n",
              "      <td>1</td>\n",
              "      <td>1</td>\n",
              "      <td>1</td>\n",
              "      <td>0</td>\n",
              "      <td>1</td>\n",
              "      <td>1</td>\n",
              "      <td>1</td>\n",
              "      <td>1</td>\n",
              "      <td>0</td>\n",
              "    </tr>\n",
              "  </tbody>\n",
              "</table>\n",
              "</div>"
            ],
            "text/plain": [
              "      id  ... amenities_Free parking on premises\n",
              "0  17878  ...                                  0\n",
              "1  24480  ...                                  0\n",
              "\n",
              "[2 rows x 50 columns]"
            ]
          },
          "metadata": {},
          "execution_count": 184
        }
      ]
    },
    {
      "cell_type": "code",
      "metadata": {
        "colab": {
          "base_uri": "https://localhost:8080/"
        },
        "id": "GwmDdJ8-5zSV",
        "outputId": "59cd610c-2509-4dba-dc21-ae9d9414244e"
      },
      "source": [
        "dict_av"
      ],
      "execution_count": 185,
      "outputs": [
        {
          "output_type": "execute_result",
          "data": {
            "text/plain": [
              "{'f': 0, 't': 1}"
            ]
          },
          "metadata": {},
          "execution_count": 185
        }
      ]
    },
    {
      "cell_type": "code",
      "metadata": {
        "id": "P75JkGK76dRu"
      },
      "source": [
        "for column in ['host_is_superhost',\t'host_has_profile_pic',\t'host_identity_verified']:\n",
        "  df[column] = df[column].map(dict_av)"
      ],
      "execution_count": 186,
      "outputs": []
    },
    {
      "cell_type": "code",
      "metadata": {
        "id": "97MVAtGh7PHW"
      },
      "source": [
        "#Extracting year and month from date column\n",
        "df['year_first_review'] = pd.DatetimeIndex(df['first_review']).year\n",
        "df['year_last_review'] = pd.DatetimeIndex(df['last_review']).year"
      ],
      "execution_count": 187,
      "outputs": []
    },
    {
      "cell_type": "code",
      "metadata": {
        "colab": {
          "base_uri": "https://localhost:8080/"
        },
        "id": "qbyWiLBfMZvr",
        "outputId": "e9d6abc3-df91-4170-bd88-f1867533c59a"
      },
      "source": [
        "df.columns"
      ],
      "execution_count": 188,
      "outputs": [
        {
          "output_type": "execute_result",
          "data": {
            "text/plain": [
              "Index(['id', 'host_response_time', 'host_response_rate',\n",
              "       'host_acceptance_rate', 'host_is_superhost', 'host_has_profile_pic',\n",
              "       'host_identity_verified', 'neighbourhood_cleansed', 'latitude',\n",
              "       'longitude', 'room_type', 'accommodates', 'bedrooms', 'beds', 'price',\n",
              "       'availability_30', 'availability_60', 'availability_90',\n",
              "       'availability_365', 'number_of_reviews', 'number_of_reviews_ltm',\n",
              "       'number_of_reviews_l30d', 'first_review', 'last_review',\n",
              "       'review_scores_rating', 'review_scores_accuracy',\n",
              "       'review_scores_cleanliness', 'review_scores_checkin',\n",
              "       'review_scores_communication', 'review_scores_location',\n",
              "       'review_scores_value', 'reviews_per_month', 'bath_num',\n",
              "       'amenities_Wifi', 'amenities_Long term stays allowed',\n",
              "       'amenities_Essentials', 'amenities_Kitchen',\n",
              "       'amenities_Air conditioning', 'amenities_Iron', 'amenities_Elevator',\n",
              "       'amenities_Hot water', 'amenities_Dedicated workspace', 'amenities_TV',\n",
              "       'amenities_Dishes and silverware', 'amenities_Cooking basics',\n",
              "       'amenities_Hangers', 'amenities_Hair dryer', 'amenities_Refrigerator',\n",
              "       'amenities_Microwave', 'amenities_Free parking on premises',\n",
              "       'year_first_review', 'year_last_review'],\n",
              "      dtype='object')"
            ]
          },
          "metadata": {},
          "execution_count": 188
        }
      ]
    },
    {
      "cell_type": "code",
      "metadata": {
        "id": "4tpPk5I_8xxv"
      },
      "source": [
        "#Dropping some columns we won't use in our model\n",
        "df.drop(['id', 'first_review', 'last_review'], axis=1, inplace=True)"
      ],
      "execution_count": 189,
      "outputs": []
    },
    {
      "cell_type": "markdown",
      "metadata": {
        "id": "o1KwZJaOj2RU"
      },
      "source": [
        "**Keeping only the rows which have a neighbourhood that is present more than 50 times in the dataset.**"
      ]
    },
    {
      "cell_type": "code",
      "metadata": {
        "id": "bB0ultG-bdYU"
      },
      "source": [
        "#Keeping only the rows which have a neighbourhood that is present more than 50 times in the dataset\n",
        "df = df[df.neighbourhood_cleansed.isin(nei_over_50)]"
      ],
      "execution_count": 190,
      "outputs": []
    },
    {
      "cell_type": "code",
      "metadata": {
        "id": "OUdr6GRN8y8G"
      },
      "source": [
        "cat_cols = ['host_response_time', 'neighbourhood_cleansed', 'room_type']\n",
        "\n",
        "def create_dummy_df(df, cat_cols, dummy_na):\n",
        "    '''\n",
        "    INPUT:\n",
        "    df - pandas dataframe with categorical variables you want to dummy\n",
        "    cat_cols - list of strings that are associated with names of the categorical columns\n",
        "    dummy_na - Bool holding whether you want to dummy NA vals of categorical columns or not\n",
        "    \n",
        "    OUTPUT:\n",
        "    df - a new dataframe that has the following characteristics:\n",
        "            1. contains all columns that were not specified as categorical\n",
        "            2. removes all the original columns in cat_cols\n",
        "            3. dummy columns for each of the categorical columns in cat_cols\n",
        "            4. if dummy_na is True - it also contains dummy columns for the NaN values\n",
        "            5. Use a prefix of the column name with an underscore (_) for separating \n",
        "    '''\n",
        "    for col in  cat_cols:\n",
        "        try:\n",
        "            # for each cat add dummy var, drop original column\n",
        "            df = pd.concat([df.drop(col, axis=1), pd.get_dummies(df[col], prefix=col, prefix_sep='_', drop_first=True, dummy_na=dummy_na)], axis=1)\n",
        "        except:\n",
        "            continue\n",
        "\n",
        "    return df"
      ],
      "execution_count": 191,
      "outputs": []
    },
    {
      "cell_type": "code",
      "metadata": {
        "colab": {
          "base_uri": "https://localhost:8080/",
          "height": 287
        },
        "id": "tHQ-ukKY_zed",
        "outputId": "be621d10-0574-404e-b8e9-782174fbb499"
      },
      "source": [
        "df_model = create_dummy_df(df, cat_cols, dummy_na=False)\n",
        "\n",
        "df_model.head()"
      ],
      "execution_count": 192,
      "outputs": [
        {
          "output_type": "execute_result",
          "data": {
            "text/html": [
              "<div>\n",
              "<style scoped>\n",
              "    .dataframe tbody tr th:only-of-type {\n",
              "        vertical-align: middle;\n",
              "    }\n",
              "\n",
              "    .dataframe tbody tr th {\n",
              "        vertical-align: top;\n",
              "    }\n",
              "\n",
              "    .dataframe thead th {\n",
              "        text-align: right;\n",
              "    }\n",
              "</style>\n",
              "<table border=\"1\" class=\"dataframe\">\n",
              "  <thead>\n",
              "    <tr style=\"text-align: right;\">\n",
              "      <th></th>\n",
              "      <th>host_response_rate</th>\n",
              "      <th>host_acceptance_rate</th>\n",
              "      <th>host_is_superhost</th>\n",
              "      <th>host_has_profile_pic</th>\n",
              "      <th>host_identity_verified</th>\n",
              "      <th>latitude</th>\n",
              "      <th>longitude</th>\n",
              "      <th>accommodates</th>\n",
              "      <th>bedrooms</th>\n",
              "      <th>beds</th>\n",
              "      <th>price</th>\n",
              "      <th>availability_30</th>\n",
              "      <th>availability_60</th>\n",
              "      <th>availability_90</th>\n",
              "      <th>availability_365</th>\n",
              "      <th>number_of_reviews</th>\n",
              "      <th>number_of_reviews_ltm</th>\n",
              "      <th>number_of_reviews_l30d</th>\n",
              "      <th>review_scores_rating</th>\n",
              "      <th>review_scores_accuracy</th>\n",
              "      <th>review_scores_cleanliness</th>\n",
              "      <th>review_scores_checkin</th>\n",
              "      <th>review_scores_communication</th>\n",
              "      <th>review_scores_location</th>\n",
              "      <th>review_scores_value</th>\n",
              "      <th>reviews_per_month</th>\n",
              "      <th>bath_num</th>\n",
              "      <th>amenities_Wifi</th>\n",
              "      <th>amenities_Long term stays allowed</th>\n",
              "      <th>amenities_Essentials</th>\n",
              "      <th>amenities_Kitchen</th>\n",
              "      <th>amenities_Air conditioning</th>\n",
              "      <th>amenities_Iron</th>\n",
              "      <th>amenities_Elevator</th>\n",
              "      <th>amenities_Hot water</th>\n",
              "      <th>amenities_Dedicated workspace</th>\n",
              "      <th>amenities_TV</th>\n",
              "      <th>amenities_Dishes and silverware</th>\n",
              "      <th>amenities_Cooking basics</th>\n",
              "      <th>amenities_Hangers</th>\n",
              "      <th>...</th>\n",
              "      <th>neighbourhood_cleansed_botafogo</th>\n",
              "      <th>neighbourhood_cleansed_camorim</th>\n",
              "      <th>neighbourhood_cleansed_campo grande</th>\n",
              "      <th>neighbourhood_cleansed_catete</th>\n",
              "      <th>neighbourhood_cleansed_centro</th>\n",
              "      <th>neighbourhood_cleansed_copacabana</th>\n",
              "      <th>neighbourhood_cleansed_cosme velho</th>\n",
              "      <th>neighbourhood_cleansed_curicica</th>\n",
              "      <th>neighbourhood_cleansed_estácio</th>\n",
              "      <th>neighbourhood_cleansed_flamengo</th>\n",
              "      <th>neighbourhood_cleansed_freguesia (jacarepaguá)</th>\n",
              "      <th>neighbourhood_cleansed_glória</th>\n",
              "      <th>neighbourhood_cleansed_guaratiba</th>\n",
              "      <th>neighbourhood_cleansed_gávea</th>\n",
              "      <th>neighbourhood_cleansed_humaitá</th>\n",
              "      <th>neighbourhood_cleansed_ipanema</th>\n",
              "      <th>neighbourhood_cleansed_itanhangá</th>\n",
              "      <th>neighbourhood_cleansed_jacarepaguá</th>\n",
              "      <th>neighbourhood_cleansed_jardim botânico</th>\n",
              "      <th>neighbourhood_cleansed_joá</th>\n",
              "      <th>neighbourhood_cleansed_lagoa</th>\n",
              "      <th>neighbourhood_cleansed_laranjeiras</th>\n",
              "      <th>neighbourhood_cleansed_leblon</th>\n",
              "      <th>neighbourhood_cleansed_leme</th>\n",
              "      <th>neighbourhood_cleansed_maracanã</th>\n",
              "      <th>neighbourhood_cleansed_recreio dos bandeirantes</th>\n",
              "      <th>neighbourhood_cleansed_rio comprido</th>\n",
              "      <th>neighbourhood_cleansed_santa teresa</th>\n",
              "      <th>neighbourhood_cleansed_são conrado</th>\n",
              "      <th>neighbourhood_cleansed_são cristóvão</th>\n",
              "      <th>neighbourhood_cleansed_taquara</th>\n",
              "      <th>neighbourhood_cleansed_tijuca</th>\n",
              "      <th>neighbourhood_cleansed_urca</th>\n",
              "      <th>neighbourhood_cleansed_vargem grande</th>\n",
              "      <th>neighbourhood_cleansed_vargem pequena</th>\n",
              "      <th>neighbourhood_cleansed_vidigal</th>\n",
              "      <th>neighbourhood_cleansed_vila isabel</th>\n",
              "      <th>room_type_Hotel room</th>\n",
              "      <th>room_type_Private room</th>\n",
              "      <th>room_type_Shared room</th>\n",
              "    </tr>\n",
              "  </thead>\n",
              "  <tbody>\n",
              "    <tr>\n",
              "      <th>0</th>\n",
              "      <td>100.0</td>\n",
              "      <td>98.000000</td>\n",
              "      <td>0</td>\n",
              "      <td>1</td>\n",
              "      <td>1</td>\n",
              "      <td>-22.96599</td>\n",
              "      <td>-43.17940</td>\n",
              "      <td>5</td>\n",
              "      <td>2.0</td>\n",
              "      <td>2.0</td>\n",
              "      <td>350.0</td>\n",
              "      <td>16</td>\n",
              "      <td>46</td>\n",
              "      <td>69</td>\n",
              "      <td>314</td>\n",
              "      <td>265</td>\n",
              "      <td>12</td>\n",
              "      <td>0</td>\n",
              "      <td>4.68</td>\n",
              "      <td>4.78</td>\n",
              "      <td>4.63</td>\n",
              "      <td>4.82</td>\n",
              "      <td>4.90</td>\n",
              "      <td>4.76</td>\n",
              "      <td>4.65</td>\n",
              "      <td>2.07</td>\n",
              "      <td>1</td>\n",
              "      <td>1</td>\n",
              "      <td>1</td>\n",
              "      <td>1</td>\n",
              "      <td>1</td>\n",
              "      <td>1</td>\n",
              "      <td>1</td>\n",
              "      <td>1</td>\n",
              "      <td>1</td>\n",
              "      <td>1</td>\n",
              "      <td>1</td>\n",
              "      <td>1</td>\n",
              "      <td>1</td>\n",
              "      <td>1</td>\n",
              "      <td>...</td>\n",
              "      <td>0</td>\n",
              "      <td>0</td>\n",
              "      <td>0</td>\n",
              "      <td>0</td>\n",
              "      <td>0</td>\n",
              "      <td>1</td>\n",
              "      <td>0</td>\n",
              "      <td>0</td>\n",
              "      <td>0</td>\n",
              "      <td>0</td>\n",
              "      <td>0</td>\n",
              "      <td>0</td>\n",
              "      <td>0</td>\n",
              "      <td>0</td>\n",
              "      <td>0</td>\n",
              "      <td>0</td>\n",
              "      <td>0</td>\n",
              "      <td>0</td>\n",
              "      <td>0</td>\n",
              "      <td>0</td>\n",
              "      <td>0</td>\n",
              "      <td>0</td>\n",
              "      <td>0</td>\n",
              "      <td>0</td>\n",
              "      <td>0</td>\n",
              "      <td>0</td>\n",
              "      <td>0</td>\n",
              "      <td>0</td>\n",
              "      <td>0</td>\n",
              "      <td>0</td>\n",
              "      <td>0</td>\n",
              "      <td>0</td>\n",
              "      <td>0</td>\n",
              "      <td>0</td>\n",
              "      <td>0</td>\n",
              "      <td>0</td>\n",
              "      <td>0</td>\n",
              "      <td>0</td>\n",
              "      <td>0</td>\n",
              "      <td>0</td>\n",
              "    </tr>\n",
              "    <tr>\n",
              "      <th>1</th>\n",
              "      <td>50.0</td>\n",
              "      <td>72.932538</td>\n",
              "      <td>0</td>\n",
              "      <td>1</td>\n",
              "      <td>1</td>\n",
              "      <td>-22.98405</td>\n",
              "      <td>-43.20189</td>\n",
              "      <td>2</td>\n",
              "      <td>1.0</td>\n",
              "      <td>1.0</td>\n",
              "      <td>297.0</td>\n",
              "      <td>0</td>\n",
              "      <td>0</td>\n",
              "      <td>0</td>\n",
              "      <td>30</td>\n",
              "      <td>85</td>\n",
              "      <td>0</td>\n",
              "      <td>0</td>\n",
              "      <td>4.73</td>\n",
              "      <td>4.83</td>\n",
              "      <td>4.78</td>\n",
              "      <td>4.90</td>\n",
              "      <td>4.90</td>\n",
              "      <td>4.97</td>\n",
              "      <td>4.58</td>\n",
              "      <td>0.86</td>\n",
              "      <td>1</td>\n",
              "      <td>1</td>\n",
              "      <td>1</td>\n",
              "      <td>1</td>\n",
              "      <td>0</td>\n",
              "      <td>1</td>\n",
              "      <td>1</td>\n",
              "      <td>0</td>\n",
              "      <td>1</td>\n",
              "      <td>1</td>\n",
              "      <td>1</td>\n",
              "      <td>1</td>\n",
              "      <td>0</td>\n",
              "      <td>1</td>\n",
              "      <td>...</td>\n",
              "      <td>0</td>\n",
              "      <td>0</td>\n",
              "      <td>0</td>\n",
              "      <td>0</td>\n",
              "      <td>0</td>\n",
              "      <td>0</td>\n",
              "      <td>0</td>\n",
              "      <td>0</td>\n",
              "      <td>0</td>\n",
              "      <td>0</td>\n",
              "      <td>0</td>\n",
              "      <td>0</td>\n",
              "      <td>0</td>\n",
              "      <td>0</td>\n",
              "      <td>0</td>\n",
              "      <td>1</td>\n",
              "      <td>0</td>\n",
              "      <td>0</td>\n",
              "      <td>0</td>\n",
              "      <td>0</td>\n",
              "      <td>0</td>\n",
              "      <td>0</td>\n",
              "      <td>0</td>\n",
              "      <td>0</td>\n",
              "      <td>0</td>\n",
              "      <td>0</td>\n",
              "      <td>0</td>\n",
              "      <td>0</td>\n",
              "      <td>0</td>\n",
              "      <td>0</td>\n",
              "      <td>0</td>\n",
              "      <td>0</td>\n",
              "      <td>0</td>\n",
              "      <td>0</td>\n",
              "      <td>0</td>\n",
              "      <td>0</td>\n",
              "      <td>0</td>\n",
              "      <td>0</td>\n",
              "      <td>0</td>\n",
              "      <td>0</td>\n",
              "    </tr>\n",
              "    <tr>\n",
              "      <th>2</th>\n",
              "      <td>50.0</td>\n",
              "      <td>36.000000</td>\n",
              "      <td>0</td>\n",
              "      <td>1</td>\n",
              "      <td>1</td>\n",
              "      <td>-22.97735</td>\n",
              "      <td>-43.19105</td>\n",
              "      <td>2</td>\n",
              "      <td>1.0</td>\n",
              "      <td>2.0</td>\n",
              "      <td>160.0</td>\n",
              "      <td>0</td>\n",
              "      <td>0</td>\n",
              "      <td>27</td>\n",
              "      <td>266</td>\n",
              "      <td>238</td>\n",
              "      <td>0</td>\n",
              "      <td>0</td>\n",
              "      <td>4.68</td>\n",
              "      <td>4.65</td>\n",
              "      <td>4.76</td>\n",
              "      <td>4.77</td>\n",
              "      <td>4.90</td>\n",
              "      <td>4.81</td>\n",
              "      <td>4.56</td>\n",
              "      <td>1.86</td>\n",
              "      <td>1</td>\n",
              "      <td>1</td>\n",
              "      <td>1</td>\n",
              "      <td>1</td>\n",
              "      <td>1</td>\n",
              "      <td>1</td>\n",
              "      <td>1</td>\n",
              "      <td>1</td>\n",
              "      <td>0</td>\n",
              "      <td>1</td>\n",
              "      <td>1</td>\n",
              "      <td>0</td>\n",
              "      <td>0</td>\n",
              "      <td>1</td>\n",
              "      <td>...</td>\n",
              "      <td>0</td>\n",
              "      <td>0</td>\n",
              "      <td>0</td>\n",
              "      <td>0</td>\n",
              "      <td>0</td>\n",
              "      <td>1</td>\n",
              "      <td>0</td>\n",
              "      <td>0</td>\n",
              "      <td>0</td>\n",
              "      <td>0</td>\n",
              "      <td>0</td>\n",
              "      <td>0</td>\n",
              "      <td>0</td>\n",
              "      <td>0</td>\n",
              "      <td>0</td>\n",
              "      <td>0</td>\n",
              "      <td>0</td>\n",
              "      <td>0</td>\n",
              "      <td>0</td>\n",
              "      <td>0</td>\n",
              "      <td>0</td>\n",
              "      <td>0</td>\n",
              "      <td>0</td>\n",
              "      <td>0</td>\n",
              "      <td>0</td>\n",
              "      <td>0</td>\n",
              "      <td>0</td>\n",
              "      <td>0</td>\n",
              "      <td>0</td>\n",
              "      <td>0</td>\n",
              "      <td>0</td>\n",
              "      <td>0</td>\n",
              "      <td>0</td>\n",
              "      <td>0</td>\n",
              "      <td>0</td>\n",
              "      <td>0</td>\n",
              "      <td>0</td>\n",
              "      <td>0</td>\n",
              "      <td>0</td>\n",
              "      <td>0</td>\n",
              "    </tr>\n",
              "    <tr>\n",
              "      <th>3</th>\n",
              "      <td>100.0</td>\n",
              "      <td>72.932538</td>\n",
              "      <td>1</td>\n",
              "      <td>1</td>\n",
              "      <td>1</td>\n",
              "      <td>-22.98839</td>\n",
              "      <td>-43.19232</td>\n",
              "      <td>2</td>\n",
              "      <td>1.0</td>\n",
              "      <td>1.0</td>\n",
              "      <td>271.0</td>\n",
              "      <td>0</td>\n",
              "      <td>0</td>\n",
              "      <td>0</td>\n",
              "      <td>151</td>\n",
              "      <td>181</td>\n",
              "      <td>0</td>\n",
              "      <td>0</td>\n",
              "      <td>4.72</td>\n",
              "      <td>4.85</td>\n",
              "      <td>4.63</td>\n",
              "      <td>4.85</td>\n",
              "      <td>4.88</td>\n",
              "      <td>4.90</td>\n",
              "      <td>4.65</td>\n",
              "      <td>1.92</td>\n",
              "      <td>1</td>\n",
              "      <td>1</td>\n",
              "      <td>1</td>\n",
              "      <td>1</td>\n",
              "      <td>1</td>\n",
              "      <td>1</td>\n",
              "      <td>1</td>\n",
              "      <td>1</td>\n",
              "      <td>1</td>\n",
              "      <td>0</td>\n",
              "      <td>1</td>\n",
              "      <td>1</td>\n",
              "      <td>1</td>\n",
              "      <td>1</td>\n",
              "      <td>...</td>\n",
              "      <td>0</td>\n",
              "      <td>0</td>\n",
              "      <td>0</td>\n",
              "      <td>0</td>\n",
              "      <td>0</td>\n",
              "      <td>0</td>\n",
              "      <td>0</td>\n",
              "      <td>0</td>\n",
              "      <td>0</td>\n",
              "      <td>0</td>\n",
              "      <td>0</td>\n",
              "      <td>0</td>\n",
              "      <td>0</td>\n",
              "      <td>0</td>\n",
              "      <td>0</td>\n",
              "      <td>1</td>\n",
              "      <td>0</td>\n",
              "      <td>0</td>\n",
              "      <td>0</td>\n",
              "      <td>0</td>\n",
              "      <td>0</td>\n",
              "      <td>0</td>\n",
              "      <td>0</td>\n",
              "      <td>0</td>\n",
              "      <td>0</td>\n",
              "      <td>0</td>\n",
              "      <td>0</td>\n",
              "      <td>0</td>\n",
              "      <td>0</td>\n",
              "      <td>0</td>\n",
              "      <td>0</td>\n",
              "      <td>0</td>\n",
              "      <td>0</td>\n",
              "      <td>0</td>\n",
              "      <td>0</td>\n",
              "      <td>0</td>\n",
              "      <td>0</td>\n",
              "      <td>0</td>\n",
              "      <td>0</td>\n",
              "      <td>0</td>\n",
              "    </tr>\n",
              "    <tr>\n",
              "      <th>4</th>\n",
              "      <td>100.0</td>\n",
              "      <td>97.000000</td>\n",
              "      <td>1</td>\n",
              "      <td>1</td>\n",
              "      <td>1</td>\n",
              "      <td>-22.98107</td>\n",
              "      <td>-43.19136</td>\n",
              "      <td>2</td>\n",
              "      <td>1.0</td>\n",
              "      <td>1.0</td>\n",
              "      <td>121.0</td>\n",
              "      <td>0</td>\n",
              "      <td>4</td>\n",
              "      <td>7</td>\n",
              "      <td>30</td>\n",
              "      <td>371</td>\n",
              "      <td>35</td>\n",
              "      <td>3</td>\n",
              "      <td>4.90</td>\n",
              "      <td>4.93</td>\n",
              "      <td>4.94</td>\n",
              "      <td>4.96</td>\n",
              "      <td>4.94</td>\n",
              "      <td>4.94</td>\n",
              "      <td>4.87</td>\n",
              "      <td>3.05</td>\n",
              "      <td>1</td>\n",
              "      <td>1</td>\n",
              "      <td>0</td>\n",
              "      <td>1</td>\n",
              "      <td>1</td>\n",
              "      <td>1</td>\n",
              "      <td>1</td>\n",
              "      <td>1</td>\n",
              "      <td>1</td>\n",
              "      <td>1</td>\n",
              "      <td>1</td>\n",
              "      <td>1</td>\n",
              "      <td>1</td>\n",
              "      <td>1</td>\n",
              "      <td>...</td>\n",
              "      <td>0</td>\n",
              "      <td>0</td>\n",
              "      <td>0</td>\n",
              "      <td>0</td>\n",
              "      <td>0</td>\n",
              "      <td>1</td>\n",
              "      <td>0</td>\n",
              "      <td>0</td>\n",
              "      <td>0</td>\n",
              "      <td>0</td>\n",
              "      <td>0</td>\n",
              "      <td>0</td>\n",
              "      <td>0</td>\n",
              "      <td>0</td>\n",
              "      <td>0</td>\n",
              "      <td>0</td>\n",
              "      <td>0</td>\n",
              "      <td>0</td>\n",
              "      <td>0</td>\n",
              "      <td>0</td>\n",
              "      <td>0</td>\n",
              "      <td>0</td>\n",
              "      <td>0</td>\n",
              "      <td>0</td>\n",
              "      <td>0</td>\n",
              "      <td>0</td>\n",
              "      <td>0</td>\n",
              "      <td>0</td>\n",
              "      <td>0</td>\n",
              "      <td>0</td>\n",
              "      <td>0</td>\n",
              "      <td>0</td>\n",
              "      <td>0</td>\n",
              "      <td>0</td>\n",
              "      <td>0</td>\n",
              "      <td>0</td>\n",
              "      <td>0</td>\n",
              "      <td>0</td>\n",
              "      <td>0</td>\n",
              "      <td>0</td>\n",
              "    </tr>\n",
              "  </tbody>\n",
              "</table>\n",
              "<p>5 rows × 90 columns</p>\n",
              "</div>"
            ],
            "text/plain": [
              "   host_response_rate  ...  room_type_Shared room\n",
              "0               100.0  ...                      0\n",
              "1                50.0  ...                      0\n",
              "2                50.0  ...                      0\n",
              "3               100.0  ...                      0\n",
              "4               100.0  ...                      0\n",
              "\n",
              "[5 rows x 90 columns]"
            ]
          },
          "metadata": {},
          "execution_count": 192
        }
      ]
    },
    {
      "cell_type": "code",
      "metadata": {
        "id": "ekpfiODR_zbe"
      },
      "source": [
        "#Split into explanatory and response variables\n",
        "X = df_model.drop('price', axis=1)\n",
        "y = df_model['price']"
      ],
      "execution_count": 193,
      "outputs": []
    },
    {
      "cell_type": "code",
      "metadata": {
        "id": "Y8Cu36xD_zZM"
      },
      "source": [
        "#Split into train and test\n",
        "X_train, X_test, y_train, y_test = train_test_split(X, y, test_size=0.3, random_state=42)"
      ],
      "execution_count": 194,
      "outputs": []
    },
    {
      "cell_type": "code",
      "metadata": {
        "colab": {
          "base_uri": "https://localhost:8080/"
        },
        "id": "XIjaj10KJ7i7",
        "outputId": "d88d68cb-7037-4869-ae31-9ff60a406483"
      },
      "source": [
        "print(X_train.shape, y_train.shape)\n",
        "print(X_test.shape, y_test.shape)"
      ],
      "execution_count": 195,
      "outputs": [
        {
          "output_type": "stream",
          "name": "stdout",
          "text": [
            "(15318, 89) (15318,)\n",
            "(6565, 89) (6565,)\n"
          ]
        }
      ]
    },
    {
      "cell_type": "markdown",
      "metadata": {
        "id": "LL60gfqtsTQT"
      },
      "source": [
        "###Linear regression model"
      ]
    },
    {
      "cell_type": "code",
      "metadata": {
        "id": "HcV7EX0y_zWr",
        "colab": {
          "base_uri": "https://localhost:8080/"
        },
        "outputId": "f07e26c2-e020-4dbe-d767-ffa56e8ecb3d"
      },
      "source": [
        "lm_model = LinearRegression(normalize=True) # Instantiate\n",
        "lm_model.fit(X_train, y_train) #Fit"
      ],
      "execution_count": 196,
      "outputs": [
        {
          "output_type": "execute_result",
          "data": {
            "text/plain": [
              "LinearRegression(copy_X=True, fit_intercept=True, n_jobs=None, normalize=True)"
            ]
          },
          "metadata": {},
          "execution_count": 196
        }
      ]
    },
    {
      "cell_type": "code",
      "metadata": {
        "id": "J4-YqQkcA96f"
      },
      "source": [
        "y_train_preds = lm_model.predict(X_train) #predict on train data\n",
        "y_test_preds = lm_model.predict(X_test)  #Predict on test data"
      ],
      "execution_count": 197,
      "outputs": []
    },
    {
      "cell_type": "code",
      "metadata": {
        "colab": {
          "base_uri": "https://localhost:8080/"
        },
        "id": "WUgE_Mi88IBp",
        "outputId": "aac27bee-91a0-40d8-d0b1-274faef8f2e1"
      },
      "source": [
        "print('The train R2 score is: {}, and the test R2 score is {}'.format(r2_score(y_train, y_train_preds), r2_score(y_test, y_test_preds)))"
      ],
      "execution_count": 198,
      "outputs": [
        {
          "output_type": "stream",
          "name": "stdout",
          "text": [
            "The train R2 score is: 0.4091679151415173, and the test R2 score is 0.4244736105746165\n"
          ]
        }
      ]
    },
    {
      "cell_type": "markdown",
      "metadata": {
        "id": "5lg2otwVqDuf"
      },
      "source": [
        "###Random Forest regressor"
      ]
    },
    {
      "cell_type": "code",
      "metadata": {
        "id": "DLr0rp3Cqo8t"
      },
      "source": [
        "clf = RandomForestRegressor(max_depth=20, n_estimators=100)"
      ],
      "execution_count": 199,
      "outputs": []
    },
    {
      "cell_type": "code",
      "metadata": {
        "colab": {
          "base_uri": "https://localhost:8080/"
        },
        "id": "uH9HEJNyqo6P",
        "outputId": "8fb4d419-775f-4310-fe39-9dc12b3c1962"
      },
      "source": [
        "clf.fit(X_train, y_train)"
      ],
      "execution_count": 200,
      "outputs": [
        {
          "output_type": "execute_result",
          "data": {
            "text/plain": [
              "RandomForestRegressor(bootstrap=True, ccp_alpha=0.0, criterion='mse',\n",
              "                      max_depth=20, max_features='auto', max_leaf_nodes=None,\n",
              "                      max_samples=None, min_impurity_decrease=0.0,\n",
              "                      min_impurity_split=None, min_samples_leaf=1,\n",
              "                      min_samples_split=2, min_weight_fraction_leaf=0.0,\n",
              "                      n_estimators=100, n_jobs=None, oob_score=False,\n",
              "                      random_state=None, verbose=0, warm_start=False)"
            ]
          },
          "metadata": {},
          "execution_count": 200
        }
      ]
    },
    {
      "cell_type": "code",
      "metadata": {
        "id": "snjsSF8Hqoyo"
      },
      "source": [
        "y_train_preds = clf.predict(X_train)\n",
        "y_test_preds = clf.predict(X_test)"
      ],
      "execution_count": 201,
      "outputs": []
    },
    {
      "cell_type": "code",
      "metadata": {
        "colab": {
          "base_uri": "https://localhost:8080/"
        },
        "id": "mh-8SOUSrQsR",
        "outputId": "f3349544-d626-4899-a5f8-0dd7cba8cc8a"
      },
      "source": [
        "print('The train R2 score is: {}, and the test R2 score is {}'.format(r2_score(y_train, y_train_preds), r2_score(y_test, y_test_preds)))"
      ],
      "execution_count": 202,
      "outputs": [
        {
          "output_type": "stream",
          "name": "stdout",
          "text": [
            "The train R2 score is: 0.9192443489379294, and the test R2 score is 0.4878837420036757\n"
          ]
        }
      ]
    },
    {
      "cell_type": "markdown",
      "metadata": {
        "id": "YEha5Y3zENbf"
      },
      "source": [
        "###SVR Model"
      ]
    },
    {
      "cell_type": "code",
      "metadata": {
        "id": "gKeK7r09043k"
      },
      "source": [
        "SVR = SVR('linear', C=1.0, epsilon=0.2)"
      ],
      "execution_count": 207,
      "outputs": []
    },
    {
      "cell_type": "code",
      "metadata": {
        "colab": {
          "base_uri": "https://localhost:8080/"
        },
        "id": "dM45oXcV-MCO",
        "outputId": "2317742a-bbc8-40ef-c8f0-d21a5a2e9ced"
      },
      "source": [
        "SVR.fit(X_train,y_train)"
      ],
      "execution_count": 208,
      "outputs": [
        {
          "output_type": "execute_result",
          "data": {
            "text/plain": [
              "SVR(C=1.0, cache_size=200, coef0=0.0, degree=3, epsilon=0.2, gamma='scale',\n",
              "    kernel='linear', max_iter=-1, shrinking=True, tol=0.001, verbose=False)"
            ]
          },
          "metadata": {},
          "execution_count": 208
        }
      ]
    },
    {
      "cell_type": "code",
      "metadata": {
        "id": "X_Z3CVmO-SPb"
      },
      "source": [
        "y_train_preds = SVR.predict(X_train)\n",
        "y_test_preds = SVR.predict(X_test)"
      ],
      "execution_count": 209,
      "outputs": []
    },
    {
      "cell_type": "code",
      "metadata": {
        "id": "_eD14ICi-nLQ"
      },
      "source": [
        "train_score = r2_score(y_train, y_train_preds)\n",
        "test_score = r2_score(y_test, y_test_preds)"
      ],
      "execution_count": 210,
      "outputs": []
    },
    {
      "cell_type": "code",
      "metadata": {
        "colab": {
          "base_uri": "https://localhost:8080/"
        },
        "id": "ALs3Mkv_-sG_",
        "outputId": "20924c22-b3ef-4b71-90ff-776b4ca37e38"
      },
      "source": [
        "print('The train R2 score is: {}, and the test R2 score is {}'.format(train_score, test_score))"
      ],
      "execution_count": 211,
      "outputs": [
        {
          "output_type": "stream",
          "name": "stdout",
          "text": [
            "The train R2 score is: 0.3381551612996436, and the test R2 score is 0.3580549998382774\n"
          ]
        }
      ]
    },
    {
      "cell_type": "markdown",
      "metadata": {
        "id": "gY8XfEmbrcy5"
      },
      "source": [
        "###XGboost model"
      ]
    },
    {
      "cell_type": "code",
      "metadata": {
        "id": "SN2yH_KzrwYS"
      },
      "source": [
        "#train XGBoost model\n",
        "xgb = xgboost.XGBRegressor(n_estimators=100, learning_rate=0.1, subsample=0.75,\n",
        "                            max_depth=7)"
      ],
      "execution_count": 203,
      "outputs": []
    },
    {
      "cell_type": "code",
      "metadata": {
        "id": "jQIjD_qXM0-8"
      },
      "source": [
        "#train XGBoost model\n",
        "xgb = xgboost.XGBRegressor(n_estimators=50, learning_rate=0.05, subsample=0.75,\n",
        "                            max_depth=7)"
      ],
      "execution_count": 216,
      "outputs": []
    },
    {
      "cell_type": "code",
      "metadata": {
        "colab": {
          "base_uri": "https://localhost:8080/"
        },
        "id": "KLcSqGggr4lr",
        "outputId": "0ff9e46b-7e21-406a-cae1-cd85abc352e8"
      },
      "source": [
        "xgb.fit(X_train,y_train)"
      ],
      "execution_count": 217,
      "outputs": [
        {
          "output_type": "stream",
          "name": "stdout",
          "text": [
            "[23:06:25] WARNING: /workspace/src/objective/regression_obj.cu:152: reg:linear is now deprecated in favor of reg:squarederror.\n"
          ]
        },
        {
          "output_type": "execute_result",
          "data": {
            "text/plain": [
              "XGBRegressor(base_score=0.5, booster='gbtree', colsample_bylevel=1,\n",
              "             colsample_bynode=1, colsample_bytree=1, gamma=0,\n",
              "             importance_type='gain', learning_rate=0.05, max_delta_step=0,\n",
              "             max_depth=7, min_child_weight=1, missing=None, n_estimators=50,\n",
              "             n_jobs=1, nthread=None, objective='reg:linear', random_state=0,\n",
              "             reg_alpha=0, reg_lambda=1, scale_pos_weight=1, seed=None,\n",
              "             silent=None, subsample=0.75, verbosity=1)"
            ]
          },
          "metadata": {},
          "execution_count": 217
        }
      ]
    },
    {
      "cell_type": "code",
      "metadata": {
        "id": "5ya5z2bSr4jA"
      },
      "source": [
        "y_train_preds = xgb.predict(X_train)\n",
        "y_test_preds = xgb.predict(X_test)"
      ],
      "execution_count": 218,
      "outputs": []
    },
    {
      "cell_type": "code",
      "metadata": {
        "colab": {
          "base_uri": "https://localhost:8080/"
        },
        "id": "95w_yciysKnR",
        "outputId": "bd17a192-3a7a-4b6a-deb7-8b132578e8c8"
      },
      "source": [
        "print('The train R2 score is: {}, and the test R2 score is {}'.format(r2_score(y_train, y_train_preds), r2_score(y_test, y_test_preds)))"
      ],
      "execution_count": 219,
      "outputs": [
        {
          "output_type": "stream",
          "name": "stdout",
          "text": [
            "The train R2 score is: 0.6424865586477666, and the test R2 score is 0.5095390950617028\n"
          ]
        }
      ]
    },
    {
      "cell_type": "markdown",
      "metadata": {
        "id": "92mBscZFO_Mi"
      },
      "source": [
        "#Refinement"
      ]
    },
    {
      "cell_type": "code",
      "metadata": {
        "id": "G_hBkuH1N5Ql"
      },
      "source": [
        "params = {\n",
        "    'xgb__n_estimators': [100, 150],\n",
        "    'xgb__learning_rate': [0.08, 0.1]\n",
        "}"
      ],
      "execution_count": 228,
      "outputs": []
    },
    {
      "cell_type": "code",
      "metadata": {
        "id": "PwgauhsiN5M-"
      },
      "source": [
        "cv = GridSearchCV(xgb, param_grid=params, scoring='r2', verbose=3)"
      ],
      "execution_count": 229,
      "outputs": []
    },
    {
      "cell_type": "code",
      "metadata": {
        "colab": {
          "base_uri": "https://localhost:8080/"
        },
        "id": "beIrQwkfN5KF",
        "outputId": "aff9c96c-22d8-4179-b16b-8148b84067e7"
      },
      "source": [
        "cv.fit(X_train, y_train)"
      ],
      "execution_count": 230,
      "outputs": [
        {
          "output_type": "stream",
          "name": "stdout",
          "text": [
            "Fitting 5 folds for each of 4 candidates, totalling 20 fits\n",
            "[CV] xgb__learning_rate=0.08, xgb__n_estimators=100 ..................\n",
            "[23:30:38] WARNING: /workspace/src/objective/regression_obj.cu:152: reg:linear is now deprecated in favor of reg:squarederror.\n"
          ]
        },
        {
          "output_type": "stream",
          "name": "stderr",
          "text": [
            "[Parallel(n_jobs=1)]: Using backend SequentialBackend with 1 concurrent workers.\n"
          ]
        },
        {
          "output_type": "stream",
          "name": "stdout",
          "text": [
            "[CV]  xgb__learning_rate=0.08, xgb__n_estimators=100, score=0.514, total=   4.0s\n",
            "[CV] xgb__learning_rate=0.08, xgb__n_estimators=100 ..................\n",
            "[23:30:42] WARNING: /workspace/src/objective/regression_obj.cu:152: reg:linear is now deprecated in favor of reg:squarederror.\n"
          ]
        },
        {
          "output_type": "stream",
          "name": "stderr",
          "text": [
            "[Parallel(n_jobs=1)]: Done   1 out of   1 | elapsed:    4.0s remaining:    0.0s\n"
          ]
        },
        {
          "output_type": "stream",
          "name": "stdout",
          "text": [
            "[CV]  xgb__learning_rate=0.08, xgb__n_estimators=100, score=0.501, total=   3.9s\n",
            "[CV] xgb__learning_rate=0.08, xgb__n_estimators=100 ..................\n",
            "[23:30:46] WARNING: /workspace/src/objective/regression_obj.cu:152: reg:linear is now deprecated in favor of reg:squarederror.\n"
          ]
        },
        {
          "output_type": "stream",
          "name": "stderr",
          "text": [
            "[Parallel(n_jobs=1)]: Done   2 out of   2 | elapsed:    7.9s remaining:    0.0s\n"
          ]
        },
        {
          "output_type": "stream",
          "name": "stdout",
          "text": [
            "[CV]  xgb__learning_rate=0.08, xgb__n_estimators=100, score=0.499, total=   3.9s\n",
            "[CV] xgb__learning_rate=0.08, xgb__n_estimators=100 ..................\n",
            "[23:30:50] WARNING: /workspace/src/objective/regression_obj.cu:152: reg:linear is now deprecated in favor of reg:squarederror.\n",
            "[CV]  xgb__learning_rate=0.08, xgb__n_estimators=100, score=0.495, total=   3.9s\n",
            "[CV] xgb__learning_rate=0.08, xgb__n_estimators=100 ..................\n",
            "[23:30:54] WARNING: /workspace/src/objective/regression_obj.cu:152: reg:linear is now deprecated in favor of reg:squarederror.\n",
            "[CV]  xgb__learning_rate=0.08, xgb__n_estimators=100, score=0.491, total=   3.9s\n",
            "[CV] xgb__learning_rate=0.08, xgb__n_estimators=150 ..................\n",
            "[23:30:58] WARNING: /workspace/src/objective/regression_obj.cu:152: reg:linear is now deprecated in favor of reg:squarederror.\n",
            "[CV]  xgb__learning_rate=0.08, xgb__n_estimators=150, score=0.514, total=   4.0s\n",
            "[CV] xgb__learning_rate=0.08, xgb__n_estimators=150 ..................\n",
            "[23:31:01] WARNING: /workspace/src/objective/regression_obj.cu:152: reg:linear is now deprecated in favor of reg:squarederror.\n",
            "[CV]  xgb__learning_rate=0.08, xgb__n_estimators=150, score=0.501, total=   4.0s\n",
            "[CV] xgb__learning_rate=0.08, xgb__n_estimators=150 ..................\n",
            "[23:31:05] WARNING: /workspace/src/objective/regression_obj.cu:152: reg:linear is now deprecated in favor of reg:squarederror.\n",
            "[CV]  xgb__learning_rate=0.08, xgb__n_estimators=150, score=0.499, total=   3.9s\n",
            "[CV] xgb__learning_rate=0.08, xgb__n_estimators=150 ..................\n",
            "[23:31:09] WARNING: /workspace/src/objective/regression_obj.cu:152: reg:linear is now deprecated in favor of reg:squarederror.\n",
            "[CV]  xgb__learning_rate=0.08, xgb__n_estimators=150, score=0.495, total=   3.9s\n",
            "[CV] xgb__learning_rate=0.08, xgb__n_estimators=150 ..................\n",
            "[23:31:13] WARNING: /workspace/src/objective/regression_obj.cu:152: reg:linear is now deprecated in favor of reg:squarederror.\n",
            "[CV]  xgb__learning_rate=0.08, xgb__n_estimators=150, score=0.491, total=   3.9s\n",
            "[CV] xgb__learning_rate=0.1, xgb__n_estimators=100 ...................\n",
            "[23:31:17] WARNING: /workspace/src/objective/regression_obj.cu:152: reg:linear is now deprecated in favor of reg:squarederror.\n",
            "[CV]  xgb__learning_rate=0.1, xgb__n_estimators=100, score=0.514, total=   3.9s\n",
            "[CV] xgb__learning_rate=0.1, xgb__n_estimators=100 ...................\n",
            "[23:31:21] WARNING: /workspace/src/objective/regression_obj.cu:152: reg:linear is now deprecated in favor of reg:squarederror.\n",
            "[CV]  xgb__learning_rate=0.1, xgb__n_estimators=100, score=0.501, total=   3.9s\n",
            "[CV] xgb__learning_rate=0.1, xgb__n_estimators=100 ...................\n",
            "[23:31:25] WARNING: /workspace/src/objective/regression_obj.cu:152: reg:linear is now deprecated in favor of reg:squarederror.\n",
            "[CV]  xgb__learning_rate=0.1, xgb__n_estimators=100, score=0.499, total=   3.9s\n",
            "[CV] xgb__learning_rate=0.1, xgb__n_estimators=100 ...................\n",
            "[23:31:29] WARNING: /workspace/src/objective/regression_obj.cu:152: reg:linear is now deprecated in favor of reg:squarederror.\n",
            "[CV]  xgb__learning_rate=0.1, xgb__n_estimators=100, score=0.495, total=   3.9s\n",
            "[CV] xgb__learning_rate=0.1, xgb__n_estimators=100 ...................\n",
            "[23:31:33] WARNING: /workspace/src/objective/regression_obj.cu:152: reg:linear is now deprecated in favor of reg:squarederror.\n",
            "[CV]  xgb__learning_rate=0.1, xgb__n_estimators=100, score=0.491, total=   3.9s\n",
            "[CV] xgb__learning_rate=0.1, xgb__n_estimators=150 ...................\n",
            "[23:31:37] WARNING: /workspace/src/objective/regression_obj.cu:152: reg:linear is now deprecated in favor of reg:squarederror.\n",
            "[CV]  xgb__learning_rate=0.1, xgb__n_estimators=150, score=0.514, total=   3.9s\n",
            "[CV] xgb__learning_rate=0.1, xgb__n_estimators=150 ...................\n",
            "[23:31:41] WARNING: /workspace/src/objective/regression_obj.cu:152: reg:linear is now deprecated in favor of reg:squarederror.\n",
            "[CV]  xgb__learning_rate=0.1, xgb__n_estimators=150, score=0.501, total=   3.9s\n",
            "[CV] xgb__learning_rate=0.1, xgb__n_estimators=150 ...................\n",
            "[23:31:45] WARNING: /workspace/src/objective/regression_obj.cu:152: reg:linear is now deprecated in favor of reg:squarederror.\n",
            "[CV]  xgb__learning_rate=0.1, xgb__n_estimators=150, score=0.499, total=   3.9s\n",
            "[CV] xgb__learning_rate=0.1, xgb__n_estimators=150 ...................\n",
            "[23:31:48] WARNING: /workspace/src/objective/regression_obj.cu:152: reg:linear is now deprecated in favor of reg:squarederror.\n",
            "[CV]  xgb__learning_rate=0.1, xgb__n_estimators=150, score=0.495, total=   3.9s\n",
            "[CV] xgb__learning_rate=0.1, xgb__n_estimators=150 ...................\n",
            "[23:31:52] WARNING: /workspace/src/objective/regression_obj.cu:152: reg:linear is now deprecated in favor of reg:squarederror.\n",
            "[CV]  xgb__learning_rate=0.1, xgb__n_estimators=150, score=0.491, total=   3.9s\n",
            "[23:31:56] WARNING: /workspace/src/objective/regression_obj.cu:152: reg:linear is now deprecated in favor of reg:squarederror.\n"
          ]
        },
        {
          "output_type": "stream",
          "name": "stderr",
          "text": [
            "[Parallel(n_jobs=1)]: Done  20 out of  20 | elapsed:  1.3min finished\n"
          ]
        },
        {
          "output_type": "execute_result",
          "data": {
            "text/plain": [
              "GridSearchCV(cv=None, error_score=nan,\n",
              "             estimator=XGBRegressor(base_score=0.5, booster='gbtree',\n",
              "                                    colsample_bylevel=1, colsample_bynode=1,\n",
              "                                    colsample_bytree=1, gamma=0,\n",
              "                                    importance_type='gain', learning_rate=0.05,\n",
              "                                    max_delta_step=0, max_depth=7,\n",
              "                                    min_child_weight=1, missing=None,\n",
              "                                    n_estimators=50, n_jobs=1, nthread=None,\n",
              "                                    objective='reg:linear', random_state=0,\n",
              "                                    reg_alpha=0, reg_lambda=1,\n",
              "                                    scale_pos_weight=1, seed=None, silent=None,\n",
              "                                    subsample=0.75, verbosity=1),\n",
              "             iid='deprecated', n_jobs=None,\n",
              "             param_grid={'xgb__learning_rate': [0.08, 0.1],\n",
              "                         'xgb__n_estimators': [100, 150]},\n",
              "             pre_dispatch='2*n_jobs', refit=True, return_train_score=False,\n",
              "             scoring='r2', verbose=3)"
            ]
          },
          "metadata": {},
          "execution_count": 230
        }
      ]
    },
    {
      "cell_type": "code",
      "metadata": {
        "colab": {
          "base_uri": "https://localhost:8080/"
        },
        "id": "tPj5f7SERqCq",
        "outputId": "b959ed1d-be3d-4835-8b15-c4c210ce4a79"
      },
      "source": [
        "#Checking the best params\n",
        "cv.best_params_"
      ],
      "execution_count": 231,
      "outputs": [
        {
          "output_type": "execute_result",
          "data": {
            "text/plain": [
              "{'xgb__learning_rate': 0.08, 'xgb__n_estimators': 100}"
            ]
          },
          "metadata": {},
          "execution_count": 231
        }
      ]
    },
    {
      "cell_type": "code",
      "metadata": {
        "id": "1Ggp-SBuSYXA"
      },
      "source": [
        "xgb = xgboost.XGBRegressor(n_estimators=100, learning_rate=0.08, subsample=0.75,\n",
        "                            max_depth=7)"
      ],
      "execution_count": 240,
      "outputs": []
    },
    {
      "cell_type": "code",
      "metadata": {
        "colab": {
          "base_uri": "https://localhost:8080/"
        },
        "id": "iswq-FJZTjoQ",
        "outputId": "e05409ea-0dc3-42f3-e61f-38c0b592ec41"
      },
      "source": [
        "xgb.fit(X_train,y_train)"
      ],
      "execution_count": 241,
      "outputs": [
        {
          "output_type": "stream",
          "name": "stdout",
          "text": [
            "[23:36:29] WARNING: /workspace/src/objective/regression_obj.cu:152: reg:linear is now deprecated in favor of reg:squarederror.\n"
          ]
        },
        {
          "output_type": "execute_result",
          "data": {
            "text/plain": [
              "XGBRegressor(base_score=0.5, booster='gbtree', colsample_bylevel=1,\n",
              "             colsample_bynode=1, colsample_bytree=1, gamma=0,\n",
              "             importance_type='gain', learning_rate=0.08, max_delta_step=0,\n",
              "             max_depth=7, min_child_weight=1, missing=None, n_estimators=100,\n",
              "             n_jobs=1, nthread=None, objective='reg:linear', random_state=0,\n",
              "             reg_alpha=0, reg_lambda=1, scale_pos_weight=1, seed=None,\n",
              "             silent=None, subsample=0.75, verbosity=1)"
            ]
          },
          "metadata": {},
          "execution_count": 241
        }
      ]
    },
    {
      "cell_type": "code",
      "metadata": {
        "id": "pC6aBHuOTpgY"
      },
      "source": [
        "#Predict\n",
        "y_train_preds = xgb.predict(X_train)\n",
        "y_test_preds = xgb.predict(X_test)"
      ],
      "execution_count": 242,
      "outputs": []
    },
    {
      "cell_type": "code",
      "metadata": {
        "colab": {
          "base_uri": "https://localhost:8080/"
        },
        "id": "8dlOR7I2TwZI",
        "outputId": "4765ea1f-e94c-4123-9560-a72e4665b6ad"
      },
      "source": [
        "print('The train R2 score is: {}, and the test R2 score is {}'.format(r2_score(y_train, y_train_preds), r2_score(y_test, y_test_preds)))"
      ],
      "execution_count": 243,
      "outputs": [
        {
          "output_type": "stream",
          "name": "stdout",
          "text": [
            "The train R2 score is: 0.7760108271808667, and the test R2 score is 0.5477201923097432\n"
          ]
        }
      ]
    },
    {
      "cell_type": "code",
      "metadata": {
        "id": "1jmwZnDNTyqQ"
      },
      "source": [
        ""
      ],
      "execution_count": null,
      "outputs": []
    }
  ]
}